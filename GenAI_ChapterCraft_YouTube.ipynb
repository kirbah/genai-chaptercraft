{
  "nbformat": 4,
  "nbformat_minor": 0,
  "metadata": {
    "colab": {
      "provenance": [],
      "authorship_tag": "ABX9TyNE5pVPAu/lJloPCGFmOUmt",
      "include_colab_link": true
    },
    "kernelspec": {
      "name": "python3",
      "display_name": "Python 3"
    },
    "language_info": {
      "name": "python"
    }
  },
  "cells": [
    {
      "cell_type": "markdown",
      "metadata": {
        "id": "view-in-github",
        "colab_type": "text"
      },
      "source": [
        "<a href=\"https://colab.research.google.com/github/kirbah/genai-chaptercraft/blob/main/GenAI_ChapterCraft_YouTube.ipynb\" target=\"_parent\"><img src=\"https://colab.research.google.com/assets/colab-badge.svg\" alt=\"Open In Colab\"/></a>"
      ]
    },
    {
      "cell_type": "markdown",
      "source": [
        "# GenAI ChapterCraft: Automated Video Chapter Generation\n",
        "\n",
        "**Overview:**\n",
        "\n",
        "This notebook demonstrates an automated workflow for generating video chapters using AI. It retrieves a YouTube video transcript, constructs a prompt, and leverages Gemini AI to generate SEO-friendly, timestamped chapters.\n",
        "\n",
        "**Key Features:**\n",
        "\n",
        "- **Transcript Extraction:** Automatically fetches and compiles YouTube video transcripts.\n",
        "- **AI-driven Chapter Creation:** Utilizes Gemini AI to identify topic shifts and generate chapters with timestamps.\n",
        "- **Optimized for Colab:** Designed for efficient execution in Google Colab.\n",
        "\n",
        "**Process:**\n",
        "\n",
        "1. Provide a YouTube video URL.\n",
        "2. Extract and compile the video transcript.\n",
        "3. Format the transcript into a structured prompt.\n",
        "4. Use Gemini AI to generate chapter titles with timestamps.\n",
        "5. Display the generated chapters.\n",
        "\n",
        "**Benefits:**\n",
        "\n",
        "- Saves time by automating chapter creation.\n",
        "- Enhances video searchability and user experience.\n",
        "- Provides an open-source solution leveraging state-of-the-art AI.\n",
        "\n",
        "**Requirements:**\n",
        "\n",
        "- A valid GEMINI_API_KEY from AI Studio (obtain one at: [AI Studio API Key](https://aistudio.google.com/apikey)).\n",
        "\n",
        "**How to Use:**\n",
        "\n",
        "1. Set your GEMINI_API_KEY as an environment variable.\n",
        "2. Run the notebook cells sequentially.\n",
        "3. Enjoy the generated video chapters!"
      ],
      "metadata": {
        "id": "kBlSt37jWpF8"
      }
    },
    {
      "cell_type": "markdown",
      "source": [
        "Install required libraries:\n",
        "- google-generativeai (for Gemini AI)\n",
        "- youtube-transcript-api (to fetch YouTube transcripts)"
      ],
      "metadata": {
        "id": "GNS8DMqMWwwK"
      }
    },
    {
      "cell_type": "code",
      "execution_count": 48,
      "metadata": {
        "id": "GKRxq_jdWfKC"
      },
      "outputs": [],
      "source": [
        "!pip install -q google-generativeai youtube-transcript-api"
      ]
    },
    {
      "cell_type": "code",
      "source": [
        "import os\n",
        "import re\n",
        "from google.colab import userdata\n",
        "from youtube_transcript_api import YouTubeTranscriptApi\n",
        "import google.generativeai as genai"
      ],
      "metadata": {
        "id": "qj982wVvW2vj"
      },
      "execution_count": 49,
      "outputs": []
    },
    {
      "cell_type": "markdown",
      "source": [
        "Define URL of YouTube video to download and prepare transcript"
      ],
      "metadata": {
        "id": "B0J4vTWmXKwv"
      }
    },
    {
      "cell_type": "code",
      "source": [
        "video_url = \"https://www.youtube.com/watch?v=A9WY_HZUK8Q\""
      ],
      "metadata": {
        "id": "p94E8nt6XJ8D"
      },
      "execution_count": 50,
      "outputs": []
    },
    {
      "cell_type": "markdown",
      "source": [
        "Define a function to extract the YouTube video ID from the URL."
      ],
      "metadata": {
        "id": "qelMu4dMW0YI"
      }
    },
    {
      "cell_type": "code",
      "source": [
        "def extract_video_id(url):\n",
        "    \"\"\"Extracts the YouTube video ID from the URL.\"\"\"\n",
        "    match = re.search(r\"(?:v=|youtu\\.be/)([^&?]+)\", url)\n",
        "    if match:\n",
        "        return match.group(1)\n",
        "    raise ValueError(\"Invalid YouTube URL provided.\")\n",
        "\n",
        "# Example video URL and extraction\n",
        "video_id = extract_video_id(video_url)"
      ],
      "metadata": {
        "id": "WJkfGcZaW7FN"
      },
      "execution_count": 51,
      "outputs": []
    },
    {
      "cell_type": "markdown",
      "source": [
        "Retrieve the transcript for the video using the video ID and combine segments into one text."
      ],
      "metadata": {
        "id": "Yb5hSDoeXYhX"
      }
    },
    {
      "cell_type": "code",
      "source": [
        "transcript_segments = YouTubeTranscriptApi.get_transcript(video_id)\n",
        "transcript_text = \"\\n\".join([segment[\"text\"] for segment in transcript_segments])"
      ],
      "metadata": {
        "id": "FPOiDQnnXavg"
      },
      "execution_count": 52,
      "outputs": []
    },
    {
      "cell_type": "code",
      "source": [
        "transcript_text[:500]"
      ],
      "metadata": {
        "colab": {
          "base_uri": "https://localhost:8080/",
          "height": 105
        },
        "id": "dpZGhfvtXgfA",
        "outputId": "fc5fbc68-6f5d-44c6-aa5a-00488ab397c1"
      },
      "execution_count": 53,
      "outputs": [
        {
          "output_type": "execute_result",
          "data": {
            "text/plain": [
              "\"this 400-year old book should have\\nchanged mathematics Forever This Is The\\nSwiss clockmaker Jos bergy's arithmetic\\nand geometric progression tables the\\nbook contains an ingenious mathematical\\nHack That Bergie called red numbers and\\nthe design of a powerful Computing\\ndevice that uses these red numbers\\nhiding on its title page bergy's hack\\nworks by constructing an enormous table\\nof numbers where each number is simply\\nthe previous number time\\n1.001 starting at one and repeating this\\noperation again\""
            ],
            "application/vnd.google.colaboratory.intrinsic+json": {
              "type": "string"
            }
          },
          "metadata": {},
          "execution_count": 53
        }
      ]
    },
    {
      "cell_type": "markdown",
      "source": [
        "Create a structured prompt embedding the transcript and instructions for generating chapters."
      ],
      "metadata": {
        "id": "s4qQ9wRKXiXD"
      }
    },
    {
      "cell_type": "code",
      "source": [
        "prompt = (\n",
        "    \"Based on the following transcript, generate a chapter list following these instructions:\\n\"\n",
        "    \"1. Identify key topic shifts and assign each a starting timestamp in MM:SS format.\\n\"\n",
        "    \"2. Format each chapter as '<timestamp> <chapter title>' (e.g., '00:00 Introduction').\\n\"\n",
        "    \"3. Then, review the chapter list and adjust or remove any misaligned chapter boundaries.\\n\"\n",
        "    \"Only output the final chapter list without extra commentary.\\n\\n\"\n",
        "    \"### Transcript:\\n\"\n",
        "    f\"{transcript_text}\\n\\n\"\n",
        "    \"Chapters:\"\n",
        ")"
      ],
      "metadata": {
        "id": "M9quZlEQXk0A"
      },
      "execution_count": 54,
      "outputs": []
    },
    {
      "cell_type": "markdown",
      "source": [
        "Configure Gemini AI:"
      ],
      "metadata": {
        "id": "S-RbtjKrXq2y"
      }
    },
    {
      "cell_type": "code",
      "source": [
        "gemini_api_key = userdata.get('GEMINI_API_KEY')\n",
        "if not gemini_api_key:\n",
        "    raise ValueError(\"The GEMINI_API_KEY environment variable is not set. Please set it and try again.\")\n",
        "\n",
        "genai.configure(api_key=gemini_api_key)\n",
        "generation_config = {\n",
        "    \"temperature\": 0.5,\n",
        "    \"top_p\": 0.95,\n",
        "    \"top_k\": 64,\n",
        "    \"max_output_tokens\": 500,\n",
        "    \"response_mime_type\": \"text/plain\",\n",
        "}\n",
        "model = genai.GenerativeModel(\n",
        "    model_name=\"gemini-2.0-pro-exp-02-05\",\n",
        "    generation_config=generation_config,\n",
        ")"
      ],
      "metadata": {
        "id": "O4N820WqXszn"
      },
      "execution_count": 55,
      "outputs": []
    },
    {
      "cell_type": "markdown",
      "source": [
        "Send the prompt to Gemini AI and print the generated chapters."
      ],
      "metadata": {
        "id": "_vqj8QTqXu6-"
      }
    },
    {
      "cell_type": "code",
      "source": [
        "chat_session = model.start_chat(history=[])\n",
        "gemini_response = chat_session.send_message(prompt)\n",
        "print(\"Generated Chapters:\\n\")\n",
        "print(gemini_response.text)\n",
        "print(\"Generated using free 'GenAI ChapterCraft' tool.\")"
      ],
      "metadata": {
        "colab": {
          "base_uri": "https://localhost:8080/",
          "height": 277
        },
        "id": "5Mo5JFIzXxaB",
        "outputId": "13ee6b00-fde6-4e63-ea0f-6570b6e520d9"
      },
      "execution_count": 56,
      "outputs": [
        {
          "output_type": "stream",
          "name": "stdout",
          "text": [
            "Generated Chapters:\n",
            "\n",
            "00:00 Introduction\n",
            "00:22 Bergie's Black and Red Numbers\n",
            "01:10 Multiplication with Bergie's Tables\n",
            "02:05 Other Mathematical Operations\n",
            "02:45 Bergie's Title Page and the Slide Rule\n",
            "03:23 How the Slide Rule Works\n",
            "04:38 Division with the Slide Rule\n",
            "05:12 Limitations and Real-World Use\n",
            "05:30 Bergie's Secrecy and Kepler's Frustration\n",
            "06:04 John Napier and Logarithms\n",
            "06:46 Logarithms Today and Brilliant.org Promotion\n",
            "\n",
            "Generated using free 'GenAI ChapterCraft' tool.\n"
          ]
        }
      ]
    }
  ]
}