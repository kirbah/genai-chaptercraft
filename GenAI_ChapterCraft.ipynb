{
  "nbformat": 4,
  "nbformat_minor": 0,
  "metadata": {
    "colab": {
      "provenance": [],
      "authorship_tag": "ABX9TyPTCd+ydRuFo5RieAFRV3Yt",
      "include_colab_link": true
    },
    "kernelspec": {
      "name": "python3",
      "display_name": "Python 3"
    },
    "language_info": {
      "name": "python"
    }
  },
  "cells": [
    {
      "cell_type": "markdown",
      "metadata": {
        "id": "view-in-github",
        "colab_type": "text"
      },
      "source": [
        "<a href=\"https://colab.research.google.com/github/kirbah/genai-chaptercraft/blob/main/GenAI_ChapterCraft.ipynb\" target=\"_parent\"><img src=\"https://colab.research.google.com/assets/colab-badge.svg\" alt=\"Open In Colab\"/></a>"
      ]
    },
    {
      "cell_type": "markdown",
      "source": [
        "It is running faster with T4 GPU but may slowly work with CPU only.\n",
        "\n",
        "Define the video URL (change this to any supported video URL).\n",
        "\n",
        "Youtube videos download is not working due to https://github.com/yt-dlp/yt-dlp/issues/11868"
      ],
      "metadata": {
        "id": "SO53G_1cxQtl"
      }
    },
    {
      "cell_type": "code",
      "execution_count": 59,
      "metadata": {
        "id": "CeM35Kl9xI29"
      },
      "outputs": [],
      "source": [
        "#video_url = \"https://www.youtube.com/watch?v=cJuO985zF8E\"\n",
        "video_url = \"https://vimeo.com/1013516281\""
      ]
    },
    {
      "cell_type": "markdown",
      "source": [
        "Install necessary libraries"
      ],
      "metadata": {
        "id": "5hzM3x8ox2ju"
      }
    },
    {
      "cell_type": "code",
      "source": [
        "!pip install -q yt_dlp\n",
        "!pip install -q transformers\n",
        "!pip install -q huggingface_hub"
      ],
      "metadata": {
        "id": "BwYQRY1Cx3yv"
      },
      "execution_count": 60,
      "outputs": []
    },
    {
      "cell_type": "markdown",
      "source": [
        "Import libraries"
      ],
      "metadata": {
        "id": "MA6vFDSDyhOM"
      }
    },
    {
      "cell_type": "code",
      "source": [
        "import gc\n",
        "from typing import Any, Dict\n",
        "\n",
        "import torch\n",
        "import yt_dlp\n",
        "from transformers import AutoModelForSpeechSeq2Seq, AutoProcessor, pipeline\n",
        "from google.colab import userdata\n",
        "from huggingface_hub import login, InferenceClient"
      ],
      "metadata": {
        "id": "Kkex322Pyh2I"
      },
      "execution_count": 61,
      "outputs": []
    },
    {
      "cell_type": "markdown",
      "source": [
        "Download video, extract audio and get the filename"
      ],
      "metadata": {
        "id": "DqD-JvpZzTHC"
      }
    },
    {
      "cell_type": "code",
      "source": [
        "def download_audio(url):\n",
        "    ydl_opts = {\n",
        "        'format': 'bestaudio/best',\n",
        "        'postprocessors': [{\n",
        "            'key': 'FFmpegExtractAudio',\n",
        "            'preferredcodec': 'mp3',\n",
        "            'preferredquality': '192',\n",
        "        }],\n",
        "    }\n",
        "\n",
        "    with yt_dlp.YoutubeDL(ydl_opts) as ydl:\n",
        "        info = ydl.extract_info(url, download=True)\n",
        "        audio_file = ydl.prepare_filename(info)\n",
        "        if not audio_file.endswith('.mp3'):\n",
        "             audio_file = audio_file.rsplit('.', 1)[0] + '.mp3'\n",
        "\n",
        "    return audio_file\n",
        "\n",
        "# Download and get the filename.\n",
        "audio_file = download_audio(video_url)\n",
        "\n",
        "if audio_file:\n",
        "  print(\"Audio file saved as:\", audio_file)\n",
        "else:\n",
        "  print(\"Failed to get audio file.\")"
      ],
      "metadata": {
        "colab": {
          "base_uri": "https://localhost:8080/"
        },
        "id": "XMixGdiszXZT",
        "outputId": "5580247f-14a5-4866-fbd1-20d09ea6d510"
      },
      "execution_count": 62,
      "outputs": [
        {
          "output_type": "stream",
          "name": "stdout",
          "text": [
            "[vimeo] Extracting URL: https://vimeo.com/1013516281\n",
            "[vimeo] 1013516281: Downloading webpage\n"
          ]
        },
        {
          "output_type": "stream",
          "name": "stderr",
          "text": [
            "WARNING: [vimeo] The extractor is attempting impersonation, but no impersonate target is available; if you encounter errors, then see  https://github.com/yt-dlp/yt-dlp#impersonation  for information on installing the required dependencies\n"
          ]
        },
        {
          "output_type": "stream",
          "name": "stdout",
          "text": [
            "[vimeo] 1013516281: Downloading viewer info\n",
            "[vimeo] 1013516281: Downloading API JSON\n",
            "[vimeo] 1013516281: Downloading JSON metadata\n",
            "[vimeo] 1013516281: Downloading akfire_interconnect_quic m3u8 information\n",
            "[vimeo] 1013516281: Downloading fastly_skyfire m3u8 information\n",
            "[vimeo] 1013516281: Downloading akfire_interconnect_quic MPD information\n"
          ]
        },
        {
          "output_type": "stream",
          "name": "stderr",
          "text": [
            "WARNING: [vimeo] 1013516281: Failed to parse XML: not well-formed (invalid token): line 1, column 0\n"
          ]
        },
        {
          "output_type": "stream",
          "name": "stdout",
          "text": [
            "[vimeo] 1013516281: Downloading fastly_skyfire MPD information\n"
          ]
        },
        {
          "output_type": "stream",
          "name": "stderr",
          "text": [
            "WARNING: [vimeo] 1013516281: Failed to parse XML: not well-formed (invalid token): line 1, column 0\n"
          ]
        },
        {
          "output_type": "stream",
          "name": "stdout",
          "text": [
            "[info] 1013516281: Downloading 1 format(s): hls-fastly_skyfire-audio-high-Nederlands\n",
            "[hlsnative] Downloading m3u8 manifest\n",
            "[hlsnative] Total fragments: 40\n",
            "[download] Destination: MyFarys - Ik ben al klant bij Farys [1013516281].mp4\n",
            "[download] 100% of    5.61MiB in 00:00:02 at 2.49MiB/s                 \n",
            "[FixupM3u8] Fixing MPEG-TS in MP4 container of \"MyFarys - Ik ben al klant bij Farys [1013516281].mp4\"\n",
            "[ExtractAudio] Destination: MyFarys - Ik ben al klant bij Farys [1013516281].mp3\n",
            "Deleting original file MyFarys - Ik ben al klant bij Farys [1013516281].mp4 (pass -k to keep)\n",
            "Audio file saved as: MyFarys - Ik ben al klant bij Farys [1013516281].mp3\n"
          ]
        }
      ]
    },
    {
      "cell_type": "markdown",
      "source": [
        "Prepare to run speach recognition locally using [openai/whisper-large-v3-turbo](https://huggingface.co/openai/whisper-large-v3-turbo) model"
      ],
      "metadata": {
        "id": "MwWTdwqL9z5m"
      }
    },
    {
      "cell_type": "code",
      "source": [
        "if torch.cuda.is_available():\n",
        "    device = \"cuda:0\"\n",
        "    torch_dtype = torch.float16\n",
        "    model_id = \"openai/whisper-large-v3-turbo\"\n",
        "    batch_size = 16\n",
        "    stride_length_s_tuple = (4, 2)\n",
        "else:\n",
        "    device = \"cpu\"\n",
        "    torch_dtype = torch.float32\n",
        "    model_id = \"openai/whisper-tiny\"\n",
        "    batch_size = 2\n",
        "    stride_length_s_tuple = None\n",
        "\n",
        "model = AutoModelForSpeechSeq2Seq.from_pretrained(\n",
        "    model_id, torch_dtype=torch_dtype, low_cpu_mem_usage=True, use_safetensors=True\n",
        ")\n",
        "model.to(device)\n",
        "\n",
        "processor = AutoProcessor.from_pretrained(model_id)\n",
        "\n",
        "pipe = pipeline(\n",
        "    \"automatic-speech-recognition\",\n",
        "    model=model,\n",
        "    tokenizer=processor.tokenizer,\n",
        "    feature_extractor=processor.feature_extractor,\n",
        "    torch_dtype=torch_dtype,\n",
        "    device=device,\n",
        ")"
      ],
      "metadata": {
        "colab": {
          "base_uri": "https://localhost:8080/"
        },
        "id": "R-vcoG_-92Mm",
        "outputId": "d9b70061-50d0-495c-b7e9-7614ca9bc102"
      },
      "execution_count": 63,
      "outputs": [
        {
          "output_type": "stream",
          "name": "stderr",
          "text": [
            "Device set to use cpu\n"
          ]
        }
      ]
    },
    {
      "cell_type": "markdown",
      "source": [
        "Run text recognition, enabling batching and chunking for better result"
      ],
      "metadata": {
        "id": "tLnjwpLb98NT"
      }
    },
    {
      "cell_type": "code",
      "source": [
        "transcribed_text = pipe(audio_file,\n",
        "                        chunk_length_s=10,\n",
        "                        stride_length_s=stride_length_s_tuple,\n",
        "                        batch_size=batch_size,\n",
        "                        return_timestamps=True)"
      ],
      "metadata": {
        "colab": {
          "base_uri": "https://localhost:8080/"
        },
        "id": "vUeqsuvH-Apz",
        "outputId": "11ba4d9b-fa57-4f88-8c3c-221eeab00a4b"
      },
      "execution_count": 64,
      "outputs": [
        {
          "output_type": "stream",
          "name": "stderr",
          "text": [
            "/usr/local/lib/python3.11/dist-packages/transformers/models/whisper/generation_whisper.py:573: FutureWarning: The input name `inputs` is deprecated. Please make sure to use `input_features` instead.\n",
            "  warnings.warn(\n",
            "Whisper did not predict an ending timestamp, which can happen if audio is cut off in the middle of a word. Also make sure WhisperTimeStampLogitsProcessor was used during generation.\n"
          ]
        }
      ]
    },
    {
      "cell_type": "markdown",
      "source": [
        "Result of transcribtion"
      ],
      "metadata": {
        "id": "WNUxyXKr-GHO"
      }
    },
    {
      "cell_type": "code",
      "source": [
        "transcribed_text"
      ],
      "metadata": {
        "colab": {
          "base_uri": "https://localhost:8080/"
        },
        "id": "92ZP0vZ4-Kab",
        "outputId": "eb7f6be9-5424-4e52-b089-9873dd53ad71"
      },
      "execution_count": 65,
      "outputs": [
        {
          "output_type": "execute_result",
          "data": {
            "text/plain": [
              "{'text': \" Open the website www.fareism.de Baby, Pint Faris, Pindee, Can you raise both an and order click and up my Faris? Call me for the ear, up my Faris, and happy there's no Hieno here. Komi volt értat majd fáris, ennáppi de snakén loghin, tanzója értat mutteréj is tréj. Jó húf tédréjztre, hogy már inkét a dolópen. Tának, Je hoeft deze registraatimaar in die het doorlopen. Dan kan je slot aan melden met jou in noggegevens. Registreven is invoordig en kan in en klikklikken. Eerst zou je een kusom te maken tussen ik ben nog geen klant, v ik ben ook klantwever is. Ben je ook klangwefaris. Ben je ook klangwefaris, dan klik je op de onderste knop. Ik ben ook klangwefaris. Dit wil zeggen dat je allen planen over bij ons hebt, dus je hebt dat facturen of priefen met je ook landen maar voor ontvangen van ons. Is dat niet het geval? Klik dan op de knop voorgege en goud dan verder, wie had ik knop ik ben nog hinkland. In CDS kunnen we het gemaakt dan kan je starten met rice rassie. Hier bevel je in de betekent er, je maelabraat in. Ik kies er een wachtvoord dat de minste achterkarenk te slang is en drie wanden vaner tekenes bevat. Een hoofdletter, kleine letter, severs of simbole. Vull jouw wachtwoord, een herhalje wachtwoord. Fill your whiteboard and her higher whiteboard. Click the front of the phone. voor vond. Hier heeft jouw clown nummer en contractregning nummer in. İngilizce Hvis nittet røs, klik den bovenan opp hølb nore. Wenn ihr in Niveklanz ein bisschen noch gehen fakturen, Ben je een nieuwe klant en heb je nog geen facturen ontvangen, dan kan je deze nummer ook vinden op jouw bevesting ze brief voor overname drinkwater leefd. We gaan we een verstandig vond over de name drinkvoud. Hier is nu jouwning nummer en. Fink an for akcenten. Think and for acceptation, click up I can hear robot. Click on the priest. klik op reestreeer. Als je alles goed hebt in een gevoel dan krijg je de bevesting dat er een Miel werd verstuurd naar je oméladres om jouw account te activeren. Kavervolgens naar je oumélbox en openen mail. een opendende mael. Klik op de knop om je aan de oude account activiert. count to activate. Your restraties are current and you have now in my father's account from off je jouw goorn aan melden en hoeveel je je er niet nog instreekstreer. Melden u aan met je oagreft en wachtvoord. Klik op aan Maldon. To ask you to touch on my Far East Coast. De eten keer dat je al mijn fahr is komt, moet je de kookies aanvaren. Vier het minu kan je terugvinden wat je allemaal kan radplegen of wijzken via mafaris. Zo kan je bijvoorbeeld jouw watervulprek opvoren en metersvantoor geven. Je of actuur en radplegen en beheerden en een domicilering aanvragen. Een overnamezelfdorg geven, klik hiervoor op wat rorovering constanten van nere watrovering constant op jeau naar wil zetten of klik op een vatroveringpen, wanneer je een waterovering komt, zwens oefredd dragen naar een andere party. Welkom, P. Vá com bem mais fares.\",\n",
              " 'chunks': [{'timestamp': (0.0, 13.67),\n",
              "   'text': ' Open the website www.fareism.de Baby, Pint Faris, Pindee, Can you raise both an and order click and up my Faris?'},\n",
              "  {'timestamp': (13.67, 16.89),\n",
              "   'text': \" Call me for the ear, up my Faris, and happy there's no Hieno here. Komi volt értat majd fáris, ennáppi de snakén loghin,\"},\n",
              "  {'timestamp': (16.89, 19.39), 'text': ' tanzója értat mutteréj is tréj.'},\n",
              "  {'timestamp': (19.39, 22.9),\n",
              "   'text': ' Jó húf tédréjztre, hogy már inkét a dolópen. Tának, Je hoeft deze registraatimaar in die het doorlopen.'},\n",
              "  {'timestamp': (22.9, 26.0),\n",
              "   'text': ' Dan kan je slot aan melden met jou in noggegevens.'},\n",
              "  {'timestamp': (26.0, 29.63),\n",
              "   'text': ' Registreven is invoordig en kan in en klikklikken.'},\n",
              "  {'timestamp': (29.63, 33.59),\n",
              "   'text': ' Eerst zou je een kusom te maken tussen ik ben nog geen klant,'},\n",
              "  {'timestamp': (33.59, 35.33),\n",
              "   'text': ' v ik ben ook klantwever is. Ben je ook klangwefaris.'},\n",
              "  {'timestamp': (35.33, 39.01),\n",
              "   'text': ' Ben je ook klangwefaris, dan klik je op de onderste knop.'},\n",
              "  {'timestamp': (39.01, 41.01), 'text': ' Ik ben ook klangwefaris.'},\n",
              "  {'timestamp': (41.01, 45.52),\n",
              "   'text': ' Dit wil zeggen dat je allen planen over bij ons hebt, dus je hebt'},\n",
              "  {'timestamp': (45.52, 49.99),\n",
              "   'text': ' dat facturen of priefen met je ook landen maar voor ontvangen van ons.'},\n",
              "  {'timestamp': (49.99, 51.75), 'text': ' Is dat niet het geval?'},\n",
              "  {'timestamp': (51.75, 57.89),\n",
              "   'text': ' Klik dan op de knop voorgege en goud dan verder, wie had ik knop ik ben nog hinkland.'},\n",
              "  {'timestamp': (58.89, 63.4),\n",
              "   'text': ' In CDS kunnen we het gemaakt dan kan je starten met rice rassie.'},\n",
              "  {'timestamp': (63.4, 67.0),\n",
              "   'text': ' Hier bevel je in de betekent er, je maelabraat in.'},\n",
              "  {'timestamp': (75.97, 80.01),\n",
              "   'text': ' Ik kies er een wachtvoord dat de minste achterkarenk te slang is en drie wanden vaner tekenes bevat. Een hoofdletter, kleine letter, severs of simbole.'},\n",
              "  {'timestamp': (80.01, 85.0),\n",
              "   'text': ' Vull jouw wachtwoord, een herhalje wachtwoord. Fill your whiteboard and her higher whiteboard.'},\n",
              "  {'timestamp': (86.0, 88.67),\n",
              "   'text': ' Click the front of the phone. voor vond.'},\n",
              "  {'timestamp': (90.67, 117.41),\n",
              "   'text': ' Hier heeft jouw clown nummer en contractregning nummer in. İngilizce Hvis nittet røs, klik den bovenan opp hølb nore. Wenn ihr in Niveklanz ein bisschen noch gehen fakturen, Ben je een nieuwe klant en heb je nog geen facturen ontvangen,'},\n",
              "  {'timestamp': (117.41, 123.48),\n",
              "   'text': ' dan kan je deze nummer ook vinden op jouw bevesting ze brief voor overname drinkwater leefd. We gaan we een verstandig vond over de name drinkvoud.'},\n",
              "  {'timestamp': (123.48, 140.33),\n",
              "   'text': ' Hier is nu jouwning nummer en. Fink an for akcenten. Think and for acceptation, click up I can hear robot.'},\n",
              "  {'timestamp': (140.33, 151.59),\n",
              "   'text': ' Click on the priest. klik op reestreeer. Als je alles goed hebt in een gevoel dan krijg je de bevesting dat er een Miel werd verstuurd naar je oméladres om jouw account te activeren.'},\n",
              "  {'timestamp': (151.59, 155.33),\n",
              "   'text': ' Kavervolgens naar je oumélbox en openen mail. een opendende mael.'},\n",
              "  {'timestamp': (158.61, 172.67),\n",
              "   'text': \" Klik op de knop om je aan de oude account activiert. count to activate. Your restraties are current and you have now in my father's account from off je jouw goorn aan melden en hoeveel je je er niet nog instreekstreer.\"},\n",
              "  {'timestamp': (173.67, 179.33),\n",
              "   'text': ' Melden u aan met je oagreft en wachtvoord.'},\n",
              "  {'timestamp': (179.33, 187.0), 'text': ' Klik op aan Maldon.'},\n",
              "  {'timestamp': (187.0, 192.67),\n",
              "   'text': ' To ask you to touch on my Far East Coast. De eten keer dat je al mijn fahr is komt, moet je de kookies aanvaren.'},\n",
              "  {'timestamp': (194.67, 200.85),\n",
              "   'text': ' Vier het minu kan je terugvinden wat je allemaal kan radplegen of wijzken via mafaris.'},\n",
              "  {'timestamp': (200.85, 206.48),\n",
              "   'text': ' Zo kan je bijvoorbeeld jouw watervulprek opvoren en metersvantoor geven.'},\n",
              "  {'timestamp': (206.48, 211.57),\n",
              "   'text': ' Je of actuur en radplegen en beheerden en een domicilering aanvragen.'},\n",
              "  {'timestamp': (211.57, 219.81),\n",
              "   'text': ' Een overnamezelfdorg geven, klik hiervoor op wat rorovering constanten van nere watrovering constant op jeau naar wil zetten'},\n",
              "  {'timestamp': (219.81, 227.0),\n",
              "   'text': ' of klik op een vatroveringpen, wanneer je een waterovering komt, zwens oefredd dragen naar een andere party.'},\n",
              "  {'timestamp': (230.95, None), 'text': ' Welkom, P. Vá com bem mais fares.'}]}"
            ]
          },
          "metadata": {},
          "execution_count": 65
        }
      ]
    },
    {
      "cell_type": "code",
      "source": [
        "# Clear the GPU cache\n",
        "torch.cuda.empty_cache()\n",
        "\n",
        "# Run garbage collection\n",
        "gc.collect()"
      ],
      "metadata": {
        "colab": {
          "base_uri": "https://localhost:8080/"
        },
        "collapsed": true,
        "id": "iU0aGqiZAY34",
        "outputId": "64bcbfab-efe1-4981-ede0-42fefce5f059"
      },
      "execution_count": 66,
      "outputs": [
        {
          "output_type": "execute_result",
          "data": {
            "text/plain": [
              "9"
            ]
          },
          "metadata": {},
          "execution_count": 66
        }
      ]
    },
    {
      "cell_type": "markdown",
      "source": [
        "Convert transript to SRT format"
      ],
      "metadata": {
        "id": "nYxtNNBF4_T9"
      }
    },
    {
      "cell_type": "code",
      "source": [
        "def seconds_to_srt_time(seconds):\n",
        "    \"\"\"Convert seconds to SRT time format (HH:MM:SS,mmm).\"\"\"\n",
        "    # Check if seconds is None or not a number\n",
        "    if seconds is None or not isinstance(seconds, (int, float)):\n",
        "        return \"00:00:00,000\"  # Default value for unknown time\n",
        "\n",
        "    hours = int(seconds // 3600)\n",
        "    minutes = int((seconds % 3600) // 60)\n",
        "    secs = int(seconds % 60)\n",
        "    millis = int((seconds - int(seconds)) * 1000)\n",
        "    return f\"{hours:02}:{minutes:02}:{secs:02},{millis:03}\"\n",
        "\n",
        "def convert_to_srt(transcribed_text):\n",
        "    \"\"\"Convert Whisper transcription chunks into SRT format.\"\"\"\n",
        "    srt_output = []\n",
        "    # Check if chunks exist in the result.\n",
        "    if \"chunks\" in transcribed_text:\n",
        "        for i, chunk in enumerate(transcribed_text[\"chunks\"], start=1):\n",
        "            if chunk.get(\"timestamp\") is not None:\n",
        "                 start_time = seconds_to_srt_time(chunk[\"timestamp\"][0])\n",
        "                 end_time = seconds_to_srt_time(chunk[\"timestamp\"][1])\n",
        "                 srt_output.append(f\"{i}\\n{start_time} --> {end_time}\\n{chunk['text']}\\n\")\n",
        "            else:\n",
        "                 srt_output.append(f\"{i}\\n{chunk['text']}\\n\")\n",
        "        return \"\\n\".join(srt_output)\n",
        "    else:\n",
        "        print(\"No chunks found in transcription. returning plain text\")\n",
        "        return transcribed_text[\"text\"]\n",
        "\n",
        "# Convert transcript chunks to SRT format\n",
        "srt_text = convert_to_srt(transcribed_text)"
      ],
      "metadata": {
        "id": "7MO2y9p75ACb"
      },
      "execution_count": 67,
      "outputs": []
    },
    {
      "cell_type": "code",
      "source": [
        "srt_text"
      ],
      "metadata": {
        "colab": {
          "base_uri": "https://localhost:8080/",
          "height": 157
        },
        "id": "jXntgrjF5Fu9",
        "outputId": "e1686b2d-51d6-44c8-fda2-9ed9bff90de0"
      },
      "execution_count": 68,
      "outputs": [
        {
          "output_type": "execute_result",
          "data": {
            "text/plain": [
              "\"1\\n00:00:00,000 --> 00:00:13,669\\n Open the website www.fareism.de Baby, Pint Faris, Pindee, Can you raise both an and order click and up my Faris?\\n\\n2\\n00:00:13,669 --> 00:00:16,890\\n Call me for the ear, up my Faris, and happy there's no Hieno here. Komi volt értat majd fáris, ennáppi de snakén loghin,\\n\\n3\\n00:00:16,890 --> 00:00:19,390\\n tanzója értat mutteréj is tréj.\\n\\n4\\n00:00:19,390 --> 00:00:22,899\\n Jó húf tédréjztre, hogy már inkét a dolópen. Tának, Je hoeft deze registraatimaar in die het doorlopen.\\n\\n5\\n00:00:22,899 --> 00:00:26,000\\n Dan kan je slot aan melden met jou in noggegevens.\\n\\n6\\n00:00:26,000 --> 00:00:29,629\\n Registreven is invoordig en kan in en klikklikken.\\n\\n7\\n00:00:29,629 --> 00:00:33,590\\n Eerst zou je een kusom te maken tussen ik ben nog geen klant,\\n\\n8\\n00:00:33,590 --> 00:00:35,329\\n v ik ben ook klantwever is. Ben je ook klangwefaris.\\n\\n9\\n00:00:35,329 --> 00:00:39,009\\n Ben je ook klangwefaris, dan klik je op de onderste knop.\\n\\n10\\n00:00:39,009 --> 00:00:41,009\\n Ik ben ook klangwefaris.\\n\\n11\\n00:00:41,009 --> 00:00:45,520\\n Dit wil zeggen dat je allen planen over bij ons hebt, dus je hebt\\n\\n12\\n00:00:45,520 --> 00:00:49,990\\n dat facturen of priefen met je ook landen maar voor ontvangen van ons.\\n\\n13\\n00:00:49,990 --> 00:00:51,750\\n Is dat niet het geval?\\n\\n14\\n00:00:51,750 --> 00:00:57,890\\n Klik dan op de knop voorgege en goud dan verder, wie had ik knop ik ben nog hinkland.\\n\\n15\\n00:00:58,890 --> 00:01:03,399\\n In CDS kunnen we het gemaakt dan kan je starten met rice rassie.\\n\\n16\\n00:01:03,399 --> 00:01:07,000\\n Hier bevel je in de betekent er, je maelabraat in.\\n\\n17\\n00:01:15,969 --> 00:01:20,010\\n Ik kies er een wachtvoord dat de minste achterkarenk te slang is en drie wanden vaner tekenes bevat. Een hoofdletter, kleine letter, severs of simbole.\\n\\n18\\n00:01:20,010 --> 00:01:25,000\\n Vull jouw wachtwoord, een herhalje wachtwoord. Fill your whiteboard and her higher whiteboard.\\n\\n19\\n00:01:26,000 --> 00:01:28,670\\n Click the front of the phone. voor vond.\\n\\n20\\n00:01:30,670 --> 00:01:57,409\\n Hier heeft jouw clown nummer en contractregning nummer in. İngilizce Hvis nittet røs, klik den bovenan opp hølb nore. Wenn ihr in Niveklanz ein bisschen noch gehen fakturen, Ben je een nieuwe klant en heb je nog geen facturen ontvangen,\\n\\n21\\n00:01:57,409 --> 00:02:03,480\\n dan kan je deze nummer ook vinden op jouw bevesting ze brief voor overname drinkwater leefd. We gaan we een verstandig vond over de name drinkvoud.\\n\\n22\\n00:02:03,480 --> 00:02:20,330\\n Hier is nu jouwning nummer en. Fink an for akcenten. Think and for acceptation, click up I can hear robot.\\n\\n23\\n00:02:20,330 --> 00:02:31,590\\n Click on the priest. klik op reestreeer. Als je alles goed hebt in een gevoel dan krijg je de bevesting dat er een Miel werd verstuurd naar je oméladres om jouw account te activeren.\\n\\n24\\n00:02:31,590 --> 00:02:35,330\\n Kavervolgens naar je oumélbox en openen mail. een opendende mael.\\n\\n25\\n00:02:38,610 --> 00:02:52,669\\n Klik op de knop om je aan de oude account activiert. count to activate. Your restraties are current and you have now in my father's account from off je jouw goorn aan melden en hoeveel je je er niet nog instreekstreer.\\n\\n26\\n00:02:53,669 --> 00:02:59,330\\n Melden u aan met je oagreft en wachtvoord.\\n\\n27\\n00:02:59,330 --> 00:03:07,000\\n Klik op aan Maldon.\\n\\n28\\n00:03:07,000 --> 00:03:12,669\\n To ask you to touch on my Far East Coast. De eten keer dat je al mijn fahr is komt, moet je de kookies aanvaren.\\n\\n29\\n00:03:14,669 --> 00:03:20,849\\n Vier het minu kan je terugvinden wat je allemaal kan radplegen of wijzken via mafaris.\\n\\n30\\n00:03:20,849 --> 00:03:26,479\\n Zo kan je bijvoorbeeld jouw watervulprek opvoren en metersvantoor geven.\\n\\n31\\n00:03:26,479 --> 00:03:31,569\\n Je of actuur en radplegen en beheerden en een domicilering aanvragen.\\n\\n32\\n00:03:31,569 --> 00:03:39,810\\n Een overnamezelfdorg geven, klik hiervoor op wat rorovering constanten van nere watrovering constant op jeau naar wil zetten\\n\\n33\\n00:03:39,810 --> 00:03:47,000\\n of klik op een vatroveringpen, wanneer je een waterovering komt, zwens oefredd dragen naar een andere party.\\n\\n34\\n00:03:50,949 --> 00:00:00,000\\n Welkom, P. Vá com bem mais fares.\\n\""
            ],
            "application/vnd.google.colaboratory.intrinsic+json": {
              "type": "string"
            }
          },
          "metadata": {},
          "execution_count": 68
        }
      ]
    },
    {
      "cell_type": "markdown",
      "source": [
        "Login to Hugging Face. Make sure that HF_TOKEN is set in the userdata secrets. New token can be created on the https://huggingface.co/settings/tokens page.\n",
        "\n",
        " ![hf_token.png](data:image/png;base64,iVBORw0KGgoAAAANSUhEUgAAAksAAACYCAYAAAD0iK2qAAAAAXNSR0IArs4c6QAAAARnQU1BAACxjwv8YQUAAAAJcEhZcwAAEnQAABJ0Ad5mH3gAAC1tSURBVHhe7Z19cFTXmeb9x/61maqtrcx+zU5tt8upTnZqm1RqmymnIscpC2NbBAfhD5DXE8sBI+KEJmKwwMEyNpE/sMDZseK16DgG+QMUEsbCy9CsCU3GRtgmCIdYjjFNLEtOsGkDpi2BWgj0bJ37fc/96NtSt7oRz6/qjdPnnHvuud1H9zyc973vvQKEEEIIIcSTK+QCQgghhBBiQrFECCGEEOIDxRIhhBBCiA8US4QQQgghPlAsEUIIIYT4QLFEyGVG7z/VIHZdM1JDcg0hhBA3po5YOp5Ey/xqRK8KIRQKIXRVFDWNHeg5JTck5PKmZ/U0hK5qQHJQriGEEOLG1BBLxxKoEQIpVoum9i4kdyTR1R5HtRBOV9Wio08+oMzsjiuCLr5briAVRV8C1aEQqtsH5JryszuOsDKHxuQaQgghRWYKiKUcuhaJ3aR6dGWlqmwX6oWIWtSFnFRVViiWLg0olgghhEwNsTSAxMwQQjMTcC5pOSSXxxD7Rgu6LWUDO5pQE9XcdZEqNLT3wKGzDiTQcG1EbROKoGp+K1KGSy+FuChv7ET3mhpElP+f0up8+tcWX7VP3eLQj7RjXlfPIctYroo5x5sbQHJNHaoiLue09dWG7l3S2DamkUMWPe0N5vHRGjTtyljP4H9dPuT6kmiaHTWuNzo7js4jknQ91YOOxhrTheo4v/59J5Gxjd/ebqC9GqFQNRKHepBYVKX+LqEQYosS6JEHqrhtzTaRaxuQOKA30s5ns2okfHYoA13naMb9dxo1m+S9Bq85pGumvHMBSDWGbcfkPacPbtfdccgy89pnIByqQ0ePtV0ENSuTOGG5bgVlHsyyz4PkCchyUPxtLv6W/W9zz0l7GzGuFTdPM9ss2oCDZ2wtMLBjBWZN086luO03SW0IIURlCoglfWepCs3789zZAaTbaxAKRVG7pkN1162vQ1Tc5Ff3GG2yu+Nq2Z2t6NqRRHJbK+rEAh2NI6WcwrKYRmpQv7IJTZt78/c/mkM2k0FmW4NybMO2DDKZrMeulyZwIlFEI9VoeiGJ5I4OtMwRC04E8d3aUaNpJGaLm73eJomO5VVK/zXP6vJR60uMN1aP1m3imoQA0xaSa6MICbFgK7eLA9/r8kJ3j17bhA7xPe7oQJPSdw0Sx7Q22RTi4rvVx7WjC613imuMommv/s1o33c0iphj/OY41UU/gmg0guqV6jg71tQq44w0pszvuU932+rn1L/XKOK7xQ+s/U6HWtWdpbU96u8kL+46Qa5T/AbidwrFUL9edRXrY4s2pgwxk+8ahv3mUKC54CWWfM5pHClxvBN1YbfrjqL5LbVzVSypIl+97i4k7lXHFFrQhTO6EhLzYFpYmgdC7ETRlBo2BFN291JMC6t/my/rf5tC8ETj2KN3diyBWeEwonNasMnWphkHz6ttMpvvQDgcQtXyTdgp2rzQhGvEtVjaEEKIzhQQS5YFV/xreH4LOvankXVTILpb5em0rbh3rbh516FT2aRIo/UbLjtVxztQa7hk9MVbF08agfoP6obTBY51wQUwpLkWl2v7UftbUHV1DM17LW2QQcccIQZaoUo4XXjFkbSON9up9iWXH25FzLrABr0uG5qIjcTtT12NdqNZ7HpoO3GZzfWIXV1njyvT2yzQ3ace37c0TnXRD6Gm3TrOHLoWiO+xSdvBM8dlu2ZdaESa0a2LokBuuGDXmdsuxE0E8V12Qa+K0Aia96ufva9BCJwmcwfJzQ0XaC54iSX1nGZvLueUGHh2FsKharSlLQ2ynbhbiI7le5S+VLEUQTxp37IRQebhUBVa39PFy92YLubBB5a+Rrvx4JfDCC14GcNKcRqtVWHlb7PfOqbjHZgbDqO6vR9jYq7fEEZ45lM4et7S5vA6RQzVvSR2qgaQuDmM8HVP4ah16FvvVgRUU2rMsZtFCLm8mRpiSaC5H2L6Fr4mnJLHzSbqouCyuB9oVlwPinjRFuC6zXKjHNKvJZE8LMp1t5DdgRaof0EhYkkWbUij7TrnuWVSjeI70F18Xn1p17EkaSvVy3WREPi6rGiiLuKy85Q5nETyNeH+80Ier/v3jdGkyzid7rL006Jc+y58xpXbXq8KlwNaQRCx5NOfeZ2aYIs0w9FKOj7vNfiJJQ9kcSR/9j6nEDqWc0oIASiEUP3mfs/fUhVL1UhYRZDgWBtmhIXQFQLHC1X4GOLocCumG4LHiuVvsy+BGeGwS5seVXg17sHYWA5dDWGEI/XY8oHnvhkhhBhMHbFkkEP2SAqJlbWK6BHuuZYD2v6EIiC8TVn0AwkZ98U7UP+CQOeQBYNUbj23FvMT0+NUDAsolmQRIomlwNdlJYjQ0BDxJba0D7rlE0uuos656Kvl2nfhNy6tzhDKfm11grTx/P4tdfM7Ic6a9xryiSW/uVCgWFKFjrdYEjFYXfdOV/sXMT8LWpDYm7a5Kz3FkvjtwmFEVh80RI0yD+rc54EilnYvVXZ+4q/67PxobeQ5apgilsRuVBcWTxffgxobVb8mgdQxL8lHCLncmYJiycKpJOJi0dAWKXXRr0WLEl/htF6xCxVIyLgv3oH6FwQ6h9cCK4mlbBcaxOIi4kb2p5ER8SwZsYhpC6RvX+7XIYuQwNdlJZCIUHcLRDsRg5I8PKCNvwetYvdsssXSsbYyiCVtp7AYYknMhS/5zIViiyWN3PFeJNtbUK8HcMfq0amJo8Bi6XCrstMk5sFO6zyotuwsFSCWah/d6Ziniik7wxqjOWX3L7Gm3nhoIHbXFruLjxBCpoRYOtyGmqtjqH/BuQwJrO6o3rUxZdHvcFvcdbQFs36781+ZuVMZZJRgKPfFO1D/giKKpYFnRcyLc6EryA2XR4QEvi4rmosstlaPlDHJZTPInNJ2+5Zr47QFT8vjDTZO70W/hG64QNc5cTdcELHkPRfG54bLJ5aUvwftdzTKjqjuNXvMkotYktxwqeVh5Vx7bMHVkhtOO6a+ywz41jH+NjVXXe1zshvOghYkn7VlMM8h/U8zGLNECHGlALF0EbiYAy4MAefPAOdPAyMngZFPNTuplok60Ua0FceUmqGUtnvUhrT8tNJorxqsrQe3HmpRnz5a1W2PsRhNI7lDj6HpQYv4V+acDuVf+gZazqaq9SLw1mPxDtR/kcWSttC1WYPAR9NoE22KJJYCX5eNDDrvlAKmBfpvouW+0kVd0toma98RDDpO70XfIpaKHuAd7DoLC/D2uQY/sZRvLhRVLGXQOT+sXrc1kBq9aBXuLeHuMvpwBnj3rr3GFuAtxiTOtdMqlrJJLBVxRkZAdw9axBNzczbhhHVM2S7cHQ6jav1RjI314BHRJtqMfWpUuEF6VxJp8WNkOnGH2NVatU91yekcXofp4bD/zhUh5LLEXyyNXQQunAPOf2YRRQWaOFb0IfoqEdndTWp8kiWDd/KFVtQL94bxOLjSEqlG1VVQdW8CaloA7RH0aAOSWh4lt9QB9TGX1AGOxTtY/zjSiirR/6IEkju6kXZ9R5eXwJHccFpf4tpbXhCZy5tQK8aqxGgUSSwFvS4Zt0fqld/EfMJPFREhhK6LK6kLOtbXq5nXRVlJxJIqgvxTB2gMdaFBtJvdrFyzq7tREOA6ld8gcOoAn2vQV3G3OZRvLhRVLAG5vU2Ypvx2+nV3ofUusQsZQsN2dffHSB0QEvmetOteKc4nrnsPdAmV275YbecxD3TXmFvqAP1vU08doLcR6TA2aGkIEvcKcRZFQ/IMxpBD6j7xNF4I1Su11AGin+nifA14eVDtp+fJ6Qh/qQ5b/uLxBRBCLhs8xJIQSUNO4TNRE32WaLcp15dCwhbYGkFMJMgzEg3qZNGzMW4mNvR4h5wjKaVI0OdISikv3oIg/WfNZJbCvfWRtU7HS+BIYkn0JpJWXq2dT0tC2KM8PaXvMnj15XUdslgSBLkuJ86khU1I9tn3opREk7aEmANILlEXeHXHKdg4vRd9SSwJfJNSmqQ3NxhPWDa9JteaBLnOgpJSel2DsW67z6H8c6F4YkmQPdSBuOW6I9fWocWWKFR1w7Wl8ielFPNg1pct8yDZj+QS546TIynlogQOSkkpxbiWGkkp1WSZm96y7m6J+bzUTEqpJLdswU6LMOp5bDrC4RpskF2IhJDLDqdYunDWKXKKbeIchJApj2fMEiGEXEKYYmlsdGLutkJNnEuckxAyZaFYIoRMBVSxJIKxZTEzWaYEghNCpiIUS4SQqcAVSvC1LGAm28QYCCFTDoolQshU4AqHcCmXUTARQgghpAKpHLEkjC45QgghhFQYlSWWhDHomxBCCCEVROWJJfGUHCGEEEJIhVB5YkkY8zARQgghpEKoTLEkrESZvgkhhBBCCqFyxZLyahRCCCGEkPJSuWJJWAlfvksIIYQQEoTKFkvMvUQIIYSQMuMvloY/xvkPUjj721YM7WzG2dTjOP/+TqXc0bYUxifjCCGEEFJm3MVSLoPhNxPIPBjGJ43/1mEnfvyfMfTqmskRTQz0JoQQQkgZcYql4Y/x+dbv45Nlf+UQSTZb9gV8tmE2xs7+2SlwimnM6k0IIYSQMuIQS5//6geKEFJ2kFb+BwzuuB8XT72n1I19/iHO7n3CtuN05oU7lZ0ouZ+iGZ+KI4QQQkgZsYmlkfd24MT9/0kRQZkHr8T5Y79xipeRT3Hx03dwcu3XtB2mv0Jm1d8g0/y3BdmZ52519Otq58/IYyaEEEIImTRsYunzrYvVHaX7/j2Gf7dRLc9lcD79/5QA79wffmXEKVmF1Xjs9M+udwojNzt/Wh4zIYQQQsikYYgl4WI7tf5qRcicbJ2OsWyfUn42tRafLP93qshZ9gUlnklxu+Uy+OzZuY4dI19b9TdGLFRgsTRyUh4zIYQQQsikYYili6ePGq41XchYy3QToufCX95yETX5TRwnji9MLIkn4gghhBBCyoMplk69j5OPTbOLJUuZIZYe+K8Y/egNp6AJYBRLhBBCCLnUKJkb7tOHIxh57xWlj8Ht99ENRwghhJBLkpIFeJ9Y8UW1vaVfqwUWSwzwJoQQQkgZKXrqgBMr/tpbLC37gpL9W7Rj6gBCCCGEXAoUPSmlsTvlIpasZYGNSSkJIYQQUkYcYmmirztxc7npNi6xxNedEEIIIaSMOMWSsAm8SLfoYulSfpFuXwLVoRBCoRDiu+XK0jHQXq2cMxSKIyVXEkIIIaQg3MWSbsMf4/wHKZz9basS4H029TjOv7/TVSTpdu71p/BZe427PTsXo33/6jjG085/Jo/XE1MghFC/PSvXIjFTrQvNTGBAqi0ZFEuEEELIJY+/WCq3XTgnj9cTq1gKReJI2UKdJiKWUohr/Va3F3YkxRIhhBBy6VPZYmksuAvOJpZCIURX91hrKZYIIYQQMi4qVywV+BScLJZCoWq0HTNq3cXSaAbJNXWoimh1V0VR09iBHs2L5+xT7TfRpx+fRU97A6qjluNXJjGgx6RbxdLGJJpuiqjtIlVoaO+B7CzM7GpB3bVaGyH4ZsfRcUhqlWfMAjexlG6vMfttTDnOTQghhBB3KlcsFRjY7Sps5ncio9Y6xdJoGonZshDSLBpHKgsMvFCP2NVRszwSQ+zqenR8JDrIItVoqbPa7ATSo3ax5GY17Wlj/FYxY7co4rs1aRNgzPbvQhVL2d1xRPV2+tgIIYQQEojKFEsXzsrjzIspEKrRtrnZEAdqsLdTLGU21xlipGFrGrnRHDL7W1GjHRdZ1a317O6Gy21v0I6PoH6z8/i6zRmbWIrMT6BXbJYN9aLNEDwN6BJlxztRp7WLLupEekg8kNiNVr1dpBndo8HHbBNL2S7Ua/VWQUUIIYSQYFSeWCrgCTgrVrGU6Msh1ai7vESwtyyWMuicb/1skmo0BYoa9eQulox217XB3B/KoWuBVt6Y8o5Z2h3XxhpB8wGrCLK4+Bztgo/Z+l3UGMKsBgnDLUkIIYSQoFSeWBobn4/ILpaE78ncUYmu7kSbTSz1ojVmETWu/dSruz6uYskivrxMnMdLLEnlvWtj2nFSQLalXf32Q4HH7OqSnNOhuSQJIYQQUgiVJZYmkK3bIZZE2bN6HFAEET0guthi6aooYleLWCbJ7uqoLLHkmn+KEEIIIfmoHLFUQE4lN9zEEkZ70foNSTTIbjhpx0V2abmLJYu7LdaCHmkzLOf2NJxVLO1t0sYju+Fq0XHc0s7LDZdnzFaxVPtsDzr1sQoxRb1ECCGEFMQVikiRhctk2wSFksBVLAkOmMHeplgCMhtrtTL/YGmrWIqsTCKbzSE3ag3wNoOykcsivbUBUT2QOnCAdwdqpb5cA7wDjll+Gk6Mw2izJMm0AWRKMNA+A2Ftnu8ZG5OrCRkfx3dh3f0r0Jo8AU4ronOF8r/C/SULmMmyCbjerHiKJViCvS1iKehj+EAGHXOs9Xr/PqkDQlE07c1VTOoApf+n9TJLfwVhjdNy2aGyXGvByTvJ1Ga0G81fDqtzJ9KMgy4LUO/a6ZrwCaGhaxguTRxQLF2upLHumrD620cewL6R4v72e5ddiXBYzKsabOi/GGgukqmPKpYEIrBaPIkmi5lSmTjXOIO53fAWS/Zg70KSUhoc60SDnizyqlotz5Igi56NcdTEPBJJGgKiGi1bE5Y+YpOelBKjPWjWk2eOK4WAPag90piCTeZSLBEfelZ/WRM2MbT+Xl5+0mit0sSUED7n5Xp3KJYuU46swzfD+nyJ4IHu8QqavVh6pSq6qp/5EBe1TjKvLMbfi/7nbMD7RRZi5NLFFEs6IseRLGyKbePIo0TKjfwEYFSJtzKgWCJ+HGjGl5V/rYcQW/uOfXHrS2CGVhdq3BPY9UGxdHnS89BXtJ0fze55GefG9fu7iyVC3HCKJYWL6utGZJEzUVNeYVJYZm5SKchiSezStZnZwD3EUq4viZb5VYjox+ivenEcV43EoR4kFultI8qrYzLaK2WMnbSrG5CQdtvEOZpmx4xzRK5tQOJAwVtnpKT0mK64mQn0WxamzOY7DBdc/NUxVUjlBpBcc4f5u4ciqFqUwMGT5nEOsbR7qbGIGv2IqMNlmstGElXZAwksrjZd6dHZTdj5wbBRTyqQ0W48+BVN4MzWQxcW4eXPzd/b4FQPft5wjSHSQ9EaLPnlUQyPAQMbrseVVsGl3YM2/Oki+o26Jdhz0ew3e+h5LL15mjFXI9fOx0+scU2/WYorlR2vajz1251oMtpGUHXPFhy17phme/D8slmY9iXt3JEYan60CQfPOK6CVAgeYklDvMhWBF9PxD0njhV9FPBSXFKJuIglPVO5wE0sHTMDy8UNI2osfCFEl2tuvDxxXdGYnlbBalpgvOMcVhtvbBYpFaYrrhYdf9EXhRy6FprxTPvEgiJi827W3SwhRKKWmMNoE/YMqsdORCxldy/FNMdiKawGG9JcsCqW/Q/iK4ogqcWm9MtoCKu/bd1Ln9h3JLN7sfSr+u9ut5pn3kf/C3dj+tedr7La1D/mKpayv1mKrxquP2d/yq6UIZacbYRVrdPajfbgwa9eaQgp2yu1rnsCf6DrryLxF0s2LqrB2GJ36PwZ4PxpYOSkRRidVMtEnWijBG5TIE0drFnQ29C5Wv8D14K9XcRSarl+I2pCSlFGOfSs0cWPlsfKcpz5JGAScT2+SoieHRnlyb/0Rj3Fgp6KIW2mhpjZgu5MDhhKo3ORNjYj/QOpCA63YromUOo2n1DFzFAX7tbKIqv2qQve3hWa6ImgKaUGe+cOtBjH1msB4OMWS0NdWKwtapEFW3B0UHv69Gat3fwtOMH1qgLJYXuDFnw9ZxM+GRtGl+2z+aN1P6C76mrw1DvDGMtlsGvZV7UyfSfK3Q1n7jppYskqbmY/gX0nhjE2lMYvG/T+arHpzxcxttsUS9F7tuD9wTHkMnvxoB6MPnMDPhQn+e0KrV2tGUD+xoP4ypXqsfftuRjYFU0mjwLEErm8kV4ZM5RCXNspUoK9XcSSK0buKC0Q3yMXlevrZORzWI/dZR4rFuWY9RykQuhF63TtX94LuhR3iJgPujBq7nZxpRiksFRbiKrb+ycmlox21XjKsouU2363Vs4YqIpkaDsWa+Km9jl1Jyn3ymLD9bXhA/037zFcdZEHD5qxSH3P446vT1d3kAYKEEsHTCGz5FWLkOn7Oa7XyueLnS2LWLK2M5+u0/ozxFIEd730PobPi92mHLKZDDKZDLLFeUCcFBmKJRIQ+f16QHZ7vSZ8omje3OYqljKvJRC3xBOZFlAsWZ9elMWSIby8zZYMlJQdM0WAeOoN6F6lueYUF5yl4fFuJBprELO4bnWbqFhSjtPauZu68JLKIrPlDk3EiJ0c7fcdNQVP1bqjquAZ2o67XUSQk2BiafiVu01B9ifrk3fm8bHH/4CLQcXSaBo//47uhlNNxD/d98we9Cv/giCVCMUSCYhTLCllRuLMiCGIdLFkZiYPIXZrExLbkkg+qifWLK5YisRcXjlzdQwtr5l9kgrgSCuuMQTNPiPoO7L6oLkIHe/EHXrsR6wWTe1dSO5oQa12XDHFUtRlzug7D6SSyOD5WrvAcFjsCfxBKJ5KF0uicDSL3l89gju+pcfx6dfwE/yOMUsVCcUSCYibWFJdXlXSTUsVSxYhtaDLzMlUqBvOTywZ7rYQ6rdKwdy5nD0PFKkQzJxKkZnV2u8XQfNb5gIx8OwsbQGpx8taMHcgN5wR6+Qvlkx3WwwtPZLrz3hXEakojj+PuZrLy9v0nEsebrjMXvzs/hVoWtmGPSfG44bT+tf7G6cbbjirutsyp7S5Jt788KvFRgD5kiRjlioRiiUSEA+xpDzlZM9kboglS0C4kmIgl0HSyHpeBLFkDfAO1aB1f0YRSLnj6qtirBnSSeWQXn+N/V/TUlZvUwRVo02JKcohs8N8es1TLH2UwCxtwalatQ9nzgO5Y51YPE1fZJ0B3qFoA7akRbqAHLJHRNtpiL96xi6gSNlJP/lNI5h6w3sncEKL71GtyxA9kR/vU0SPEeAduQtbjqoB3t2P6TuKddjyiV0sRVbsxGdnhpVXWTnE0uh+Q3wFDfD2E0u9T/y92n9kCXZ+pon148/jFk143dV1zmc3jJQLiiUSEG+xBEuwtylkxKJYZS6IDqtG27GJiiW/1AHixiaNk1QGFlecMEeSSqletuqnj7qLJTFHb9B3kdwsSOoAkdZijxp8TioEy+tNxBNljm2XHLYvtAiSkTGM5UkdoIoR2bXnnWep0NQBfmLJPjaROsAS0xm9D79xyxlFyg7FEgmIj1gSNxMj2Nsa4K0mlIxdpZaLZJEdu9oMcVO/3f7+vHGJJcFxkfiyGlHtPCLxZd0akdDSbEIqCevrTdxefyISACaw+Ovm79mwMYm22doxC15WEws6xJJIRJjCIzdP0/qOoKbxZSSfrtYWK/tTbtlDHVh6s3WhqkH8uYM4Yw6DVAJGbiXVXebQSkIuGXFFISzqOqe2cUlKed//7bcL4WO/xGI9buiqWmzqdxdLguBJKfOIJVF4SkpKKV5bJZJSnnS5OFIRTCmxlD3Qgfhsi0soWoOmHQNS7EoOAzuaUGPk8Ymgan4rUqcKbRMsc7TjfW/X1aFll5bIsYA2hBBCCCkPU0YsZXfHEdVF0lVRc5dBbJM+a+5CpNv1FPmSWV4uG6SNt/vHzBxtfRosFI3ZHoNu2B68DSGEEELKxxQRS5Ynr+YkMCDcL6NZdN6llcVa0SuaHe9ArSZEoo1JiITPuXdNt1DV+nSwNoEyR5tjiqzUXu2BDDrmaMcp8TRB2hBCCCGknEwRseTOQHu1tksTR8q2i1OHTouXK7Vay6+ypjtQm2CZoy0CThdUylOi1sdGg7QhhBBCSDmZQmIpi/TWFtRdZ3+M3SqWetfq7yVTP7sRpE3QzNE216AwEcS3oBWd75rutSBtCCGEEFI+poxYsub6qV7Qio4dSXQssQufIEIoSJtCMkfn+lLKaxusMVTC6raa21ZB2hBCCCGkPEwRsZRCkyYwYmuV6CSFoG643s1NaFrZhKbNvYHaBMoc7fJiRD1ZotK/eEFskDbWvgkhhBAy6UwZsRTXd3qWJKHIl6FetOmiQ98lsgRvVz/arQZvH+tEvfYEWmR1T7A2QTJHD3WhXu/naVPydK/SUgSIoPMgbYxSQgghhJSDKSKWcuhapIsXN4sjqSUoDJIWIEgb79QB5lNstn5EWgAjb5OZziBIG0IIIYSUjykiloTbK4PkyhojQWR0dgtSW/XYohhaD+sNXRJOLkqgJ19SSkebIJmjRT/2hJORa+vQYkuUGaQNIYQQQsrF1BFLhBBCCCElgGKJEEIIIcQHiiVCCCGEEB8olgghhBBCfHCIpdxIDs9saMdN356FGTfM9LRly5djcHBQPpwQQgghZErhEEsvd3Xh+htvcIgjN6NgIoQQQshUxyGWHnnsMUUI3Trvdjy29nE8sW6dw34YX2IIpvrvfc9R72b/p/0ZvPHGG8rOVTFZvuI+Go1Go9FotJKZp1j60bJlOHvunFytIATP2tYnHDtNQYy7UYQQQgi5lBiXWBKMVzDdOKsGB373O7k7QgghhJCKZNxiqVDeO3IE35lbq/T9+r59cjUhhBBCSEVCsUQIIYQQ4gPFEiGEEEKIDxRLhBBCCCE+UCwRQgghhPhAsUQIIYQQ4gPFEiGEEEKIDxRLhBBCCCE+UCwVyP4jQ2jZ+gm+8+if8Hc//CO+eOdhfGHe74tioi/Rp+hbnEOcixBCCCHlhWIpIE/tyOBrjUccAqfUJs4pzl1ujh49SqPlNS/kdjSamxFSqVAs5aHz9dPKbo8sYibbxBjEWMoFb2QkH35zxK+OEAHnCKlkKJZ8WJL4yCFaym1iTOWANzKSD7854ldHiIBzhFQynmLp1nm347G1j+OJdeuKYquaH1BeonspiKXh8xeVuCFZqFSKibGJMU4mvJGRfPjNEb86QgScIxNk5DTefXMbNj75JNavD2bPbUvh0J9zck/EBYdYermrC9ffeIMiakphQoT96YMP5NNWFJMhlG5Z+wF+sfsk3ukfxtCwKnzEf8VnUS7q5WOsJsY4mfBGRvLhN0f86ggRcI5MgAv92PyDG3G9y5qb3+bikX1ZjI3JnVYY5wZx6vRpDxvEyAX5gOLiEEu5kRye2dCOm749y+VLnZjdNn8e9nXvw1gF/yqldr39w//+EO/0B3NvinaivdyHbpPpkuONjOTDb4741REi4ByZAPsfx8yJbHIs68KnFyt3XRb0b16EmTe6jF2xhXjxw4so5RU4xNLljAiglgVJMU3sGI0HcZzcl26TFfTNGxnJh98c8asjRDBZc2RkMI23/3kjHl62ELff9m3boltz2zx8b9nD+MWvD+Ho5yPyoRWLKSQKEw37Hr8R14vjGl5CX4WIpX1rb/QRRYXbI69fQDEujWLJQimfenvlwBn5dAUhjpf7FCbGPBlM1o2MXLr4zRG/OkIEpZ4jIwN78eTi2QW5qmoa1uM3/bnA4qNcUCx5G8VSkRG5jGQhUiwb746SjNcO02TkYSr1jYxc+vjNEb86QgQlmyMjHyO5Zr5DJNXcthDxFinouWUpviftNgm7/aGdOJ4rwopbBE69uQlPKkHcG/HmqTFFGE0lsZTe8VM8/INbtN9rLhY/tN4RmO5nD91rP7YrHfz78INiSaNUCSdFzFExcYthEmMvNX43slRjCKFQHCm5QkOuVz97W3y31IEnKcRdjpetun3AftjueP42lnau4+lLoNo6XstnT2vUvgG97cwEXM5q1LuOqYLxmyN+dYQISjJHPtmFh+sssTw18xB/eid6M+YTYCNZLUg4a7rdRj79I5LP/AjzZllE0/yH8C8fq+KknLgJI7eyIFSiWBKM93oEEznWD4ol7RUmsgAplgUN5vbizOf2V56I/uRzCCv1q1H8bmSyGJKR6+XPxUMVT94iYwCJmeLc1Uj0Wct10SWNyUssGcLI0r4QgWMRVq7tC+mrgvCbI351hAiKPkf6tuH7N5tC6fb7X8KhU/rSOYKPf/tTLKiVgqLnLMS61HEYm0in38bmH1t2pWbfi60flFcwuYkBt7IgUCwFh2IJUN7DJouPYph4/H8iHHonjf847Xbs2nvQVu6WVkBcQynxu5HlEz9yvfy5ePiLJfW8slDS0YSUdbfHTSy5CSVLude5bdh2oVzGU0hfFYTfHPGrI0RQ1DkyuA+P3X6D4Y5Z/uujpgDCIN7+2V2qSJDcbbrd+dQhfG60H0H6n1egVm9/26N47fPyCSY3MeBWFoRLSiztX4uZNwlx+yj+9aJL2YWJfRf5oFgqYV6licQqvd17DH/9P27Fv/lvN+G78SdsdW6xS6XOu+R3I8snfuR6+XPx8BNLfnUasjiSP/u5zwoROEbblFOg2eoD9FVB+M0RvzpCBMWbI6fxyj/qQmkmFr/4oS2H0Ej346jVHrO//eGdOPq56pITT8kpsU3KQityD+Vsx/Vv/oEpsJZ14WSZUuC4iQG3siBQLAWHYqmET8GJBJPj4Z33+pQdJSGUbq5fjdFRe7Yt0a98rlI/Fed3I8snfuR6+XPx8BFEsvBxRXPH6bFF1mP8hJKgEIFjbet2nFvZJYDfHPGrG2ifgbC20xZ/Vf8X+wASN4S13bc49hgLk1d5CkvDWvnMDejXi3cvRTis9l39TL954/QoH9gwwyiXx6KO0TkWZ7k8Fq1cPqfXGLVyr7H83PWc1vIljrEo5Y6xqGOUx3KlS7l1LEte1Rcg6ZzGYutVnsLSK9XyixedbyDwmyOFMLKnWVssZ2LOo69bdogE/di8WBVSc34i1wkGse+RWwwB8aFNEA1i3+Na3Q0z8ePdw2VJ5OgmBtzKgkCxFByKJQBfvPOwQ3wUw/TM3IWQTygJRL/yucQ1lBK/G1m+gG3VZLHkbv5iJh/eYmmgvdrd5WXDQyy1W9xmecSSfD2mWc4tiSHH2C4nsdSXwAxtEda/XyF0rAJKWHW7Kmi8ylPL9MVZm0eKuLCIFsV0ceFRrozFUq6JLqtQUM6piQiv8uKM5ecuYxnzPKdXuTIWS/kSy1jMMeriyhQzRrlYQIs2liuN8tKJpTQ23qXtKt32KN48Ky2V53ZhlbKrNA/PHPFwpb2fwDylzQP4lyGpzbm3TPfed5/D0TKoJTcx4FYWBIql4FAsAQ7hUSxz48DbR/DNuf+IT09l5SocOTaQVyjpyOfyOl+x8LuR5dspkuvlz8WjNGJJXSASGNA/6/VWChE4jrZSvJSj/tLAb4541lEsuZcXTaBcZmKpbxP+QXOxzXnqkHPnZ2ALFij1C/Fiv4dYytPm7Z/dqu0ufRe/KEOwt5sYcCsLAsVScCiWJnln6c4laxUxNG3GYptgei89gP/ytflK3S33rPEVSpW5s+QtfuR6+XPx8BZLE3HDWXeT9F0xRz+FCBy3tvlcc5cAfnPEr84UQNVIfKDf2izuNk1A+ZdbREfjHptbSV+gTVeWd7m50FdjgzQWZYxWF59neWnGopZbXFxWt5pnuUUY/UgeizpGVUCZ5bobznS3FXEsJXfDWeKVau7FVlnsXNiHh5XFdS7WHfQQOj0/xVxFLD2E185LbQa24fuzVDFWrrglNzHgVhYEiqXgUCxNcszSyPlRzPruA4oo+rtv3YNPPv0Mx/r+YgilfDtKAsYseeEjlnzrNGRBJX9W0NMMSLtUhQgcj7bG7tdu9/pKx2+O+NURIijaHHk/Yewuzbj3JXw4al0uR5B6SBNTDc/hqJxociSNjVpM04zVezBsFUPKy2r1wPHvervxSoybGHArCwLFUnAolsrwNJwQTDfduUoRR//9Wwvxt//zjkA7Sjp8Gs4Lf0Hk74oLmDpAoMcnWdt6CCBXPNvqeaBUc9ZXNn5zxK+OEEEx50j6WTM1gAjyPjlqqezbYu4OzW/CL1Lv4vjpj/Hu3k24T09gWXMvXrS62C6ctgV3CxdfubSFmxhwKwsCxVJwKJbKlGdpODeCa29ZroikoDtKOsyz5IW/WDLFiCyY9N0iaUxeYskQXs6s3N7ntuDXVhdiXvUVjN8c8asjRFDUOWLbBZqJOU2/su0iDXY/jnm6YJKtZh4e2fe56bIcSePXK/RXaLjtVk0ubmLArSwIFEvBoVgS33eZMnifPZdTBFMhQokZvP3IJ5Y0rIHbfsLERywJ9PglRTBZRI63adfsJ5YsQsyrvlLxmyN+dYQIij5HBv+IDRbBJHaRXnz7lLF4jvxlHzY/8gPUztbqZ8/F4paX8NqfzRfnnvr9FnO3SRFK7eh15huYVNzEgFtZECiWgkOxpFGud8MNDp0LLJQElfhuOEIEfnPEr44QQUnmyIV+vGJ9XYl4ge7Ch/GicL15/Tv2nHDJbcHD98y2HXf7/V1l3VHScRUD+x/HTD1Oazy2rAufUiz5QrGk8dSOjEOEFMu8YpcKxS1WSZgYe6kpyY2MTCn85ohfHSGC0s0R7T1wlvfEGTZnHm7/Xxab4yIkZkvviyszrmJAcTveaBN3wU1kK8860yyUEddrHBlUX3h8ehDGK49dylyPLQIUSxZK9VScsFcOnJFPVxDieLlPYaV+Ck6ndDcyN+yBzt5WClceGS9+c8SvjhBByefIyMd4ffMaLKiVxYKHzVmI1S++juOVopI0PMXAyGm8++Y2bHzySaxfH8ye25bCoT+rr3upJDyvMQATOdYPiiULna+fdoiRYtp4d5i8dpSEiTFPBiW/kZFLHr854ldHiGAy58jIJ3/EW9s2Yv36hxFfqO0qLVyKhxQB8Sbe/djYu6g4SiUGKomPf/1D4xqf+cNJnFR2j4LZu8/q38+92PpR8b4fiiWJJYmPHIKkmCZijvyCvq2Idm4xSrqJsU4Wk3kjI5cmfnPEr44QAedIMC4HsYTDT2OuEovksuMX1G5pQ8/F4uXColhyoVR5l6wmHv8XO0YiwaSe6Vv8V3wW5W7pAaxW6rxKMryRkXz4zRG/OkIEnCMBmWgwd4U9+ebOIPa11mmicBwm0j+8ni1qLiyKJReGz1+cFME0XhNjE2OcTHgjI/nwmyN+dYQIOEcCMqFg7ktFLKmMZJ1utiA2GMx5UxAUSz6U2iU3HptM15sV3shIPvzmiF8dIQLOkQIQwdxvFBbMbdhzb5blnXaXOhRLeRAB1KV8Si6oiTFMVjC3G7yRkXz4zRG/OkIEnCOkkqFYCojIZVSqxJV+Js45GXmU8sEbGcmH3xzxqyNEwDlCKhmKpQIRrxUR72ETcUNit+eLdx52CJzxmuhL9Cn6Fuco9StMCkHcyGi0fOaF3I5GczNCKhWKJUIIIYQQHyiWCCGEEEJ8oFgihBBCCPGBYokQQgghxAeKJUIIIYQQHyiWCCGEEEJ8oFgihBBCCPGBYokQQgghxAeKJUIIIYQQHyiWCCGEEEJ8oFgihBBCCPGBYokQQgghxAeKJUIIIYQQHyiWCCGEEEJ8oFgihBBCCPGBYokQQgghxAeKJUIIIYQQHyiWCCGEEEJ8oFgihBBCCPGBYokQQgghxIf/D1N02dB73gIfAAAAAElFTkSuQmCC)"
      ],
      "metadata": {
        "id": "V833eprbKq1G"
      }
    },
    {
      "cell_type": "code",
      "source": [
        "# Get the API token from the user data\n",
        "huggingface_api_token = userdata.get('HF_TOKEN')\n",
        "\n",
        "# Check if the HF_TOKEN is set\n",
        "if huggingface_api_token is None:\n",
        "    raise ValueError(\n",
        "        \"HF_TOKEN user data variable not set. \"\n",
        "        \"Please set it in Colab's.\"\n",
        "        \"Click on the 'KEY' on the left side\"\n",
        "    )\n",
        "\n",
        "# Log in using the API token from the HF_TOKEN\n",
        "login(token=huggingface_api_token)"
      ],
      "metadata": {
        "id": "Vq1P8LxXKsyW"
      },
      "execution_count": 69,
      "outputs": []
    },
    {
      "cell_type": "markdown",
      "source": [
        "Generate Chapters"
      ],
      "metadata": {
        "id": "4yjZcxoHLspr"
      }
    },
    {
      "cell_type": "code",
      "source": [
        "# Replace with your actual model ID\n",
        "model_id = \"Qwen/Qwen2.5-Coder-32B-Instruct\"\n",
        "#model_id = \"meta-llama/Llama-3.3-70B-Instruct\"\n",
        "\n",
        "# Create an InferenceClient instance\n",
        "client = InferenceClient(model=model_id)\n",
        "\n",
        "# Prepare a prompt with clear instructions on the chapter format\n",
        "prompt = (\n",
        "    \"Based on the following video transcript, generate a numbered list of concise, SEO-friendly video chapters with timestamps. \"\n",
        "    \"Make sure to keep related parts in the single chapter to keep number of chapters smaller. There should be up to 5-10 chapters depending on the video size. \"\n",
        "    \"Each chapter should be in the format '<timestamp> <chapter title>', where the first chapter always starts at 0:00. \"\n",
        "    \"Timestamps should be in the format 'm:ss' as needed. For example:\\n\\n\"\n",
        "    \"0:00 Intro\\n\"\n",
        "    \"1:34 Why the GPT wrapper is bad\\n\"\n",
        "    \"2:14 Smart users workflow\\n\"\n",
        "    \"\\nNothing else except the single Chapters list in the provided format should be generated in the response. Stop generation once you are done with one list.\\n\"\n",
        "    \"Transcript:\\n\"\n",
        "    f\"{srt_text}\\n\\n\"\n",
        "    \"Chapters:\"\n",
        ")\n",
        "\n",
        "# Define the parameters for the text generation request\n",
        "generation_parameters = {\n",
        "    \"max_new_tokens\": 300,  # Maximum length of generated text\n",
        "    \"temperature\": 0.5,\n",
        "    \"top_p\": 0.95,\n",
        "    \"do_sample\": True,\n",
        "}\n",
        "\n",
        "# Send the request to the Inference API\n",
        "generated_text = client.text_generation(prompt, **generation_parameters)"
      ],
      "metadata": {
        "collapsed": true,
        "id": "MZM9sSUbLulm"
      },
      "execution_count": 70,
      "outputs": []
    },
    {
      "cell_type": "markdown",
      "source": [
        "Print result Chapters:"
      ],
      "metadata": {
        "id": "ZrJ-kCPxtOpy"
      }
    },
    {
      "cell_type": "code",
      "source": [
        "print(\"Generated Chapters:\")\n",
        "print(generated_text.split(\"Chapters:\")[0] if \"Chapters:\" in generated_text else generated_text)\n",
        "print(\"\\nGenerated using free 'GenAI ChapterCraft' tool.\")"
      ],
      "metadata": {
        "colab": {
          "base_uri": "https://localhost:8080/"
        },
        "id": "HL1TdO1itR9l",
        "outputId": "334991a1-dd15-4a68-fb24-534df25a5ef0"
      },
      "execution_count": 72,
      "outputs": [
        {
          "output_type": "stream",
          "name": "stdout",
          "text": [
            "Generated Chapters:\n",
            "  \n",
            "0:00 Introduction to Fareism.de  \n",
            "1:15 Registration process overview  \n",
            "2:03 Creating an account  \n",
            "3:03 Account types  \n",
            "4:03 Existing customer registration  \n",
            "5:15 New customer registration  \n",
            "6:15 Filling out personal information  \n",
            "7:15 Confirmation email  \n",
            "8:20 Account activation  \n",
            "9:07 Logging into the account  \n",
            "10:07 Account functionalities overview  \n",
            "11:20 Water meter reading and management  \n",
            "12:00 Billing and domiciliation requests  \n",
            "13:00 Water transfer requests  \n",
            "13:50 Conclusion\n",
            "\n",
            "\n",
            "Generated using free 'GenAI ChapterCraft' tool.\n"
          ]
        }
      ]
    }
  ]
}