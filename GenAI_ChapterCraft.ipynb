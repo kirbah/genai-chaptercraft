{
  "nbformat": 4,
  "nbformat_minor": 0,
  "metadata": {
    "colab": {
      "provenance": [],
      "authorship_tag": "ABX9TyNl1rOgZ43PFjZhXJvmkKve",
      "include_colab_link": true
    },
    "kernelspec": {
      "name": "python3",
      "display_name": "Python 3"
    },
    "language_info": {
      "name": "python"
    }
  },
  "cells": [
    {
      "cell_type": "markdown",
      "metadata": {
        "id": "view-in-github",
        "colab_type": "text"
      },
      "source": [
        "<a href=\"https://colab.research.google.com/github/kirbah/genai-chaptercraft/blob/main/GenAI_ChapterCraft.ipynb\" target=\"_parent\"><img src=\"https://colab.research.google.com/assets/colab-badge.svg\" alt=\"Open In Colab\"/></a>"
      ]
    },
    {
      "cell_type": "markdown",
      "source": [
        "# GenAI ChapterCraft: Automated Video Chapter Generation\n",
        "\n",
        "**Overview:**\n",
        "\n",
        "GenAI ChapterCraft is a free tool for automatically generating video chapters using AI. This Colab notebook demonstrates how to transcribe video audio and use a Large Language Model (LLM) to create SEO-friendly chapters with timestamps.\n",
        "\n",
        "**Key Features:**\n",
        "\n",
        "*   **Audio Transcription:** Uses `openai/whisper-large-v3-turbo` (or `openai/whisper-tiny` for CPU) for audio-to-text conversion.\n",
        "*   **Audio Download:** Downloads audio from video URLs (e.g., Vimeo) using `yt_dlp`.\n",
        "*   **LLM Chapter Creation:** Employs an LLM (`Qwen/Qwen2.5-Coder-32B-Instruct` by default) to generate chapters from the transcript.\n",
        "*   **SRT Output:** Converts the transcript to SRT format.\n",
        "*   **GPU optimized:** If GPU is available in the colab, the notebook will take advantage of it.\n",
        "*   **Free and open-source.**\n",
        "\n",
        "**Process:**\n",
        "\n",
        "1.  **Video Input:** Takes a video URL or uses existing YouTube video transcript.\n",
        "2.  **Audio Extraction:** If needed, downloads audio as an MP3 using `yt_dlp`.\n",
        "3.  **Transcription:** Transcribes audio to text using `openai/whisper`.\n",
        "4.  **SRT Conversion:** Converts the transcript into SRT format.\n",
        "5.  **Chapter Generation:**  LLM analyzes the transcript and creates chapters with timestamps.\n",
        "6. **Hugging Face usage**: LLM integration via Hugging Face Inference API. HF\\_TOKEN is required.\n",
        "\n",
        "**Benefits:**\n",
        "\n",
        "*   Saves time on manual chapter creation.\n",
        "*   Improves video searchability with SEO-friendly chapters.\n",
        "* Enhances the viewer's experience.\n",
        "\n",
        "**Requirements:**\n",
        "\n",
        "*   Google Colab.\n",
        "*   AI Studio (GEMINI\\_API\\_KEY) key. Create new key on the [AI Studio](https://aistudio.google.com/apikey).\n",
        "*   Hugging Face account and API token (HF\\_TOKEN). Create new token on [Hugging Face page](https://huggingface.co/settings/tokens)\n",
        "*   Supadate account token (SUPADATA\\_TOKEN) to retrieve Youtube transcription. Create [new account and token](https://supadata.ai/).\n",
        "*   GPU runtime for faster run (highly recommended).\n",
        "\n",
        "**How to use it:**\n",
        "\n",
        "1. Enter the video url.\n",
        "2. Set SUPADATA\\_TOKEN in the secrets (small key on the right side).\n",
        "3. Set HF\\_TOKEN in the secrets.\n",
        "4. Set GEMINI\\_API\\_KEY\n",
        "5. Set SUPADATA\\_TOKEN in the secrets.\n",
        "6. Run all code blocks sequentially (Ctrl + F9 or Runtime -> Run all).\n",
        "7. Enjoy the generated transcript and chapters."
      ],
      "metadata": {
        "id": "aF96sS_bV9E3"
      }
    },
    {
      "cell_type": "markdown",
      "source": [
        "Specify the video URL.  You can change this to any supported video URL.\n",
        "\n",
        "**Note:** For YouTube videos, ensure that a transcript *already exists* to enable direct retrieval.  Direct video downloading from YouTube may be unreliable due to ongoing issues with `yt-dlp` (see https://github.com/yt-dlp/yt-dlp/issues/11868).  If no transcript exists, the notebook will attempt to download and transcribe, which is considerably slower."
      ],
      "metadata": {
        "id": "SO53G_1cxQtl"
      }
    },
    {
      "cell_type": "code",
      "execution_count": 3,
      "metadata": {
        "id": "CeM35Kl9xI29"
      },
      "outputs": [],
      "source": [
        "video_url = \"https://www.youtube.com/watch?v=A9WY_HZUK8Q\"\n",
        "#video_url = \"https://vimeo.com/1013516281\"  # Dutch language\n",
        "#video_url = \"https://vimeo.com/821101511\""
      ]
    },
    {
      "cell_type": "markdown",
      "source": [
        "Specify the desired number of chapters to be generated (minimum of 3)."
      ],
      "metadata": {
        "id": "PycgPP_DENzI"
      }
    },
    {
      "cell_type": "code",
      "source": [
        "num_chapters = 8"
      ],
      "metadata": {
        "id": "UDPSI1y0EPdC"
      },
      "execution_count": 70,
      "outputs": []
    },
    {
      "cell_type": "markdown",
      "source": [
        "Install the required libraries."
      ],
      "metadata": {
        "id": "5hzM3x8ox2ju"
      }
    },
    {
      "cell_type": "code",
      "source": [
        "!pip install -q yt_dlp\n",
        "!pip install -q transformers\n",
        "!pip install -q huggingface_hub\n",
        "!pip install -q supadata\n",
        "!pip install -q safetensors"
      ],
      "metadata": {
        "colab": {
          "base_uri": "https://localhost:8080/"
        },
        "id": "BwYQRY1Cx3yv",
        "outputId": "2a20b0d5-525c-48e0-c2f0-4ceb58af4250"
      },
      "execution_count": 5,
      "outputs": [
        {
          "output_type": "stream",
          "name": "stdout",
          "text": [
            "\u001b[2K     \u001b[90m━━━━━━━━━━━━━━━━━━━━━━━━━━━━━━━━━━━━━━━━\u001b[0m \u001b[32m171.9/171.9 kB\u001b[0m \u001b[31m4.7 MB/s\u001b[0m eta \u001b[36m0:00:00\u001b[0m\n",
            "\u001b[2K   \u001b[90m━━━━━━━━━━━━━━━━━━━━━━━━━━━━━━━━━━━━━━━━\u001b[0m \u001b[32m3.2/3.2 MB\u001b[0m \u001b[31m13.1 MB/s\u001b[0m eta \u001b[36m0:00:00\u001b[0m\n",
            "\u001b[?25h"
          ]
        }
      ]
    },
    {
      "cell_type": "markdown",
      "source": [
        "Import the necessary libraries."
      ],
      "metadata": {
        "id": "MA6vFDSDyhOM"
      }
    },
    {
      "cell_type": "code",
      "source": [
        "import gc\n",
        "import google.generativeai as genai\n",
        "\n",
        "import re\n",
        "from typing import Any, Dict\n",
        "\n",
        "import torch\n",
        "import yt_dlp\n",
        "from transformers import AutoModelForSpeechSeq2Seq, AutoProcessor, pipeline\n",
        "from google.colab import userdata\n",
        "from huggingface_hub import login, InferenceClient\n",
        "from supadata import Supadata"
      ],
      "metadata": {
        "id": "Kkex322Pyh2I"
      },
      "execution_count": 31,
      "outputs": []
    },
    {
      "cell_type": "markdown",
      "source": [
        "Retrieve your Hugging Face API token. Ensure that `HF_TOKEN` is set in your Colab secrets. You can create a new token at https://huggingface.co/settings/tokens."
      ],
      "metadata": {
        "id": "_LI7XJy7WbE5"
      }
    },
    {
      "cell_type": "code",
      "source": [
        "# Get the API token from the user data\n",
        "huggingface_api_token = userdata.get('HF_TOKEN')"
      ],
      "metadata": {
        "id": "_w3-MbkUWdE1"
      },
      "execution_count": 51,
      "outputs": []
    },
    {
      "cell_type": "markdown",
      "source": [
        "Retrieve your Google AI Studio API key.  Ensure that `GEMINI_API_KEY` is set in your Colab Secrets."
      ],
      "metadata": {
        "id": "ouwJKCnD6M3l"
      }
    },
    {
      "cell_type": "code",
      "source": [
        "gemini_api_key = userdata.get('GEMINI_API_KEY')"
      ],
      "metadata": {
        "id": "FS_fWzJuue0o"
      },
      "execution_count": 37,
      "outputs": []
    },
    {
      "cell_type": "markdown",
      "source": [
        "Retrieve your Supabase API token (`SUPADATA_TOKEN`) from https://supadata.ai/. This is *only* required to automatically fetch transcripts for YouTube videos.  If the video is from another source (or you're providing a local file), this is not needed."
      ],
      "metadata": {
        "id": "SqvGtMZPYWFO"
      }
    },
    {
      "cell_type": "code",
      "source": [
        "supadata_api_token = userdata.get('SUPADATA_TOKEN')"
      ],
      "metadata": {
        "id": "GvjLUYDCYf4P"
      },
      "execution_count": 76,
      "outputs": []
    },
    {
      "cell_type": "markdown",
      "source": [
        "# Attempt to retrieve an existing YouTube transcript."
      ],
      "metadata": {
        "id": "BO5PrqngZBmZ"
      }
    },
    {
      "cell_type": "code",
      "source": [
        "def extract_video_id(video_url):\n",
        "    \"\"\"\n",
        "    Extract video ID from a YouTube video URL.\n",
        "    \"\"\"\n",
        "    match = re.search(r\"(?:v=|youtu\\.be\\/)([^&?]+)\", video_url)\n",
        "    if match:\n",
        "        return match.group(1)\n",
        "    return None\n",
        "\n",
        "# In case of YouTube video download transcipt text for it\n",
        "youtube_video_id = extract_video_id(video_url)\n",
        "\n",
        "if youtube_video_id:\n",
        "    if supadata_api_token is None:\n",
        "      raise ValueError(\n",
        "          \"SUPADATA_TOKEN user data variable not set. \"\n",
        "          \"Please set it in Colab's.\"\n",
        "          \"Click on the 'KEY' on the left side\"\n",
        "      )\n",
        "    supadata = Supadata(api_key=supadata_api_token)\n",
        "    try:\n",
        "        transcript = supadata.youtube.transcript(video_id=youtube_video_id)\n",
        "    except Exception as e:\n",
        "        print(f\"Error fetching transcript: {e}\")\n",
        "else:\n",
        "    print(\"Invalid YouTube URL provided.\")\n"
      ],
      "metadata": {
        "id": "XCooJ_PJZ5OD"
      },
      "execution_count": null,
      "outputs": []
    },
    {
      "cell_type": "code",
      "source": [
        "transcript"
      ],
      "metadata": {
        "colab": {
          "base_uri": "https://localhost:8080/"
        },
        "id": "JZVdlMmObMAp",
        "outputId": "a38f5fda-8df3-4369-f4c0-4c6798dcb784"
      },
      "execution_count": 10,
      "outputs": [
        {
          "output_type": "execute_result",
          "data": {
            "text/plain": [
              "Transcript(content=[TranscriptChunk(text='this 400-year old book should have', offset=199, duration=4441, lang='en'), TranscriptChunk(text='changed mathematics Forever This Is The', offset=2159, duration=4680, lang='en'), TranscriptChunk(text=\"Swiss clockmaker Jos bergy's arithmetic\", offset=4640, duration=4760, lang='en'), TranscriptChunk(text='and geometric progression tables the', offset=6839, duration=4401, lang='en'), TranscriptChunk(text='book contains an ingenious mathematical', offset=9400, duration=4800, lang='en'), TranscriptChunk(text='Hack That Bergie called red numbers and', offset=11240, duration=4479, lang='en'), TranscriptChunk(text='the design of a powerful Computing', offset=14200, duration=3360, lang='en'), TranscriptChunk(text='device that uses these red numbers', offset=15719, duration=4521, lang='en'), TranscriptChunk(text=\"hiding on its title page bergy's hack\", offset=17560, duration=4440, lang='en'), TranscriptChunk(text='works by constructing an enormous table', offset=20240, duration=4000, lang='en'), TranscriptChunk(text='of numbers where each number is simply', offset=22000, duration=4760, lang='en'), TranscriptChunk(text='the previous number time', offset=24240, duration=4959, lang='en'), TranscriptChunk(text='1.001 starting at one and repeating this', offset=26760, duration=4999, lang='en'), TranscriptChunk(text='operation again again Bergie computed', offset=29199, duration=5561, lang='en'), TranscriptChunk(text='23,27 individual numbers with nine', offset=31759, duration=5401, lang='en'), TranscriptChunk(text='digits of precision stopping at a final', offset=34760, duration=4959, lang='en'), TranscriptChunk(text='value of 10 Bergie called these numbers', offset=37160, duration=5000, lang='en'), TranscriptChunk(text='black numbers each black number has a', offset=39719, duration=4680, lang='en'), TranscriptChunk(text='corresponding red number which indicates', offset=42160, duration=3559, lang='en'), TranscriptChunk(text='how many times', offset=44399, duration=3921, lang='en'), TranscriptChunk(text='1.001 was multiplied together to compute', offset=45719, duration=4961, lang='en'), TranscriptChunk(text='the given black number for any given', offset=48320, duration=3960, lang='en'), TranscriptChunk(text=\"black number on bergie's table we can\", offset=50680, duration=3600, lang='en'), TranscriptChunk(text='get its red number by adding together', offset=52280, duration=4480, lang='en'), TranscriptChunk(text='the red numbers for its row and column', offset=54280, duration=4160, lang='en'), TranscriptChunk(text='Bergie used dots for the digits that', offset=56760, duration=4000, lang='en'), TranscriptChunk(text=\"don't change from row to row the black\", offset=58440, duration=4640, lang='en'), TranscriptChunk(text='number 1.011', offset=60760, duration=6480, lang='en'), TranscriptChunk(text='06017 has a red number of 100 + 10 equal', offset=63080, duration=6320, lang='en'), TranscriptChunk(text='110 which means that', offset=67240, duration=8160, lang='en'), TranscriptChunk(text='1.001 to the power of 110 equals 1.11', offset=69400, duration=8680, lang='en'), TranscriptChunk(text='06017 now how is this giant table of', offset=75400, duration=5719, lang='en'), TranscriptChunk(text='numbers at all useful it turns out that', offset=78080, duration=4520, lang='en'), TranscriptChunk(text='the mapping between the black and red', offset=81119, duration=3081, lang='en'), TranscriptChunk(text='numbers creates an ingenious', offset=82600, duration=2879, lang='en'), TranscriptChunk(text='mathematical', offset=84200, duration=3320, lang='en'), TranscriptChunk(text=\"shortcut let's say we want to multiply\", offset=85479, duration=4881, lang='en'), TranscriptChunk(text='the numbers 3191 and 2.', offset=87520, duration=4760, lang='en'), TranscriptChunk(text='475 instead of working out the', offset=90360, duration=4160, lang='en'), TranscriptChunk(text='multiplication by hand we can use', offset=92280, duration=3400, lang='en'), TranscriptChunk(text=\"bergy's table to turn this\", offset=94520, duration=2800, lang='en'), TranscriptChunk(text='multiplication problem into a much', offset=95680, duration=4479, lang='en'), TranscriptChunk(text='simpler addition problem first we find', offset=97320, duration=4479, lang='en'), TranscriptChunk(text=\"the closest black numbers in bergy's\", offset=100159, duration=5320, lang='en'), TranscriptChunk(text='tables and get their red numbers 3191', offset=101799, duration=5801, lang='en'), TranscriptChunk(text='maps to the red number', offset=105479, duration=6081, lang='en'), TranscriptChunk(text='11,604 and 2475 maps to', offset=107600, duration=5879, lang='en'), TranscriptChunk(text='9,063 we can now rewrite our', offset=111560, duration=3760, lang='en'), TranscriptChunk(text='multiplication problem is', offset=113479, duration=4401, lang='en'), TranscriptChunk(text='1.001 to the power of', offset=115320, duration=7600, lang='en'), TranscriptChunk(text='11,604 Time 1 00001 to the power of', offset=117880, duration=7320, lang='en'), TranscriptChunk(text='9,063 since both numbers are Rewritten', offset=122920, duration=4559, lang='en'), TranscriptChunk(text='as powers of the same base all we have', offset=125200, duration=4000, lang='en'), TranscriptChunk(text='to do now is add our red number', offset=127479, duration=4321, lang='en'), TranscriptChunk(text='exponents together leaving us with', offset=129199.99999999999, duration=5840, lang='en'), TranscriptChunk(text='1.001 to the power of', offset=131800, duration=6040, lang='en'), TranscriptChunk(text='20667 to get our final answer we return', offset=135040, duration=4640, lang='en'), TranscriptChunk(text=\"to bergy's table and find the black\", offset=137840, duration=3720, lang='en'), TranscriptChunk(text='number that corresponds to our new red', offset=139680, duration=4120, lang='en'), TranscriptChunk(text='number giving us the correct answer to', offset=141560, duration=6240, lang='en'), TranscriptChunk(text='three decimal places 7. 898 notice that', offset=143800, duration=6360, lang='en'), TranscriptChunk(text=\"we didn't have to multiply anything the\", offset=147800, duration=4078.9999999999995, lang='en'), TranscriptChunk(text='only math we had to do was adding', offset=150160, duration=4840, lang='en'), TranscriptChunk(text='together 11,604 and', offset=151879, duration=5521, lang='en'), TranscriptChunk(text='9963 and with an extra interpolation', offset=155000, duration=4200, lang='en'), TranscriptChunk(text=\"step bergy's table gives answers\", offset=157400, duration=4640, lang='en'), TranscriptChunk(text='accurate to seven decimal places but', offset=159200, duration=5880, lang='en'), TranscriptChunk(text=\"wait there's more bergy's table not only\", offset=162040, duration=5040, lang='en'), TranscriptChunk(text='converts multiplication into addition it', offset=165080, duration=4120, lang='en'), TranscriptChunk(text='also changes division into subtraction', offset=167080, duration=3879, lang='en'), TranscriptChunk(text='exponentiation into multiplication and', offset=169200, duration=4119, lang='en'), TranscriptChunk(text='root finding into division for example', offset=170959, duration=3801, lang='en'), TranscriptChunk(text=\"we can use bergy's table to find the\", offset=173319, duration=3521, lang='en'), TranscriptChunk(text='square root of five looking up five in', offset=174760, duration=3680, lang='en'), TranscriptChunk(text=\"bergie's table we see that its red\", offset=176840, duration=5119, lang='en'), TranscriptChunk(text='number is 16,9 96 so we can rewrite our', offset=178440, duration=5439, lang='en'), TranscriptChunk(text='problem as the square root of', offset=181959, duration=4761, lang='en'), TranscriptChunk(text='1.001 to the power of', offset=183879, duration=5720, lang='en'), TranscriptChunk(text='1696 rewriting our square root as a 1/2', offset=186720, duration=5799, lang='en'), TranscriptChunk(text='power we can simplify our expression to', offset=189599, duration=5601, lang='en'), TranscriptChunk(text='1.001 to the power of', offset=192519, duration=6121, lang='en'), TranscriptChunk(text='8048 taking 848 as our new red number we', offset=195200, duration=5240, lang='en'), TranscriptChunk(text='can look up this value in our table to', offset=198640, duration=3280, lang='en'), TranscriptChunk(text='get our new black number and final', offset=200440, duration=4840, lang='en'), TranscriptChunk(text='answer of 2.23 6 so instead of taking a', offset=201920, duration=5520, lang='en'), TranscriptChunk(text='messy square root the only actual math', offset=205280, duration=5800, lang='en'), TranscriptChunk(text='we had to do was to divide 16,9 6X two', offset=207440, duration=5480, lang='en'), TranscriptChunk(text=\"so Berg's table effectively converts\", offset=211080, duration=4480, lang='en'), TranscriptChunk(text='Roots into division on his title page', offset=212920, duration=4879, lang='en'), TranscriptChunk(text='Bergie arranges every 500th value from', offset=215560, duration=4679, lang='en'), TranscriptChunk(text='his table neatly into a circle although', offset=217799, duration=4481, lang='en'), TranscriptChunk(text=\"Bergie doesn't say this explicitly this\", offset=220239, duration=4041.0000000000005, lang='en'), TranscriptChunk(text='circular Arrangement is likely not just', offset=222280, duration=4599, lang='en'), TranscriptChunk(text='about Aesthetics it anticipates the most', offset=224280, duration=4319, lang='en'), TranscriptChunk(text='powerful Computing device on the planet', offset=226879, duration=5321, lang='en'), TranscriptChunk(text='for the next 350 years in fact with some', offset=228599, duration=5881, lang='en'), TranscriptChunk(text=\"minor modifications we can turn bergy's\", offset=232200, duration=4959, lang='en'), TranscriptChunk(text='cover page into this Computing', offset=234480, duration=5399, lang='en'), TranscriptChunk(text='device this is called a circular slide', offset=237159, duration=5201, lang='en'), TranscriptChunk(text=\"rule while bergy's tables turn harder\", offset=239879, duration=4560, lang='en'), TranscriptChunk(text='math problems into simpler ones the', offset=242360, duration=3480, lang='en'), TranscriptChunk(text='slide rule gives us a way to solve', offset=244439, duration=3601, lang='en'), TranscriptChunk(text='problems without doing any math at all', offset=245840, duration=4840, lang='en'), TranscriptChunk(text='to multiply 1. 1284 by', offset=248040, duration=5720, lang='en'), TranscriptChunk(text='2.04 we find the closest Value to 1. 284', offset=250680, duration=5040, lang='en'), TranscriptChunk(text='on our outer ring and move the starting', offset=253760, duration=4240, lang='en'), TranscriptChunk(text='value of our inner ring here we then', offset=255720, duration=4479, lang='en'), TranscriptChunk(text='find the closest number to 2.04 in our', offset=258000, duration=4120, lang='en'), TranscriptChunk(text='inner ring and see where this lines up', offset=260199, duration=3641, lang='en'), TranscriptChunk(text=\"against our outer ring looks like it's\", offset=262120, duration=3000, lang='en'), TranscriptChunk(text='closest to', offset=263840, duration=4160, lang='en'), TranscriptChunk(text='2586 which is the correct answer this', offset=265120, duration=4760, lang='en'), TranscriptChunk(text='works following the same principle that', offset=268000, duration=3160, lang='en'), TranscriptChunk(text=\"allows Berg's table to map\", offset=269880, duration=3920, lang='en'), TranscriptChunk(text='multiplication to addition each step on', offset=271160, duration=4640, lang='en'), TranscriptChunk(text='our circular slide rule corresponds to a', offset=273800, duration=5040, lang='en'), TranscriptChunk(text='red number increase of 500 it takes five', offset=275800, duration=6200, lang='en'), TranscriptChunk(text='steps to reach 1. 1284 and another 14', offset=278840, duration=4400, lang='en'), TranscriptChunk(text='steps to reach', offset=282000, duration=4120, lang='en'), TranscriptChunk(text='2.14 moving our inner ring to start at', offset=283240, duration=5640, lang='en'), TranscriptChunk(text='1. 1284 on our outer ring effectively', offset=286120, duration=5440, lang='en'), TranscriptChunk(text='lets us add together our two rotations', offset=288880, duration=5360, lang='en'), TranscriptChunk(text='for a total of 19 steps or a red number', offset=291560, duration=6280, lang='en'), TranscriptChunk(text='of 9,500 measured on our outer ring so', offset=294240, duration=5480, lang='en'), TranscriptChunk(text='the slide rule itself is performing', offset=297840, duration=4440, lang='en'), TranscriptChunk(text=\"addition with Berg's red numbers but\", offset=299720, duration=4280, lang='en'), TranscriptChunk(text=\"since it's labeled with Berg's black\", offset=302280, duration=3600, lang='en'), TranscriptChunk(text='numbers these physical additions are', offset=304000, duration=3280, lang='en'), TranscriptChunk(text='transformed into', offset=305880, duration=3640, lang='en'), TranscriptChunk(text='multiplications our slide rule is adding', offset=307280, duration=6240, lang='en'), TranscriptChunk(text='the red numbers 2,500 and 7,000 for us', offset=309520, duration=5280, lang='en'), TranscriptChunk(text='which is equivalent to solving our', offset=313520, duration=5160, lang='en'), TranscriptChunk(text='multiplication problem 1. 1284 * 2.14', offset=314800, duration=6399, lang='en'), TranscriptChunk(text='giving the correct answer', offset=318680, duration=5560, lang='en'), TranscriptChunk(text='2586 division works in a similar way to', offset=321199, duration=6560, lang='en'), TranscriptChunk(text='divide 73.8 by', offset=324240, duration=3519, lang='en'), TranscriptChunk(text=\"38.572786 since bergie's numbers only go\", offset=328479, duration=4801, lang='en'), TranscriptChunk(text='up to 10 we now need to find the closest', offset=330960, duration=5160, lang='en'), TranscriptChunk(text='Value to 7. 388 on our outer ring and', offset=333280, duration=4240, lang='en'), TranscriptChunk(text='line it up with the closest Value to', offset=336120, duration=4519, lang='en'), TranscriptChunk(text='3857 on our inner ring we now just have', offset=337520, duration=4360, lang='en'), TranscriptChunk(text='to look for where the starting point of', offset=340639, duration=3641, lang='en'), TranscriptChunk(text='our inner ring intersects our outer ring', offset=341880, duration=3759, lang='en'), TranscriptChunk(text='looks like about', offset=344280, duration=4840, lang='en'), TranscriptChunk(text='1.95 this is the correct answer here the', offset=345639, duration=5560, lang='en'), TranscriptChunk(text='arrangement of our diss is performing', offset=349120, duration=3960, lang='en'), TranscriptChunk(text='subtraction which is being mapped to', offset=351199, duration=4401, lang='en'), TranscriptChunk(text='division by bergies numbers in these', offset=353080, duration=4360, lang='en'), TranscriptChunk(text='examples we use values that line up', offset=355600, duration=3920, lang='en'), TranscriptChunk(text='really nicely with bergies numbers this', offset=357440, duration=4038.9999999999995, lang='en'), TranscriptChunk(text=\"of course won't always be the case and\", offset=359520, duration=3799, lang='en'), TranscriptChunk(text='most circular slide roles have lots and', offset=361479, duration=4121, lang='en'), TranscriptChunk(text='lots of nice tick marks usually allowing', offset=363319, duration=3880, lang='en'), TranscriptChunk(text='the user to find the number they need to', offset=365600, duration=4640, lang='en'), TranscriptChunk(text='two or three decimal places so what did', offset=367199, duration=5280, lang='en'), TranscriptChunk(text='Jos Bergie do with his incredible new', offset=370240, duration=5560, lang='en'), TranscriptChunk(text='discovery basically nothing he kept his', offset=372479, duration=6000, lang='en'), TranscriptChunk(text='Discovery mostly secret for his own work', offset=375800, duration=4440, lang='en'), TranscriptChunk(text='although he did share with a friend the', offset=378479, duration=4160, lang='en'), TranscriptChunk(text='astronomer Johannes Kepler at the time', offset=380240, duration=4000, lang='en'), TranscriptChunk(text='Kepler was working on the rudolphine', offset=382639, duration=3881, lang='en'), TranscriptChunk(text='tables which gave equations and tables', offset=384240, duration=4078.9999999999995, lang='en'), TranscriptChunk(text='for the precise location of the stars', offset=386520, duration=4399, lang='en'), TranscriptChunk(text='and planets from any where on Earth an', offset=388319, duration=5000, lang='en'), TranscriptChunk(text='enormous computational effort greatly', offset=390919, duration=5241, lang='en'), TranscriptChunk(text=\"aided by bergy's work Kepler included\", offset=393319, duration=4841, lang='en'), TranscriptChunk(text='this line in the final ruding tables', offset=396160, duration=4200, lang='en'), TranscriptChunk(text='manuscript expressing his frustration', offset=398160, duration=4960, lang='en'), TranscriptChunk(text=\"with Berg's decision not to publish but\", offset=400360, duration=4839, lang='en'), TranscriptChunk(text='he a hesitating man and guardian of his', offset=403120, duration=4600, lang='en'), TranscriptChunk(text='Secrets abandoned the child at Birth and', offset=405199, duration=4961, lang='en'), TranscriptChunk(text=\"didn't raise it for the common benefit\", offset=407720, duration=4479, lang='en'), TranscriptChunk(text=\"this is why bergy's book did not change\", offset=410160, duration=4400, lang='en'), TranscriptChunk(text='math forever in the 10 or so years that', offset=412199, duration=4400, lang='en'), TranscriptChunk(text='Bergie delayed publication the Scottish', offset=414560, duration=4240, lang='en'), TranscriptChunk(text='mathematician John Napier independently', offset=416599, duration=4600, lang='en'), TranscriptChunk(text='made the same Discovery although with a', offset=418800, duration=4119, lang='en'), TranscriptChunk(text='more complex and less intuitive', offset=421199, duration=3720, lang='en'), TranscriptChunk(text='derivation and published a full book of', offset=422919, duration=3161, lang='en'), TranscriptChunk(text='tables in', offset=424919, duration=4361, lang='en'), TranscriptChunk(text='1614 Napier called his Discovery', offset=426080, duration=5519, lang='en'), TranscriptChunk(text='logarithms his approach and name quickly', offset=429280, duration=4080, lang='en'), TranscriptChunk(text='caught on and today we call the red', offset=431599, duration=3841, lang='en'), TranscriptChunk(text=\"numbers in bergy's table the logarithms\", offset=433360, duration=5239, lang='en'), TranscriptChunk(text='of the black numbers for the next 350', offset=435440, duration=5560, lang='en'), TranscriptChunk(text='years until the popularization of the', offset=438599, duration=4160, lang='en'), TranscriptChunk(text='electronic calculator in the', offset=441000, duration=4400, lang='en'), TranscriptChunk(text='1970s tables of logarithms in the slide', offset=442759, duration=5681, lang='en'), TranscriptChunk(text='rule were the primary tools used for all', offset=445400, duration=5919, lang='en'), TranscriptChunk(text='mathematical comput', offset=448440, duration=2879, lang='en'), TranscriptChunk(text='today logarithms are more important than', offset=453520, duration=3720, lang='en'), TranscriptChunk(text='ever in mathematics science and', offset=455400, duration=3639, lang='en'), TranscriptChunk(text=\"engineering if you're looking to build\", offset=457240, duration=4239, lang='en'), TranscriptChunk(text='up your foundational math skills or pick', offset=459039, duration=4761, lang='en'), TranscriptChunk(text='up Advanced topics like machine learning', offset=461479, duration=3961, lang='en'), TranscriptChunk(text='this video sponsored brilliant is an', offset=463800, duration=3799, lang='en'), TranscriptChunk(text='interactive fun and highly effective way', offset=465440, duration=4479, lang='en'), TranscriptChunk(text='to learn these topics and more', offset=467599, duration=4280, lang='en'), TranscriptChunk(text='logarithms play a critical role in the', offset=469919, duration=3881, lang='en'), TranscriptChunk(text='loss functions of the neural networks', offset=471879, duration=4720, lang='en'), TranscriptChunk(text='that power this generation of AI and the', offset=473800, duration=4399, lang='en'), TranscriptChunk(text='brilliant artificial neural networks', offset=476599, duration=3320, lang='en'), TranscriptChunk(text='course is a great way way to pick up', offset=478199, duration=4081.0000000000005, lang='en'), TranscriptChunk(text=\"these valuable skills and there's even a\", offset=479919, duration=5041, lang='en'), TranscriptChunk(text='course on large language models', offset=482280, duration=4400, lang='en'), TranscriptChunk(text='Brilliance exploring data visually', offset=484960, duration=3760, lang='en'), TranscriptChunk(text='course is a great way to understand the', offset=486680, duration=4919, lang='en'), TranscriptChunk(text='key role that logarithms play in data', offset=488720, duration=5159, lang='en'), TranscriptChunk(text='visualization finally today we treat', offset=491599, duration=4160, lang='en'), TranscriptChunk(text='logarithms as just another mathematical', offset=493879, duration=4361, lang='en'), TranscriptChunk(text='function Brilliance foundational math', offset=495759, duration=4361, lang='en'), TranscriptChunk(text='courses are a great way to learn or', offset=498240, duration=3799, lang='en'), TranscriptChunk(text='brush up on functions and other key', offset=500120, duration=4880, lang='en'), TranscriptChunk(text='mathematical ideas in my experience', offset=502039, duration=4921, lang='en'), TranscriptChunk(text='watching videos will only take you so', offset=505000, duration=4280, lang='en'), TranscriptChunk(text='far on these topics you really have to', offset=506960, duration=4600, lang='en'), TranscriptChunk(text='to do something and Brilliant is a', offset=509280, duration=4480, lang='en'), TranscriptChunk(text='terrific bite-sized way to learn by', offset=511560, duration=4640, lang='en'), TranscriptChunk(text='doing you can try brilliant for free for', offset=513760, duration=3920, lang='en'), TranscriptChunk(text='the first 30 days by visiting', offset=516200.00000000006, duration=5000, lang='en'), TranscriptChunk(text='brilliant.org Welch laabs and the first', offset=517679.99999999994, duration=5719, lang='en'), TranscriptChunk(text='200 subscribers receive 20% off', offset=521200.00000000006, duration=6960, lang='en'), TranscriptChunk(text=\"brilliant's annual premium subscription\", offset=523399, duration=4761, lang='en')], lang='en', available_langs=['en'])"
            ]
          },
          "metadata": {},
          "execution_count": 10
        }
      ]
    },
    {
      "cell_type": "code",
      "source": [
        "def format_time(milliseconds):\n",
        "    \"\"\"Formats the time from milliseconds to HH:MM:SS,mmm format.\"\"\"\n",
        "\n",
        "    seconds = milliseconds / 1000\n",
        "    minutes, seconds = divmod(seconds, 60)\n",
        "    hours, minutes = divmod(minutes, 60)\n",
        "    milliseconds = int(round((seconds - int(seconds)) * 1000))\n",
        "    seconds = int(seconds)\n",
        "\n",
        "    return f\"{int(hours):02}:{int(minutes):02}:{int(seconds):02},{milliseconds:03}\"\n",
        "\n",
        "def convert_to_srt(transcript_content):\n",
        "    \"\"\"Converts the transcript content to SRT format.\"\"\"\n",
        "\n",
        "    srt_text = \"\"\n",
        "    for i, segment in enumerate(transcript_content):\n",
        "\n",
        "        start_time = segment['offset']\n",
        "        end_time = segment['offset'] + segment['duration']\n",
        "        text = segment['text']\n",
        "\n",
        "        # Format the timestamps\n",
        "        start_time_formatted = format_time(start_time)\n",
        "        end_time_formatted = format_time(end_time)\n",
        "\n",
        "        srt_text += f\"{i+1}\\n\"\n",
        "        srt_text += f\"{start_time_formatted} --> {end_time_formatted}\\n\"\n",
        "        srt_text += f\"{text}\\n\\n\"\n",
        "    return srt_text\n",
        "\n",
        "#checking transcript content.\n",
        "if 'transcript' in locals() and hasattr(transcript, 'content') and transcript.content is not None and len(transcript.content)>0:\n",
        "  srt_text = convert_to_srt([{\"offset\":item.offset, \"duration\":item.duration, \"text\":item.text} for item in transcript.content])\n"
      ],
      "metadata": {
        "id": "FBenuDjpfQcU"
      },
      "execution_count": 11,
      "outputs": []
    },
    {
      "cell_type": "code",
      "source": [
        "srt_text"
      ],
      "metadata": {
        "colab": {
          "base_uri": "https://localhost:8080/",
          "height": 157
        },
        "id": "KMcoJsRifZYX",
        "outputId": "3c159398-8068-4112-daa3-90257172ac0b"
      },
      "execution_count": 12,
      "outputs": [
        {
          "output_type": "execute_result",
          "data": {
            "text/plain": [
              "\"1\\n00:00:00,199 --> 00:00:04,640\\nthis 400-year old book should have\\n\\n2\\n00:00:02,159 --> 00:00:06,839\\nchanged mathematics Forever This Is The\\n\\n3\\n00:00:04,640 --> 00:00:09,400\\nSwiss clockmaker Jos bergy's arithmetic\\n\\n4\\n00:00:06,839 --> 00:00:11,240\\nand geometric progression tables the\\n\\n5\\n00:00:09,400 --> 00:00:14,200\\nbook contains an ingenious mathematical\\n\\n6\\n00:00:11,240 --> 00:00:15,719\\nHack That Bergie called red numbers and\\n\\n7\\n00:00:14,200 --> 00:00:17,560\\nthe design of a powerful Computing\\n\\n8\\n00:00:15,719 --> 00:00:20,240\\ndevice that uses these red numbers\\n\\n9\\n00:00:17,560 --> 00:00:22,000\\nhiding on its title page bergy's hack\\n\\n10\\n00:00:20,240 --> 00:00:24,240\\nworks by constructing an enormous table\\n\\n11\\n00:00:22,000 --> 00:00:26,760\\nof numbers where each number is simply\\n\\n12\\n00:00:24,240 --> 00:00:29,199\\nthe previous number time\\n\\n13\\n00:00:26,760 --> 00:00:31,759\\n1.001 starting at one and repeating this\\n\\n14\\n00:00:29,199 --> 00:00:34,760\\noperation again again Bergie computed\\n\\n15\\n00:00:31,759 --> 00:00:37,160\\n23,27 individual numbers with nine\\n\\n16\\n00:00:34,760 --> 00:00:39,719\\ndigits of precision stopping at a final\\n\\n17\\n00:00:37,160 --> 00:00:42,160\\nvalue of 10 Bergie called these numbers\\n\\n18\\n00:00:39,719 --> 00:00:44,399\\nblack numbers each black number has a\\n\\n19\\n00:00:42,160 --> 00:00:45,719\\ncorresponding red number which indicates\\n\\n20\\n00:00:44,399 --> 00:00:48,320\\nhow many times\\n\\n21\\n00:00:45,719 --> 00:00:50,680\\n1.001 was multiplied together to compute\\n\\n22\\n00:00:48,320 --> 00:00:52,280\\nthe given black number for any given\\n\\n23\\n00:00:50,680 --> 00:00:54,280\\nblack number on bergie's table we can\\n\\n24\\n00:00:52,280 --> 00:00:56,760\\nget its red number by adding together\\n\\n25\\n00:00:54,280 --> 00:00:58,440\\nthe red numbers for its row and column\\n\\n26\\n00:00:56,760 --> 00:01:00,760\\nBergie used dots for the digits that\\n\\n27\\n00:00:58,440 --> 00:01:03,080\\ndon't change from row to row the black\\n\\n28\\n00:01:00,760 --> 00:01:07,240\\nnumber 1.011\\n\\n29\\n00:01:03,080 --> 00:01:09,400\\n06017 has a red number of 100 + 10 equal\\n\\n30\\n00:01:07,240 --> 00:01:15,400\\n110 which means that\\n\\n31\\n00:01:09,400 --> 00:01:18,080\\n1.001 to the power of 110 equals 1.11\\n\\n32\\n00:01:15,400 --> 00:01:21,119\\n06017 now how is this giant table of\\n\\n33\\n00:01:18,080 --> 00:01:22,600\\nnumbers at all useful it turns out that\\n\\n34\\n00:01:21,119 --> 00:01:24,200\\nthe mapping between the black and red\\n\\n35\\n00:01:22,600 --> 00:01:25,479\\nnumbers creates an ingenious\\n\\n36\\n00:01:24,200 --> 00:01:27,520\\nmathematical\\n\\n37\\n00:01:25,479 --> 00:01:30,360\\nshortcut let's say we want to multiply\\n\\n38\\n00:01:27,520 --> 00:01:32,280\\nthe numbers 3191 and 2.\\n\\n39\\n00:01:30,360 --> 00:01:34,520\\n475 instead of working out the\\n\\n40\\n00:01:32,280 --> 00:01:35,680\\nmultiplication by hand we can use\\n\\n41\\n00:01:34,520 --> 00:01:37,320\\nbergy's table to turn this\\n\\n42\\n00:01:35,680 --> 00:01:40,159\\nmultiplication problem into a much\\n\\n43\\n00:01:37,320 --> 00:01:41,799\\nsimpler addition problem first we find\\n\\n44\\n00:01:40,159 --> 00:01:45,479\\nthe closest black numbers in bergy's\\n\\n45\\n00:01:41,799 --> 00:01:47,600\\ntables and get their red numbers 3191\\n\\n46\\n00:01:45,479 --> 00:01:51,560\\nmaps to the red number\\n\\n47\\n00:01:47,600 --> 00:01:53,479\\n11,604 and 2475 maps to\\n\\n48\\n00:01:51,560 --> 00:01:55,320\\n9,063 we can now rewrite our\\n\\n49\\n00:01:53,479 --> 00:01:57,880\\nmultiplication problem is\\n\\n50\\n00:01:55,320 --> 00:02:02,920\\n1.001 to the power of\\n\\n51\\n00:01:57,880 --> 00:02:05,200\\n11,604 Time 1 00001 to the power of\\n\\n52\\n00:02:02,920 --> 00:02:07,479\\n9,063 since both numbers are Rewritten\\n\\n53\\n00:02:05,200 --> 00:02:09,200\\nas powers of the same base all we have\\n\\n54\\n00:02:07,479 --> 00:02:11,800\\nto do now is add our red number\\n\\n55\\n00:02:09,200 --> 00:02:15,040\\nexponents together leaving us with\\n\\n56\\n00:02:11,800 --> 00:02:17,840\\n1.001 to the power of\\n\\n57\\n00:02:15,040 --> 00:02:19,680\\n20667 to get our final answer we return\\n\\n58\\n00:02:17,840 --> 00:02:21,560\\nto bergy's table and find the black\\n\\n59\\n00:02:19,680 --> 00:02:23,800\\nnumber that corresponds to our new red\\n\\n60\\n00:02:21,560 --> 00:02:27,800\\nnumber giving us the correct answer to\\n\\n61\\n00:02:23,800 --> 00:02:30,160\\nthree decimal places 7. 898 notice that\\n\\n62\\n00:02:27,800 --> 00:02:31,879\\nwe didn't have to multiply anything the\\n\\n63\\n00:02:30,160 --> 00:02:35,000\\nonly math we had to do was adding\\n\\n64\\n00:02:31,879 --> 00:02:37,400\\ntogether 11,604 and\\n\\n65\\n00:02:35,000 --> 00:02:39,200\\n9963 and with an extra interpolation\\n\\n66\\n00:02:37,400 --> 00:02:42,040\\nstep bergy's table gives answers\\n\\n67\\n00:02:39,200 --> 00:02:45,080\\naccurate to seven decimal places but\\n\\n68\\n00:02:42,040 --> 00:02:47,080\\nwait there's more bergy's table not only\\n\\n69\\n00:02:45,080 --> 00:02:49,200\\nconverts multiplication into addition it\\n\\n70\\n00:02:47,080 --> 00:02:50,959\\nalso changes division into subtraction\\n\\n71\\n00:02:49,200 --> 00:02:53,319\\nexponentiation into multiplication and\\n\\n72\\n00:02:50,959 --> 00:02:54,760\\nroot finding into division for example\\n\\n73\\n00:02:53,319 --> 00:02:56,840\\nwe can use bergy's table to find the\\n\\n74\\n00:02:54,760 --> 00:02:58,440\\nsquare root of five looking up five in\\n\\n75\\n00:02:56,840 --> 00:03:01,959\\nbergie's table we see that its red\\n\\n76\\n00:02:58,440 --> 00:03:03,879\\nnumber is 16,9 96 so we can rewrite our\\n\\n77\\n00:03:01,959 --> 00:03:06,720\\nproblem as the square root of\\n\\n78\\n00:03:03,879 --> 00:03:09,599\\n1.001 to the power of\\n\\n79\\n00:03:06,720 --> 00:03:12,519\\n1696 rewriting our square root as a 1/2\\n\\n80\\n00:03:09,599 --> 00:03:15,200\\npower we can simplify our expression to\\n\\n81\\n00:03:12,519 --> 00:03:18,640\\n1.001 to the power of\\n\\n82\\n00:03:15,200 --> 00:03:20,440\\n8048 taking 848 as our new red number we\\n\\n83\\n00:03:18,640 --> 00:03:21,920\\ncan look up this value in our table to\\n\\n84\\n00:03:20,440 --> 00:03:25,280\\nget our new black number and final\\n\\n85\\n00:03:21,920 --> 00:03:27,440\\nanswer of 2.23 6 so instead of taking a\\n\\n86\\n00:03:25,280 --> 00:03:31,080\\nmessy square root the only actual math\\n\\n87\\n00:03:27,440 --> 00:03:32,920\\nwe had to do was to divide 16,9 6X two\\n\\n88\\n00:03:31,080 --> 00:03:35,560\\nso Berg's table effectively converts\\n\\n89\\n00:03:32,920 --> 00:03:37,799\\nRoots into division on his title page\\n\\n90\\n00:03:35,560 --> 00:03:40,239\\nBergie arranges every 500th value from\\n\\n91\\n00:03:37,799 --> 00:03:42,280\\nhis table neatly into a circle although\\n\\n92\\n00:03:40,239 --> 00:03:44,280\\nBergie doesn't say this explicitly this\\n\\n93\\n00:03:42,280 --> 00:03:46,879\\ncircular Arrangement is likely not just\\n\\n94\\n00:03:44,280 --> 00:03:48,599\\nabout Aesthetics it anticipates the most\\n\\n95\\n00:03:46,879 --> 00:03:52,200\\npowerful Computing device on the planet\\n\\n96\\n00:03:48,599 --> 00:03:54,480\\nfor the next 350 years in fact with some\\n\\n97\\n00:03:52,200 --> 00:03:57,159\\nminor modifications we can turn bergy's\\n\\n98\\n00:03:54,480 --> 00:03:59,879\\ncover page into this Computing\\n\\n99\\n00:03:57,159 --> 00:04:02,360\\ndevice this is called a circular slide\\n\\n100\\n00:03:59,879 --> 00:04:04,439\\nrule while bergy's tables turn harder\\n\\n101\\n00:04:02,360 --> 00:04:05,840\\nmath problems into simpler ones the\\n\\n102\\n00:04:04,439 --> 00:04:08,040\\nslide rule gives us a way to solve\\n\\n103\\n00:04:05,840 --> 00:04:10,680\\nproblems without doing any math at all\\n\\n104\\n00:04:08,040 --> 00:04:13,760\\nto multiply 1. 1284 by\\n\\n105\\n00:04:10,680 --> 00:04:15,720\\n2.04 we find the closest Value to 1. 284\\n\\n106\\n00:04:13,760 --> 00:04:18,000\\non our outer ring and move the starting\\n\\n107\\n00:04:15,720 --> 00:04:20,199\\nvalue of our inner ring here we then\\n\\n108\\n00:04:18,000 --> 00:04:22,120\\nfind the closest number to 2.04 in our\\n\\n109\\n00:04:20,199 --> 00:04:23,840\\ninner ring and see where this lines up\\n\\n110\\n00:04:22,120 --> 00:04:25,120\\nagainst our outer ring looks like it's\\n\\n111\\n00:04:23,840 --> 00:04:28,000\\nclosest to\\n\\n112\\n00:04:25,120 --> 00:04:29,880\\n2586 which is the correct answer this\\n\\n113\\n00:04:28,000 --> 00:04:31,160\\nworks following the same principle that\\n\\n114\\n00:04:29,880 --> 00:04:33,800\\nallows Berg's table to map\\n\\n115\\n00:04:31,160 --> 00:04:35,800\\nmultiplication to addition each step on\\n\\n116\\n00:04:33,800 --> 00:04:38,840\\nour circular slide rule corresponds to a\\n\\n117\\n00:04:35,800 --> 00:04:42,000\\nred number increase of 500 it takes five\\n\\n118\\n00:04:38,840 --> 00:04:43,240\\nsteps to reach 1. 1284 and another 14\\n\\n119\\n00:04:42,000 --> 00:04:46,120\\nsteps to reach\\n\\n120\\n00:04:43,240 --> 00:04:48,880\\n2.14 moving our inner ring to start at\\n\\n121\\n00:04:46,120 --> 00:04:51,560\\n1. 1284 on our outer ring effectively\\n\\n122\\n00:04:48,880 --> 00:04:54,240\\nlets us add together our two rotations\\n\\n123\\n00:04:51,560 --> 00:04:57,840\\nfor a total of 19 steps or a red number\\n\\n124\\n00:04:54,240 --> 00:04:59,720\\nof 9,500 measured on our outer ring so\\n\\n125\\n00:04:57,840 --> 00:05:02,280\\nthe slide rule itself is performing\\n\\n126\\n00:04:59,720 --> 00:05:04,000\\naddition with Berg's red numbers but\\n\\n127\\n00:05:02,280 --> 00:05:05,880\\nsince it's labeled with Berg's black\\n\\n128\\n00:05:04,000 --> 00:05:07,280\\nnumbers these physical additions are\\n\\n129\\n00:05:05,880 --> 00:05:09,520\\ntransformed into\\n\\n130\\n00:05:07,280 --> 00:05:13,520\\nmultiplications our slide rule is adding\\n\\n131\\n00:05:09,520 --> 00:05:14,800\\nthe red numbers 2,500 and 7,000 for us\\n\\n132\\n00:05:13,520 --> 00:05:18,680\\nwhich is equivalent to solving our\\n\\n133\\n00:05:14,800 --> 00:05:21,199\\nmultiplication problem 1. 1284 * 2.14\\n\\n134\\n00:05:18,680 --> 00:05:24,240\\ngiving the correct answer\\n\\n135\\n00:05:21,199 --> 00:05:27,759\\n2586 division works in a similar way to\\n\\n136\\n00:05:24,240 --> 00:05:27,759\\ndivide 73.8 by\\n\\n137\\n00:05:28,479 --> 00:05:33,280\\n38.572786 since bergie's numbers only go\\n\\n138\\n00:05:30,960 --> 00:05:36,120\\nup to 10 we now need to find the closest\\n\\n139\\n00:05:33,280 --> 00:05:37,520\\nValue to 7. 388 on our outer ring and\\n\\n140\\n00:05:36,120 --> 00:05:40,639\\nline it up with the closest Value to\\n\\n141\\n00:05:37,520 --> 00:05:41,880\\n3857 on our inner ring we now just have\\n\\n142\\n00:05:40,639 --> 00:05:44,280\\nto look for where the starting point of\\n\\n143\\n00:05:41,880 --> 00:05:45,639\\nour inner ring intersects our outer ring\\n\\n144\\n00:05:44,280 --> 00:05:49,120\\nlooks like about\\n\\n145\\n00:05:45,639 --> 00:05:51,199\\n1.95 this is the correct answer here the\\n\\n146\\n00:05:49,120 --> 00:05:53,080\\narrangement of our diss is performing\\n\\n147\\n00:05:51,199 --> 00:05:55,600\\nsubtraction which is being mapped to\\n\\n148\\n00:05:53,080 --> 00:05:57,440\\ndivision by bergies numbers in these\\n\\n149\\n00:05:55,600 --> 00:05:59,520\\nexamples we use values that line up\\n\\n150\\n00:05:57,440 --> 00:06:01,479\\nreally nicely with bergies numbers this\\n\\n151\\n00:05:59,520 --> 00:06:03,319\\nof course won't always be the case and\\n\\n152\\n00:06:01,479 --> 00:06:05,600\\nmost circular slide roles have lots and\\n\\n153\\n00:06:03,319 --> 00:06:07,199\\nlots of nice tick marks usually allowing\\n\\n154\\n00:06:05,600 --> 00:06:10,240\\nthe user to find the number they need to\\n\\n155\\n00:06:07,199 --> 00:06:12,479\\ntwo or three decimal places so what did\\n\\n156\\n00:06:10,240 --> 00:06:15,800\\nJos Bergie do with his incredible new\\n\\n157\\n00:06:12,479 --> 00:06:18,479\\ndiscovery basically nothing he kept his\\n\\n158\\n00:06:15,800 --> 00:06:20,240\\nDiscovery mostly secret for his own work\\n\\n159\\n00:06:18,479 --> 00:06:22,639\\nalthough he did share with a friend the\\n\\n160\\n00:06:20,240 --> 00:06:24,240\\nastronomer Johannes Kepler at the time\\n\\n161\\n00:06:22,639 --> 00:06:26,520\\nKepler was working on the rudolphine\\n\\n162\\n00:06:24,240 --> 00:06:28,319\\ntables which gave equations and tables\\n\\n163\\n00:06:26,520 --> 00:06:30,919\\nfor the precise location of the stars\\n\\n164\\n00:06:28,319 --> 00:06:33,319\\nand planets from any where on Earth an\\n\\n165\\n00:06:30,919 --> 00:06:36,160\\nenormous computational effort greatly\\n\\n166\\n00:06:33,319 --> 00:06:38,160\\naided by bergy's work Kepler included\\n\\n167\\n00:06:36,160 --> 00:06:40,360\\nthis line in the final ruding tables\\n\\n168\\n00:06:38,160 --> 00:06:43,120\\nmanuscript expressing his frustration\\n\\n169\\n00:06:40,360 --> 00:06:45,199\\nwith Berg's decision not to publish but\\n\\n170\\n00:06:43,120 --> 00:06:47,720\\nhe a hesitating man and guardian of his\\n\\n171\\n00:06:45,199 --> 00:06:50,160\\nSecrets abandoned the child at Birth and\\n\\n172\\n00:06:47,720 --> 00:06:52,199\\ndidn't raise it for the common benefit\\n\\n173\\n00:06:50,160 --> 00:06:54,560\\nthis is why bergy's book did not change\\n\\n174\\n00:06:52,199 --> 00:06:56,599\\nmath forever in the 10 or so years that\\n\\n175\\n00:06:54,560 --> 00:06:58,800\\nBergie delayed publication the Scottish\\n\\n176\\n00:06:56,599 --> 00:07:01,199\\nmathematician John Napier independently\\n\\n177\\n00:06:58,800 --> 00:07:02,919\\nmade the same Discovery although with a\\n\\n178\\n00:07:01,199 --> 00:07:04,919\\nmore complex and less intuitive\\n\\n179\\n00:07:02,919 --> 00:07:06,080\\nderivation and published a full book of\\n\\n180\\n00:07:04,919 --> 00:07:09,280\\ntables in\\n\\n181\\n00:07:06,080 --> 00:07:11,599\\n1614 Napier called his Discovery\\n\\n182\\n00:07:09,280 --> 00:07:13,360\\nlogarithms his approach and name quickly\\n\\n183\\n00:07:11,599 --> 00:07:15,440\\ncaught on and today we call the red\\n\\n184\\n00:07:13,360 --> 00:07:18,599\\nnumbers in bergy's table the logarithms\\n\\n185\\n00:07:15,440 --> 00:07:21,000\\nof the black numbers for the next 350\\n\\n186\\n00:07:18,599 --> 00:07:22,759\\nyears until the popularization of the\\n\\n187\\n00:07:21,000 --> 00:07:25,400\\nelectronic calculator in the\\n\\n188\\n00:07:22,759 --> 00:07:28,440\\n1970s tables of logarithms in the slide\\n\\n189\\n00:07:25,400 --> 00:07:31,319\\nrule were the primary tools used for all\\n\\n190\\n00:07:28,440 --> 00:07:31,319\\nmathematical comput\\n\\n191\\n00:07:33,520 --> 00:07:37,240\\ntoday logarithms are more important than\\n\\n192\\n00:07:35,400 --> 00:07:39,039\\never in mathematics science and\\n\\n193\\n00:07:37,240 --> 00:07:41,479\\nengineering if you're looking to build\\n\\n194\\n00:07:39,039 --> 00:07:43,800\\nup your foundational math skills or pick\\n\\n195\\n00:07:41,479 --> 00:07:45,440\\nup Advanced topics like machine learning\\n\\n196\\n00:07:43,800 --> 00:07:47,599\\nthis video sponsored brilliant is an\\n\\n197\\n00:07:45,440 --> 00:07:49,919\\ninteractive fun and highly effective way\\n\\n198\\n00:07:47,599 --> 00:07:51,879\\nto learn these topics and more\\n\\n199\\n00:07:49,919 --> 00:07:53,800\\nlogarithms play a critical role in the\\n\\n200\\n00:07:51,879 --> 00:07:56,599\\nloss functions of the neural networks\\n\\n201\\n00:07:53,800 --> 00:07:58,199\\nthat power this generation of AI and the\\n\\n202\\n00:07:56,599 --> 00:07:59,919\\nbrilliant artificial neural networks\\n\\n203\\n00:07:58,199 --> 00:08:02,280\\ncourse is a great way way to pick up\\n\\n204\\n00:07:59,919 --> 00:08:04,960\\nthese valuable skills and there's even a\\n\\n205\\n00:08:02,280 --> 00:08:06,680\\ncourse on large language models\\n\\n206\\n00:08:04,960 --> 00:08:08,720\\nBrilliance exploring data visually\\n\\n207\\n00:08:06,680 --> 00:08:11,599\\ncourse is a great way to understand the\\n\\n208\\n00:08:08,720 --> 00:08:13,879\\nkey role that logarithms play in data\\n\\n209\\n00:08:11,599 --> 00:08:15,759\\nvisualization finally today we treat\\n\\n210\\n00:08:13,879 --> 00:08:18,240\\nlogarithms as just another mathematical\\n\\n211\\n00:08:15,759 --> 00:08:20,120\\nfunction Brilliance foundational math\\n\\n212\\n00:08:18,240 --> 00:08:22,039\\ncourses are a great way to learn or\\n\\n213\\n00:08:20,120 --> 00:08:25,000\\nbrush up on functions and other key\\n\\n214\\n00:08:22,039 --> 00:08:26,960\\nmathematical ideas in my experience\\n\\n215\\n00:08:25,000 --> 00:08:29,280\\nwatching videos will only take you so\\n\\n216\\n00:08:26,960 --> 00:08:31,560\\nfar on these topics you really have to\\n\\n217\\n00:08:29,280 --> 00:08:33,760\\nto do something and Brilliant is a\\n\\n218\\n00:08:31,560 --> 00:08:36,200\\nterrific bite-sized way to learn by\\n\\n219\\n00:08:33,760 --> 00:08:37,680\\ndoing you can try brilliant for free for\\n\\n220\\n00:08:36,200 --> 00:08:41,200\\nthe first 30 days by visiting\\n\\n221\\n00:08:37,680 --> 00:08:43,399\\nbrilliant.org Welch laabs and the first\\n\\n222\\n00:08:41,200 --> 00:08:48,160\\n200 subscribers receive 20% off\\n\\n223\\n00:08:43,399 --> 00:08:48,160\\nbrilliant's annual premium subscription\\n\\n\""
            ],
            "application/vnd.google.colaboratory.intrinsic+json": {
              "type": "string"
            }
          },
          "metadata": {},
          "execution_count": 12
        }
      ]
    },
    {
      "cell_type": "markdown",
      "source": [
        "# Download the video, extract the audio, and obtain the filename if a YouTube transcript was not found."
      ],
      "metadata": {
        "id": "DnqzkmSDvy8x"
      }
    },
    {
      "cell_type": "markdown",
      "source": [
        "In case transcript was not received from Youtube download video, extract audio and get the filename"
      ],
      "metadata": {
        "id": "DqD-JvpZzTHC"
      }
    },
    {
      "cell_type": "code",
      "source": [
        "def download_audio(url):\n",
        "    ydl_opts = {\n",
        "        'format': 'bestaudio/best',\n",
        "        'postprocessors': [{\n",
        "            'key': 'FFmpegExtractAudio',\n",
        "            'preferredcodec': 'mp3',\n",
        "            'preferredquality': '128',\n",
        "        }],\n",
        "    }\n",
        "\n",
        "    with yt_dlp.YoutubeDL(ydl_opts) as ydl:\n",
        "        info = ydl.extract_info(url, download=True)\n",
        "        audio_file = ydl.prepare_filename(info)\n",
        "        if not audio_file.endswith('.mp3'):\n",
        "             audio_file = audio_file.rsplit('.', 1)[0] + '.mp3'\n",
        "\n",
        "    return audio_file\n",
        "\n",
        "# Download and get the filename only if srt_text is not defined.\n",
        "if 'srt_text' not in locals():\n",
        "  audio_file = download_audio(video_url)\n",
        "\n",
        "  if audio_file:\n",
        "    print(\"Audio file saved as:\", audio_file)\n",
        "  else:\n",
        "    print(\"Failed to get audio file.\")"
      ],
      "metadata": {
        "id": "XMixGdiszXZT"
      },
      "execution_count": 13,
      "outputs": []
    },
    {
      "cell_type": "markdown",
      "source": [
        "Prepare to perform speech recognition locally using the [openai/whisper-large-v3-turbo](https://huggingface.co/openai/whisper-large-v3-turbo) model.  The notebook will automatically select a smaller model (`openai/whisper-tiny`) if a GPU is not available."
      ],
      "metadata": {
        "id": "MwWTdwqL9z5m"
      }
    },
    {
      "cell_type": "code",
      "source": [
        "if torch.cuda.is_available():\n",
        "    device = \"cuda:0\"\n",
        "    torch_dtype = torch.float16\n",
        "    model_id = \"openai/whisper-large-v3-turbo\"\n",
        "    batch_size = 16\n",
        "else:\n",
        "    device = \"cpu\"\n",
        "    torch_dtype = torch.float32\n",
        "    model_id = \"openai/whisper-tiny\"\n",
        "    batch_size = 2"
      ],
      "metadata": {
        "id": "R-vcoG_-92Mm"
      },
      "execution_count": 14,
      "outputs": []
    },
    {
      "cell_type": "markdown",
      "source": [
        "Execute speech recognition, using batching and chunking to improve the accuracy and efficiency of the transcription process."
      ],
      "metadata": {
        "id": "tLnjwpLb98NT"
      }
    },
    {
      "cell_type": "code",
      "source": [
        "# Only if srt_text is not defined.\n",
        "if 'srt_text' not in locals():\n",
        "    model = AutoModelForSpeechSeq2Seq.from_pretrained(\n",
        "        model_id, torch_dtype=torch_dtype, low_cpu_mem_usage=True, use_safetensors=True\n",
        "    )\n",
        "    model.to(device)\n",
        "\n",
        "    processor = AutoProcessor.from_pretrained(model_id)\n",
        "\n",
        "    pipe = pipeline(\n",
        "        \"automatic-speech-recognition\",\n",
        "        model=model,\n",
        "        tokenizer=processor.tokenizer,\n",
        "        feature_extractor=processor.feature_extractor,\n",
        "        torch_dtype=torch_dtype,\n",
        "        device=device,\n",
        "    )\n",
        "    transcribed_text = pipe(audio_file,\n",
        "                            chunk_length_s=10,\n",
        "                            batch_size=batch_size,\n",
        "                            return_timestamps=True)"
      ],
      "metadata": {
        "id": "vUeqsuvH-Apz"
      },
      "execution_count": 15,
      "outputs": []
    },
    {
      "cell_type": "markdown",
      "source": [
        "Display the transcribed text (if generated)."
      ],
      "metadata": {
        "id": "WNUxyXKr-GHO"
      }
    },
    {
      "cell_type": "code",
      "source": [
        "if 'transcribed_text' in locals():\n",
        "    transcribed_text"
      ],
      "metadata": {
        "id": "92ZP0vZ4-Kab"
      },
      "execution_count": 16,
      "outputs": []
    },
    {
      "cell_type": "code",
      "source": [
        "# Clear the GPU cache\n",
        "if torch.cuda.is_available():\n",
        "    torch.cuda.empty_cache()\n",
        "\n",
        "# Run garbage collection\n",
        "gc.collect()"
      ],
      "metadata": {
        "colab": {
          "base_uri": "https://localhost:8080/"
        },
        "collapsed": true,
        "id": "iU0aGqiZAY34",
        "outputId": "dc3c1225-6f20-4421-8274-3a6c2ca21a50"
      },
      "execution_count": 17,
      "outputs": [
        {
          "output_type": "execute_result",
          "data": {
            "text/plain": [
              "60"
            ]
          },
          "metadata": {},
          "execution_count": 17
        }
      ]
    },
    {
      "cell_type": "markdown",
      "source": [
        "Convert the transcribed text to the SRT (SubRip Subtitle) format."
      ],
      "metadata": {
        "id": "nYxtNNBF4_T9"
      }
    },
    {
      "cell_type": "code",
      "source": [
        "def seconds_to_srt_time(seconds):\n",
        "    \"\"\"Convert seconds to SRT time format (HH:MM:SS,mmm).\"\"\"\n",
        "    # Check if seconds is None or not a number\n",
        "    if seconds is None or not isinstance(seconds, (int, float)):\n",
        "        return \"00:00:00,000\"  # Default value for unknown time\n",
        "\n",
        "    hours = int(seconds // 3600)\n",
        "    minutes = int((seconds % 3600) // 60)\n",
        "    secs = int(seconds % 60)\n",
        "    millis = int((seconds - int(seconds)) * 1000)\n",
        "    return f\"{hours:02}:{minutes:02}:{secs:02},{millis:03}\"\n",
        "\n",
        "def convert_to_srt(transcribed_text):\n",
        "    \"\"\"Convert Whisper transcription chunks into SRT format.\"\"\"\n",
        "    srt_output = []\n",
        "    # Check if chunks exist in the result.\n",
        "    if \"chunks\" in transcribed_text:\n",
        "        for i, chunk in enumerate(transcribed_text[\"chunks\"], start=1):\n",
        "            if chunk.get(\"timestamp\") is not None:\n",
        "                 start_time = seconds_to_srt_time(chunk[\"timestamp\"][0])\n",
        "                 end_time = seconds_to_srt_time(chunk[\"timestamp\"][1])\n",
        "                 srt_output.append(f\"{i}\\n{start_time} --> {end_time}\\n{chunk['text']}\\n\")\n",
        "            else:\n",
        "                 srt_output.append(f\"{i}\\n{chunk['text']}\\n\")\n",
        "        return \"\\n\".join(srt_output)\n",
        "    else:\n",
        "        print(\"No chunks found in transcription. returning plain text\")\n",
        "        return transcribed_text[\"text\"]\n",
        "\n",
        "# Convert transcript chunks to SRT format\n",
        "if 'transcribed_text' in locals():\n",
        "    srt_text = convert_to_srt(transcribed_text)"
      ],
      "metadata": {
        "id": "7MO2y9p75ACb"
      },
      "execution_count": 18,
      "outputs": []
    },
    {
      "cell_type": "code",
      "source": [
        "srt_text"
      ],
      "metadata": {
        "colab": {
          "base_uri": "https://localhost:8080/",
          "height": 157
        },
        "id": "jXntgrjF5Fu9",
        "outputId": "6938b99b-076e-4168-8e9b-680ab8614c88"
      },
      "execution_count": 19,
      "outputs": [
        {
          "output_type": "execute_result",
          "data": {
            "text/plain": [
              "\"1\\n00:00:00,199 --> 00:00:04,640\\nthis 400-year old book should have\\n\\n2\\n00:00:02,159 --> 00:00:06,839\\nchanged mathematics Forever This Is The\\n\\n3\\n00:00:04,640 --> 00:00:09,400\\nSwiss clockmaker Jos bergy's arithmetic\\n\\n4\\n00:00:06,839 --> 00:00:11,240\\nand geometric progression tables the\\n\\n5\\n00:00:09,400 --> 00:00:14,200\\nbook contains an ingenious mathematical\\n\\n6\\n00:00:11,240 --> 00:00:15,719\\nHack That Bergie called red numbers and\\n\\n7\\n00:00:14,200 --> 00:00:17,560\\nthe design of a powerful Computing\\n\\n8\\n00:00:15,719 --> 00:00:20,240\\ndevice that uses these red numbers\\n\\n9\\n00:00:17,560 --> 00:00:22,000\\nhiding on its title page bergy's hack\\n\\n10\\n00:00:20,240 --> 00:00:24,240\\nworks by constructing an enormous table\\n\\n11\\n00:00:22,000 --> 00:00:26,760\\nof numbers where each number is simply\\n\\n12\\n00:00:24,240 --> 00:00:29,199\\nthe previous number time\\n\\n13\\n00:00:26,760 --> 00:00:31,759\\n1.001 starting at one and repeating this\\n\\n14\\n00:00:29,199 --> 00:00:34,760\\noperation again again Bergie computed\\n\\n15\\n00:00:31,759 --> 00:00:37,160\\n23,27 individual numbers with nine\\n\\n16\\n00:00:34,760 --> 00:00:39,719\\ndigits of precision stopping at a final\\n\\n17\\n00:00:37,160 --> 00:00:42,160\\nvalue of 10 Bergie called these numbers\\n\\n18\\n00:00:39,719 --> 00:00:44,399\\nblack numbers each black number has a\\n\\n19\\n00:00:42,160 --> 00:00:45,719\\ncorresponding red number which indicates\\n\\n20\\n00:00:44,399 --> 00:00:48,320\\nhow many times\\n\\n21\\n00:00:45,719 --> 00:00:50,680\\n1.001 was multiplied together to compute\\n\\n22\\n00:00:48,320 --> 00:00:52,280\\nthe given black number for any given\\n\\n23\\n00:00:50,680 --> 00:00:54,280\\nblack number on bergie's table we can\\n\\n24\\n00:00:52,280 --> 00:00:56,760\\nget its red number by adding together\\n\\n25\\n00:00:54,280 --> 00:00:58,440\\nthe red numbers for its row and column\\n\\n26\\n00:00:56,760 --> 00:01:00,760\\nBergie used dots for the digits that\\n\\n27\\n00:00:58,440 --> 00:01:03,080\\ndon't change from row to row the black\\n\\n28\\n00:01:00,760 --> 00:01:07,240\\nnumber 1.011\\n\\n29\\n00:01:03,080 --> 00:01:09,400\\n06017 has a red number of 100 + 10 equal\\n\\n30\\n00:01:07,240 --> 00:01:15,400\\n110 which means that\\n\\n31\\n00:01:09,400 --> 00:01:18,080\\n1.001 to the power of 110 equals 1.11\\n\\n32\\n00:01:15,400 --> 00:01:21,119\\n06017 now how is this giant table of\\n\\n33\\n00:01:18,080 --> 00:01:22,600\\nnumbers at all useful it turns out that\\n\\n34\\n00:01:21,119 --> 00:01:24,200\\nthe mapping between the black and red\\n\\n35\\n00:01:22,600 --> 00:01:25,479\\nnumbers creates an ingenious\\n\\n36\\n00:01:24,200 --> 00:01:27,520\\nmathematical\\n\\n37\\n00:01:25,479 --> 00:01:30,360\\nshortcut let's say we want to multiply\\n\\n38\\n00:01:27,520 --> 00:01:32,280\\nthe numbers 3191 and 2.\\n\\n39\\n00:01:30,360 --> 00:01:34,520\\n475 instead of working out the\\n\\n40\\n00:01:32,280 --> 00:01:35,680\\nmultiplication by hand we can use\\n\\n41\\n00:01:34,520 --> 00:01:37,320\\nbergy's table to turn this\\n\\n42\\n00:01:35,680 --> 00:01:40,159\\nmultiplication problem into a much\\n\\n43\\n00:01:37,320 --> 00:01:41,799\\nsimpler addition problem first we find\\n\\n44\\n00:01:40,159 --> 00:01:45,479\\nthe closest black numbers in bergy's\\n\\n45\\n00:01:41,799 --> 00:01:47,600\\ntables and get their red numbers 3191\\n\\n46\\n00:01:45,479 --> 00:01:51,560\\nmaps to the red number\\n\\n47\\n00:01:47,600 --> 00:01:53,479\\n11,604 and 2475 maps to\\n\\n48\\n00:01:51,560 --> 00:01:55,320\\n9,063 we can now rewrite our\\n\\n49\\n00:01:53,479 --> 00:01:57,880\\nmultiplication problem is\\n\\n50\\n00:01:55,320 --> 00:02:02,920\\n1.001 to the power of\\n\\n51\\n00:01:57,880 --> 00:02:05,200\\n11,604 Time 1 00001 to the power of\\n\\n52\\n00:02:02,920 --> 00:02:07,479\\n9,063 since both numbers are Rewritten\\n\\n53\\n00:02:05,200 --> 00:02:09,200\\nas powers of the same base all we have\\n\\n54\\n00:02:07,479 --> 00:02:11,800\\nto do now is add our red number\\n\\n55\\n00:02:09,200 --> 00:02:15,040\\nexponents together leaving us with\\n\\n56\\n00:02:11,800 --> 00:02:17,840\\n1.001 to the power of\\n\\n57\\n00:02:15,040 --> 00:02:19,680\\n20667 to get our final answer we return\\n\\n58\\n00:02:17,840 --> 00:02:21,560\\nto bergy's table and find the black\\n\\n59\\n00:02:19,680 --> 00:02:23,800\\nnumber that corresponds to our new red\\n\\n60\\n00:02:21,560 --> 00:02:27,800\\nnumber giving us the correct answer to\\n\\n61\\n00:02:23,800 --> 00:02:30,160\\nthree decimal places 7. 898 notice that\\n\\n62\\n00:02:27,800 --> 00:02:31,879\\nwe didn't have to multiply anything the\\n\\n63\\n00:02:30,160 --> 00:02:35,000\\nonly math we had to do was adding\\n\\n64\\n00:02:31,879 --> 00:02:37,400\\ntogether 11,604 and\\n\\n65\\n00:02:35,000 --> 00:02:39,200\\n9963 and with an extra interpolation\\n\\n66\\n00:02:37,400 --> 00:02:42,040\\nstep bergy's table gives answers\\n\\n67\\n00:02:39,200 --> 00:02:45,080\\naccurate to seven decimal places but\\n\\n68\\n00:02:42,040 --> 00:02:47,080\\nwait there's more bergy's table not only\\n\\n69\\n00:02:45,080 --> 00:02:49,200\\nconverts multiplication into addition it\\n\\n70\\n00:02:47,080 --> 00:02:50,959\\nalso changes division into subtraction\\n\\n71\\n00:02:49,200 --> 00:02:53,319\\nexponentiation into multiplication and\\n\\n72\\n00:02:50,959 --> 00:02:54,760\\nroot finding into division for example\\n\\n73\\n00:02:53,319 --> 00:02:56,840\\nwe can use bergy's table to find the\\n\\n74\\n00:02:54,760 --> 00:02:58,440\\nsquare root of five looking up five in\\n\\n75\\n00:02:56,840 --> 00:03:01,959\\nbergie's table we see that its red\\n\\n76\\n00:02:58,440 --> 00:03:03,879\\nnumber is 16,9 96 so we can rewrite our\\n\\n77\\n00:03:01,959 --> 00:03:06,720\\nproblem as the square root of\\n\\n78\\n00:03:03,879 --> 00:03:09,599\\n1.001 to the power of\\n\\n79\\n00:03:06,720 --> 00:03:12,519\\n1696 rewriting our square root as a 1/2\\n\\n80\\n00:03:09,599 --> 00:03:15,200\\npower we can simplify our expression to\\n\\n81\\n00:03:12,519 --> 00:03:18,640\\n1.001 to the power of\\n\\n82\\n00:03:15,200 --> 00:03:20,440\\n8048 taking 848 as our new red number we\\n\\n83\\n00:03:18,640 --> 00:03:21,920\\ncan look up this value in our table to\\n\\n84\\n00:03:20,440 --> 00:03:25,280\\nget our new black number and final\\n\\n85\\n00:03:21,920 --> 00:03:27,440\\nanswer of 2.23 6 so instead of taking a\\n\\n86\\n00:03:25,280 --> 00:03:31,080\\nmessy square root the only actual math\\n\\n87\\n00:03:27,440 --> 00:03:32,920\\nwe had to do was to divide 16,9 6X two\\n\\n88\\n00:03:31,080 --> 00:03:35,560\\nso Berg's table effectively converts\\n\\n89\\n00:03:32,920 --> 00:03:37,799\\nRoots into division on his title page\\n\\n90\\n00:03:35,560 --> 00:03:40,239\\nBergie arranges every 500th value from\\n\\n91\\n00:03:37,799 --> 00:03:42,280\\nhis table neatly into a circle although\\n\\n92\\n00:03:40,239 --> 00:03:44,280\\nBergie doesn't say this explicitly this\\n\\n93\\n00:03:42,280 --> 00:03:46,879\\ncircular Arrangement is likely not just\\n\\n94\\n00:03:44,280 --> 00:03:48,599\\nabout Aesthetics it anticipates the most\\n\\n95\\n00:03:46,879 --> 00:03:52,200\\npowerful Computing device on the planet\\n\\n96\\n00:03:48,599 --> 00:03:54,480\\nfor the next 350 years in fact with some\\n\\n97\\n00:03:52,200 --> 00:03:57,159\\nminor modifications we can turn bergy's\\n\\n98\\n00:03:54,480 --> 00:03:59,879\\ncover page into this Computing\\n\\n99\\n00:03:57,159 --> 00:04:02,360\\ndevice this is called a circular slide\\n\\n100\\n00:03:59,879 --> 00:04:04,439\\nrule while bergy's tables turn harder\\n\\n101\\n00:04:02,360 --> 00:04:05,840\\nmath problems into simpler ones the\\n\\n102\\n00:04:04,439 --> 00:04:08,040\\nslide rule gives us a way to solve\\n\\n103\\n00:04:05,840 --> 00:04:10,680\\nproblems without doing any math at all\\n\\n104\\n00:04:08,040 --> 00:04:13,760\\nto multiply 1. 1284 by\\n\\n105\\n00:04:10,680 --> 00:04:15,720\\n2.04 we find the closest Value to 1. 284\\n\\n106\\n00:04:13,760 --> 00:04:18,000\\non our outer ring and move the starting\\n\\n107\\n00:04:15,720 --> 00:04:20,199\\nvalue of our inner ring here we then\\n\\n108\\n00:04:18,000 --> 00:04:22,120\\nfind the closest number to 2.04 in our\\n\\n109\\n00:04:20,199 --> 00:04:23,840\\ninner ring and see where this lines up\\n\\n110\\n00:04:22,120 --> 00:04:25,120\\nagainst our outer ring looks like it's\\n\\n111\\n00:04:23,840 --> 00:04:28,000\\nclosest to\\n\\n112\\n00:04:25,120 --> 00:04:29,880\\n2586 which is the correct answer this\\n\\n113\\n00:04:28,000 --> 00:04:31,160\\nworks following the same principle that\\n\\n114\\n00:04:29,880 --> 00:04:33,800\\nallows Berg's table to map\\n\\n115\\n00:04:31,160 --> 00:04:35,800\\nmultiplication to addition each step on\\n\\n116\\n00:04:33,800 --> 00:04:38,840\\nour circular slide rule corresponds to a\\n\\n117\\n00:04:35,800 --> 00:04:42,000\\nred number increase of 500 it takes five\\n\\n118\\n00:04:38,840 --> 00:04:43,240\\nsteps to reach 1. 1284 and another 14\\n\\n119\\n00:04:42,000 --> 00:04:46,120\\nsteps to reach\\n\\n120\\n00:04:43,240 --> 00:04:48,880\\n2.14 moving our inner ring to start at\\n\\n121\\n00:04:46,120 --> 00:04:51,560\\n1. 1284 on our outer ring effectively\\n\\n122\\n00:04:48,880 --> 00:04:54,240\\nlets us add together our two rotations\\n\\n123\\n00:04:51,560 --> 00:04:57,840\\nfor a total of 19 steps or a red number\\n\\n124\\n00:04:54,240 --> 00:04:59,720\\nof 9,500 measured on our outer ring so\\n\\n125\\n00:04:57,840 --> 00:05:02,280\\nthe slide rule itself is performing\\n\\n126\\n00:04:59,720 --> 00:05:04,000\\naddition with Berg's red numbers but\\n\\n127\\n00:05:02,280 --> 00:05:05,880\\nsince it's labeled with Berg's black\\n\\n128\\n00:05:04,000 --> 00:05:07,280\\nnumbers these physical additions are\\n\\n129\\n00:05:05,880 --> 00:05:09,520\\ntransformed into\\n\\n130\\n00:05:07,280 --> 00:05:13,520\\nmultiplications our slide rule is adding\\n\\n131\\n00:05:09,520 --> 00:05:14,800\\nthe red numbers 2,500 and 7,000 for us\\n\\n132\\n00:05:13,520 --> 00:05:18,680\\nwhich is equivalent to solving our\\n\\n133\\n00:05:14,800 --> 00:05:21,199\\nmultiplication problem 1. 1284 * 2.14\\n\\n134\\n00:05:18,680 --> 00:05:24,240\\ngiving the correct answer\\n\\n135\\n00:05:21,199 --> 00:05:27,759\\n2586 division works in a similar way to\\n\\n136\\n00:05:24,240 --> 00:05:27,759\\ndivide 73.8 by\\n\\n137\\n00:05:28,479 --> 00:05:33,280\\n38.572786 since bergie's numbers only go\\n\\n138\\n00:05:30,960 --> 00:05:36,120\\nup to 10 we now need to find the closest\\n\\n139\\n00:05:33,280 --> 00:05:37,520\\nValue to 7. 388 on our outer ring and\\n\\n140\\n00:05:36,120 --> 00:05:40,639\\nline it up with the closest Value to\\n\\n141\\n00:05:37,520 --> 00:05:41,880\\n3857 on our inner ring we now just have\\n\\n142\\n00:05:40,639 --> 00:05:44,280\\nto look for where the starting point of\\n\\n143\\n00:05:41,880 --> 00:05:45,639\\nour inner ring intersects our outer ring\\n\\n144\\n00:05:44,280 --> 00:05:49,120\\nlooks like about\\n\\n145\\n00:05:45,639 --> 00:05:51,199\\n1.95 this is the correct answer here the\\n\\n146\\n00:05:49,120 --> 00:05:53,080\\narrangement of our diss is performing\\n\\n147\\n00:05:51,199 --> 00:05:55,600\\nsubtraction which is being mapped to\\n\\n148\\n00:05:53,080 --> 00:05:57,440\\ndivision by bergies numbers in these\\n\\n149\\n00:05:55,600 --> 00:05:59,520\\nexamples we use values that line up\\n\\n150\\n00:05:57,440 --> 00:06:01,479\\nreally nicely with bergies numbers this\\n\\n151\\n00:05:59,520 --> 00:06:03,319\\nof course won't always be the case and\\n\\n152\\n00:06:01,479 --> 00:06:05,600\\nmost circular slide roles have lots and\\n\\n153\\n00:06:03,319 --> 00:06:07,199\\nlots of nice tick marks usually allowing\\n\\n154\\n00:06:05,600 --> 00:06:10,240\\nthe user to find the number they need to\\n\\n155\\n00:06:07,199 --> 00:06:12,479\\ntwo or three decimal places so what did\\n\\n156\\n00:06:10,240 --> 00:06:15,800\\nJos Bergie do with his incredible new\\n\\n157\\n00:06:12,479 --> 00:06:18,479\\ndiscovery basically nothing he kept his\\n\\n158\\n00:06:15,800 --> 00:06:20,240\\nDiscovery mostly secret for his own work\\n\\n159\\n00:06:18,479 --> 00:06:22,639\\nalthough he did share with a friend the\\n\\n160\\n00:06:20,240 --> 00:06:24,240\\nastronomer Johannes Kepler at the time\\n\\n161\\n00:06:22,639 --> 00:06:26,520\\nKepler was working on the rudolphine\\n\\n162\\n00:06:24,240 --> 00:06:28,319\\ntables which gave equations and tables\\n\\n163\\n00:06:26,520 --> 00:06:30,919\\nfor the precise location of the stars\\n\\n164\\n00:06:28,319 --> 00:06:33,319\\nand planets from any where on Earth an\\n\\n165\\n00:06:30,919 --> 00:06:36,160\\nenormous computational effort greatly\\n\\n166\\n00:06:33,319 --> 00:06:38,160\\naided by bergy's work Kepler included\\n\\n167\\n00:06:36,160 --> 00:06:40,360\\nthis line in the final ruding tables\\n\\n168\\n00:06:38,160 --> 00:06:43,120\\nmanuscript expressing his frustration\\n\\n169\\n00:06:40,360 --> 00:06:45,199\\nwith Berg's decision not to publish but\\n\\n170\\n00:06:43,120 --> 00:06:47,720\\nhe a hesitating man and guardian of his\\n\\n171\\n00:06:45,199 --> 00:06:50,160\\nSecrets abandoned the child at Birth and\\n\\n172\\n00:06:47,720 --> 00:06:52,199\\ndidn't raise it for the common benefit\\n\\n173\\n00:06:50,160 --> 00:06:54,560\\nthis is why bergy's book did not change\\n\\n174\\n00:06:52,199 --> 00:06:56,599\\nmath forever in the 10 or so years that\\n\\n175\\n00:06:54,560 --> 00:06:58,800\\nBergie delayed publication the Scottish\\n\\n176\\n00:06:56,599 --> 00:07:01,199\\nmathematician John Napier independently\\n\\n177\\n00:06:58,800 --> 00:07:02,919\\nmade the same Discovery although with a\\n\\n178\\n00:07:01,199 --> 00:07:04,919\\nmore complex and less intuitive\\n\\n179\\n00:07:02,919 --> 00:07:06,080\\nderivation and published a full book of\\n\\n180\\n00:07:04,919 --> 00:07:09,280\\ntables in\\n\\n181\\n00:07:06,080 --> 00:07:11,599\\n1614 Napier called his Discovery\\n\\n182\\n00:07:09,280 --> 00:07:13,360\\nlogarithms his approach and name quickly\\n\\n183\\n00:07:11,599 --> 00:07:15,440\\ncaught on and today we call the red\\n\\n184\\n00:07:13,360 --> 00:07:18,599\\nnumbers in bergy's table the logarithms\\n\\n185\\n00:07:15,440 --> 00:07:21,000\\nof the black numbers for the next 350\\n\\n186\\n00:07:18,599 --> 00:07:22,759\\nyears until the popularization of the\\n\\n187\\n00:07:21,000 --> 00:07:25,400\\nelectronic calculator in the\\n\\n188\\n00:07:22,759 --> 00:07:28,440\\n1970s tables of logarithms in the slide\\n\\n189\\n00:07:25,400 --> 00:07:31,319\\nrule were the primary tools used for all\\n\\n190\\n00:07:28,440 --> 00:07:31,319\\nmathematical comput\\n\\n191\\n00:07:33,520 --> 00:07:37,240\\ntoday logarithms are more important than\\n\\n192\\n00:07:35,400 --> 00:07:39,039\\never in mathematics science and\\n\\n193\\n00:07:37,240 --> 00:07:41,479\\nengineering if you're looking to build\\n\\n194\\n00:07:39,039 --> 00:07:43,800\\nup your foundational math skills or pick\\n\\n195\\n00:07:41,479 --> 00:07:45,440\\nup Advanced topics like machine learning\\n\\n196\\n00:07:43,800 --> 00:07:47,599\\nthis video sponsored brilliant is an\\n\\n197\\n00:07:45,440 --> 00:07:49,919\\ninteractive fun and highly effective way\\n\\n198\\n00:07:47,599 --> 00:07:51,879\\nto learn these topics and more\\n\\n199\\n00:07:49,919 --> 00:07:53,800\\nlogarithms play a critical role in the\\n\\n200\\n00:07:51,879 --> 00:07:56,599\\nloss functions of the neural networks\\n\\n201\\n00:07:53,800 --> 00:07:58,199\\nthat power this generation of AI and the\\n\\n202\\n00:07:56,599 --> 00:07:59,919\\nbrilliant artificial neural networks\\n\\n203\\n00:07:58,199 --> 00:08:02,280\\ncourse is a great way way to pick up\\n\\n204\\n00:07:59,919 --> 00:08:04,960\\nthese valuable skills and there's even a\\n\\n205\\n00:08:02,280 --> 00:08:06,680\\ncourse on large language models\\n\\n206\\n00:08:04,960 --> 00:08:08,720\\nBrilliance exploring data visually\\n\\n207\\n00:08:06,680 --> 00:08:11,599\\ncourse is a great way to understand the\\n\\n208\\n00:08:08,720 --> 00:08:13,879\\nkey role that logarithms play in data\\n\\n209\\n00:08:11,599 --> 00:08:15,759\\nvisualization finally today we treat\\n\\n210\\n00:08:13,879 --> 00:08:18,240\\nlogarithms as just another mathematical\\n\\n211\\n00:08:15,759 --> 00:08:20,120\\nfunction Brilliance foundational math\\n\\n212\\n00:08:18,240 --> 00:08:22,039\\ncourses are a great way to learn or\\n\\n213\\n00:08:20,120 --> 00:08:25,000\\nbrush up on functions and other key\\n\\n214\\n00:08:22,039 --> 00:08:26,960\\nmathematical ideas in my experience\\n\\n215\\n00:08:25,000 --> 00:08:29,280\\nwatching videos will only take you so\\n\\n216\\n00:08:26,960 --> 00:08:31,560\\nfar on these topics you really have to\\n\\n217\\n00:08:29,280 --> 00:08:33,760\\nto do something and Brilliant is a\\n\\n218\\n00:08:31,560 --> 00:08:36,200\\nterrific bite-sized way to learn by\\n\\n219\\n00:08:33,760 --> 00:08:37,680\\ndoing you can try brilliant for free for\\n\\n220\\n00:08:36,200 --> 00:08:41,200\\nthe first 30 days by visiting\\n\\n221\\n00:08:37,680 --> 00:08:43,399\\nbrilliant.org Welch laabs and the first\\n\\n222\\n00:08:41,200 --> 00:08:48,160\\n200 subscribers receive 20% off\\n\\n223\\n00:08:43,399 --> 00:08:48,160\\nbrilliant's annual premium subscription\\n\\n\""
            ],
            "application/vnd.google.colaboratory.intrinsic+json": {
              "type": "string"
            }
          },
          "metadata": {},
          "execution_count": 19
        }
      ]
    },
    {
      "cell_type": "markdown",
      "source": [
        "Ensure that a transcript (in SRT format) is available before proceeding."
      ],
      "metadata": {
        "id": "z1mfi2SzBWXK"
      }
    },
    {
      "cell_type": "code",
      "source": [
        "if not srt_text:\n",
        "    raise ValueError(\"No transcript available. Please check your video URL or tokens.\")"
      ],
      "metadata": {
        "id": "qMxgJcFdBcKO"
      },
      "execution_count": 20,
      "outputs": []
    },
    {
      "cell_type": "markdown",
      "source": [
        "# Generate Chapters using an LLM."
      ],
      "metadata": {
        "id": "4yjZcxoHLspr"
      }
    },
    {
      "cell_type": "markdown",
      "source": [
        "Construct the prompt that will be sent to the LLM for chapter generation. This prompt includes specific instructions and constraints to ensure the desired output format."
      ],
      "metadata": {
        "id": "Al_eYWMcsg7N"
      }
    },
    {
      "cell_type": "code",
      "source": [
        "# Prepare a refined prompt with explicit instructions and constraints.\n",
        "prompt = (\n",
        "    \"Based on the following transcript, please perform the following steps internally and then output a single final chapter list:\\n\"\n",
        "    \"1. Analyze the transcript and identify its key segments with approximate starting timestamps in MM:SS format.\\n\"\n",
        "    f\"2. Generate exactly {num_chapters} distinct, non-overlapping chapters that cover different aspects of the video.\\n\"\n",
        "    \"3. The very first chapter must start at 00:00. All subsequent chapters should use the timestamp corresponding to when the segment begins, and the timestamps must be in ascending order with a minimum gap of 10 seconds between chapters.\\n\"\n",
        "    \"4. Format each chapter on its own line using the format '<timestamp> <chapter title>'. For example, '00:00 Introduction'.\\n\"\n",
        "    \"5. Do not include any additional commentary, explanations, chain-of-thought, or intermediate reasoning—only the final chapter list.\\n\"\n",
        "    \"6. Ensure that only one chapter list is generated and that there are no duplicate chapters or timestamps.\\n\\n\"\n",
        "    \"Example:\\n\"\n",
        "    \"00:00 Introduction\\n\"\n",
        "    \"01:24 Key Concepts Overview\\n\"\n",
        "    \"08:56 Comparative Insights\\n\"\n",
        "    \"09:31 Conclusion and Next Steps\\n\\n\"\n",
        "    \"### Transcript:\\n\"\n",
        "    f\"{srt_text}\\n\\n\"\n",
        "    \"Chapters:\"\n",
        ")"
      ],
      "metadata": {
        "id": "M7XfLxXssnK6"
      },
      "execution_count": 68,
      "outputs": []
    },
    {
      "cell_type": "code",
      "source": [
        "prompt"
      ],
      "metadata": {
        "colab": {
          "base_uri": "https://localhost:8080/",
          "height": 157
        },
        "id": "g1CToJSp1JMK",
        "outputId": "1c2104a9-1278-429a-9812-cebb678c8e6e"
      },
      "execution_count": 71,
      "outputs": [
        {
          "output_type": "execute_result",
          "data": {
            "text/plain": [
              "\"Based on the following transcript, please perform the following steps internally and then output a single final chapter list:\\n1. Analyze the transcript and identify its key segments with approximate starting timestamps in MM:SS format.\\n2. Generate exactly 8 distinct, non-overlapping chapters that cover different aspects of the video.\\n3. The very first chapter must start at 00:00. All subsequent chapters should use the timestamp corresponding to when the segment begins, and the timestamps must be in ascending order with a minimum gap of 10 seconds between chapters.\\n4. Format each chapter on its own line using the format '<timestamp> <chapter title>'. For example, '00:00 Introduction'.\\n5. Do not include any additional commentary, explanations, chain-of-thought, or intermediate reasoning—only the final chapter list.\\n6. Ensure that only one chapter list is generated and that there are no duplicate chapters or timestamps.\\n\\nExample:\\n00:00 Introduction\\n01:24 Key Concepts Overview\\n08:56 Comparative Insights\\n09:31 Conclusion and Next Steps\\n\\n### Transcript:\\n1\\n00:00:00,199 --> 00:00:04,640\\nthis 400-year old book should have\\n\\n2\\n00:00:02,159 --> 00:00:06,839\\nchanged mathematics Forever This Is The\\n\\n3\\n00:00:04,640 --> 00:00:09,400\\nSwiss clockmaker Jos bergy's arithmetic\\n\\n4\\n00:00:06,839 --> 00:00:11,240\\nand geometric progression tables the\\n\\n5\\n00:00:09,400 --> 00:00:14,200\\nbook contains an ingenious mathematical\\n\\n6\\n00:00:11,240 --> 00:00:15,719\\nHack That Bergie called red numbers and\\n\\n7\\n00:00:14,200 --> 00:00:17,560\\nthe design of a powerful Computing\\n\\n8\\n00:00:15,719 --> 00:00:20,240\\ndevice that uses these red numbers\\n\\n9\\n00:00:17,560 --> 00:00:22,000\\nhiding on its title page bergy's hack\\n\\n10\\n00:00:20,240 --> 00:00:24,240\\nworks by constructing an enormous table\\n\\n11\\n00:00:22,000 --> 00:00:26,760\\nof numbers where each number is simply\\n\\n12\\n00:00:24,240 --> 00:00:29,199\\nthe previous number time\\n\\n13\\n00:00:26,760 --> 00:00:31,759\\n1.001 starting at one and repeating this\\n\\n14\\n00:00:29,199 --> 00:00:34,760\\noperation again again Bergie computed\\n\\n15\\n00:00:31,759 --> 00:00:37,160\\n23,27 individual numbers with nine\\n\\n16\\n00:00:34,760 --> 00:00:39,719\\ndigits of precision stopping at a final\\n\\n17\\n00:00:37,160 --> 00:00:42,160\\nvalue of 10 Bergie called these numbers\\n\\n18\\n00:00:39,719 --> 00:00:44,399\\nblack numbers each black number has a\\n\\n19\\n00:00:42,160 --> 00:00:45,719\\ncorresponding red number which indicates\\n\\n20\\n00:00:44,399 --> 00:00:48,320\\nhow many times\\n\\n21\\n00:00:45,719 --> 00:00:50,680\\n1.001 was multiplied together to compute\\n\\n22\\n00:00:48,320 --> 00:00:52,280\\nthe given black number for any given\\n\\n23\\n00:00:50,680 --> 00:00:54,280\\nblack number on bergie's table we can\\n\\n24\\n00:00:52,280 --> 00:00:56,760\\nget its red number by adding together\\n\\n25\\n00:00:54,280 --> 00:00:58,440\\nthe red numbers for its row and column\\n\\n26\\n00:00:56,760 --> 00:01:00,760\\nBergie used dots for the digits that\\n\\n27\\n00:00:58,440 --> 00:01:03,080\\ndon't change from row to row the black\\n\\n28\\n00:01:00,760 --> 00:01:07,240\\nnumber 1.011\\n\\n29\\n00:01:03,080 --> 00:01:09,400\\n06017 has a red number of 100 + 10 equal\\n\\n30\\n00:01:07,240 --> 00:01:15,400\\n110 which means that\\n\\n31\\n00:01:09,400 --> 00:01:18,080\\n1.001 to the power of 110 equals 1.11\\n\\n32\\n00:01:15,400 --> 00:01:21,119\\n06017 now how is this giant table of\\n\\n33\\n00:01:18,080 --> 00:01:22,600\\nnumbers at all useful it turns out that\\n\\n34\\n00:01:21,119 --> 00:01:24,200\\nthe mapping between the black and red\\n\\n35\\n00:01:22,600 --> 00:01:25,479\\nnumbers creates an ingenious\\n\\n36\\n00:01:24,200 --> 00:01:27,520\\nmathematical\\n\\n37\\n00:01:25,479 --> 00:01:30,360\\nshortcut let's say we want to multiply\\n\\n38\\n00:01:27,520 --> 00:01:32,280\\nthe numbers 3191 and 2.\\n\\n39\\n00:01:30,360 --> 00:01:34,520\\n475 instead of working out the\\n\\n40\\n00:01:32,280 --> 00:01:35,680\\nmultiplication by hand we can use\\n\\n41\\n00:01:34,520 --> 00:01:37,320\\nbergy's table to turn this\\n\\n42\\n00:01:35,680 --> 00:01:40,159\\nmultiplication problem into a much\\n\\n43\\n00:01:37,320 --> 00:01:41,799\\nsimpler addition problem first we find\\n\\n44\\n00:01:40,159 --> 00:01:45,479\\nthe closest black numbers in bergy's\\n\\n45\\n00:01:41,799 --> 00:01:47,600\\ntables and get their red numbers 3191\\n\\n46\\n00:01:45,479 --> 00:01:51,560\\nmaps to the red number\\n\\n47\\n00:01:47,600 --> 00:01:53,479\\n11,604 and 2475 maps to\\n\\n48\\n00:01:51,560 --> 00:01:55,320\\n9,063 we can now rewrite our\\n\\n49\\n00:01:53,479 --> 00:01:57,880\\nmultiplication problem is\\n\\n50\\n00:01:55,320 --> 00:02:02,920\\n1.001 to the power of\\n\\n51\\n00:01:57,880 --> 00:02:05,200\\n11,604 Time 1 00001 to the power of\\n\\n52\\n00:02:02,920 --> 00:02:07,479\\n9,063 since both numbers are Rewritten\\n\\n53\\n00:02:05,200 --> 00:02:09,200\\nas powers of the same base all we have\\n\\n54\\n00:02:07,479 --> 00:02:11,800\\nto do now is add our red number\\n\\n55\\n00:02:09,200 --> 00:02:15,040\\nexponents together leaving us with\\n\\n56\\n00:02:11,800 --> 00:02:17,840\\n1.001 to the power of\\n\\n57\\n00:02:15,040 --> 00:02:19,680\\n20667 to get our final answer we return\\n\\n58\\n00:02:17,840 --> 00:02:21,560\\nto bergy's table and find the black\\n\\n59\\n00:02:19,680 --> 00:02:23,800\\nnumber that corresponds to our new red\\n\\n60\\n00:02:21,560 --> 00:02:27,800\\nnumber giving us the correct answer to\\n\\n61\\n00:02:23,800 --> 00:02:30,160\\nthree decimal places 7. 898 notice that\\n\\n62\\n00:02:27,800 --> 00:02:31,879\\nwe didn't have to multiply anything the\\n\\n63\\n00:02:30,160 --> 00:02:35,000\\nonly math we had to do was adding\\n\\n64\\n00:02:31,879 --> 00:02:37,400\\ntogether 11,604 and\\n\\n65\\n00:02:35,000 --> 00:02:39,200\\n9963 and with an extra interpolation\\n\\n66\\n00:02:37,400 --> 00:02:42,040\\nstep bergy's table gives answers\\n\\n67\\n00:02:39,200 --> 00:02:45,080\\naccurate to seven decimal places but\\n\\n68\\n00:02:42,040 --> 00:02:47,080\\nwait there's more bergy's table not only\\n\\n69\\n00:02:45,080 --> 00:02:49,200\\nconverts multiplication into addition it\\n\\n70\\n00:02:47,080 --> 00:02:50,959\\nalso changes division into subtraction\\n\\n71\\n00:02:49,200 --> 00:02:53,319\\nexponentiation into multiplication and\\n\\n72\\n00:02:50,959 --> 00:02:54,760\\nroot finding into division for example\\n\\n73\\n00:02:53,319 --> 00:02:56,840\\nwe can use bergy's table to find the\\n\\n74\\n00:02:54,760 --> 00:02:58,440\\nsquare root of five looking up five in\\n\\n75\\n00:02:56,840 --> 00:03:01,959\\nbergie's table we see that its red\\n\\n76\\n00:02:58,440 --> 00:03:03,879\\nnumber is 16,9 96 so we can rewrite our\\n\\n77\\n00:03:01,959 --> 00:03:06,720\\nproblem as the square root of\\n\\n78\\n00:03:03,879 --> 00:03:09,599\\n1.001 to the power of\\n\\n79\\n00:03:06,720 --> 00:03:12,519\\n1696 rewriting our square root as a 1/2\\n\\n80\\n00:03:09,599 --> 00:03:15,200\\npower we can simplify our expression to\\n\\n81\\n00:03:12,519 --> 00:03:18,640\\n1.001 to the power of\\n\\n82\\n00:03:15,200 --> 00:03:20,440\\n8048 taking 848 as our new red number we\\n\\n83\\n00:03:18,640 --> 00:03:21,920\\ncan look up this value in our table to\\n\\n84\\n00:03:20,440 --> 00:03:25,280\\nget our new black number and final\\n\\n85\\n00:03:21,920 --> 00:03:27,440\\nanswer of 2.23 6 so instead of taking a\\n\\n86\\n00:03:25,280 --> 00:03:31,080\\nmessy square root the only actual math\\n\\n87\\n00:03:27,440 --> 00:03:32,920\\nwe had to do was to divide 16,9 6X two\\n\\n88\\n00:03:31,080 --> 00:03:35,560\\nso Berg's table effectively converts\\n\\n89\\n00:03:32,920 --> 00:03:37,799\\nRoots into division on his title page\\n\\n90\\n00:03:35,560 --> 00:03:40,239\\nBergie arranges every 500th value from\\n\\n91\\n00:03:37,799 --> 00:03:42,280\\nhis table neatly into a circle although\\n\\n92\\n00:03:40,239 --> 00:03:44,280\\nBergie doesn't say this explicitly this\\n\\n93\\n00:03:42,280 --> 00:03:46,879\\ncircular Arrangement is likely not just\\n\\n94\\n00:03:44,280 --> 00:03:48,599\\nabout Aesthetics it anticipates the most\\n\\n95\\n00:03:46,879 --> 00:03:52,200\\npowerful Computing device on the planet\\n\\n96\\n00:03:48,599 --> 00:03:54,480\\nfor the next 350 years in fact with some\\n\\n97\\n00:03:52,200 --> 00:03:57,159\\nminor modifications we can turn bergy's\\n\\n98\\n00:03:54,480 --> 00:03:59,879\\ncover page into this Computing\\n\\n99\\n00:03:57,159 --> 00:04:02,360\\ndevice this is called a circular slide\\n\\n100\\n00:03:59,879 --> 00:04:04,439\\nrule while bergy's tables turn harder\\n\\n101\\n00:04:02,360 --> 00:04:05,840\\nmath problems into simpler ones the\\n\\n102\\n00:04:04,439 --> 00:04:08,040\\nslide rule gives us a way to solve\\n\\n103\\n00:04:05,840 --> 00:04:10,680\\nproblems without doing any math at all\\n\\n104\\n00:04:08,040 --> 00:04:13,760\\nto multiply 1. 1284 by\\n\\n105\\n00:04:10,680 --> 00:04:15,720\\n2.04 we find the closest Value to 1. 284\\n\\n106\\n00:04:13,760 --> 00:04:18,000\\non our outer ring and move the starting\\n\\n107\\n00:04:15,720 --> 00:04:20,199\\nvalue of our inner ring here we then\\n\\n108\\n00:04:18,000 --> 00:04:22,120\\nfind the closest number to 2.04 in our\\n\\n109\\n00:04:20,199 --> 00:04:23,840\\ninner ring and see where this lines up\\n\\n110\\n00:04:22,120 --> 00:04:25,120\\nagainst our outer ring looks like it's\\n\\n111\\n00:04:23,840 --> 00:04:28,000\\nclosest to\\n\\n112\\n00:04:25,120 --> 00:04:29,880\\n2586 which is the correct answer this\\n\\n113\\n00:04:28,000 --> 00:04:31,160\\nworks following the same principle that\\n\\n114\\n00:04:29,880 --> 00:04:33,800\\nallows Berg's table to map\\n\\n115\\n00:04:31,160 --> 00:04:35,800\\nmultiplication to addition each step on\\n\\n116\\n00:04:33,800 --> 00:04:38,840\\nour circular slide rule corresponds to a\\n\\n117\\n00:04:35,800 --> 00:04:42,000\\nred number increase of 500 it takes five\\n\\n118\\n00:04:38,840 --> 00:04:43,240\\nsteps to reach 1. 1284 and another 14\\n\\n119\\n00:04:42,000 --> 00:04:46,120\\nsteps to reach\\n\\n120\\n00:04:43,240 --> 00:04:48,880\\n2.14 moving our inner ring to start at\\n\\n121\\n00:04:46,120 --> 00:04:51,560\\n1. 1284 on our outer ring effectively\\n\\n122\\n00:04:48,880 --> 00:04:54,240\\nlets us add together our two rotations\\n\\n123\\n00:04:51,560 --> 00:04:57,840\\nfor a total of 19 steps or a red number\\n\\n124\\n00:04:54,240 --> 00:04:59,720\\nof 9,500 measured on our outer ring so\\n\\n125\\n00:04:57,840 --> 00:05:02,280\\nthe slide rule itself is performing\\n\\n126\\n00:04:59,720 --> 00:05:04,000\\naddition with Berg's red numbers but\\n\\n127\\n00:05:02,280 --> 00:05:05,880\\nsince it's labeled with Berg's black\\n\\n128\\n00:05:04,000 --> 00:05:07,280\\nnumbers these physical additions are\\n\\n129\\n00:05:05,880 --> 00:05:09,520\\ntransformed into\\n\\n130\\n00:05:07,280 --> 00:05:13,520\\nmultiplications our slide rule is adding\\n\\n131\\n00:05:09,520 --> 00:05:14,800\\nthe red numbers 2,500 and 7,000 for us\\n\\n132\\n00:05:13,520 --> 00:05:18,680\\nwhich is equivalent to solving our\\n\\n133\\n00:05:14,800 --> 00:05:21,199\\nmultiplication problem 1. 1284 * 2.14\\n\\n134\\n00:05:18,680 --> 00:05:24,240\\ngiving the correct answer\\n\\n135\\n00:05:21,199 --> 00:05:27,759\\n2586 division works in a similar way to\\n\\n136\\n00:05:24,240 --> 00:05:27,759\\ndivide 73.8 by\\n\\n137\\n00:05:28,479 --> 00:05:33,280\\n38.572786 since bergie's numbers only go\\n\\n138\\n00:05:30,960 --> 00:05:36,120\\nup to 10 we now need to find the closest\\n\\n139\\n00:05:33,280 --> 00:05:37,520\\nValue to 7. 388 on our outer ring and\\n\\n140\\n00:05:36,120 --> 00:05:40,639\\nline it up with the closest Value to\\n\\n141\\n00:05:37,520 --> 00:05:41,880\\n3857 on our inner ring we now just have\\n\\n142\\n00:05:40,639 --> 00:05:44,280\\nto look for where the starting point of\\n\\n143\\n00:05:41,880 --> 00:05:45,639\\nour inner ring intersects our outer ring\\n\\n144\\n00:05:44,280 --> 00:05:49,120\\nlooks like about\\n\\n145\\n00:05:45,639 --> 00:05:51,199\\n1.95 this is the correct answer here the\\n\\n146\\n00:05:49,120 --> 00:05:53,080\\narrangement of our diss is performing\\n\\n147\\n00:05:51,199 --> 00:05:55,600\\nsubtraction which is being mapped to\\n\\n148\\n00:05:53,080 --> 00:05:57,440\\ndivision by bergies numbers in these\\n\\n149\\n00:05:55,600 --> 00:05:59,520\\nexamples we use values that line up\\n\\n150\\n00:05:57,440 --> 00:06:01,479\\nreally nicely with bergies numbers this\\n\\n151\\n00:05:59,520 --> 00:06:03,319\\nof course won't always be the case and\\n\\n152\\n00:06:01,479 --> 00:06:05,600\\nmost circular slide roles have lots and\\n\\n153\\n00:06:03,319 --> 00:06:07,199\\nlots of nice tick marks usually allowing\\n\\n154\\n00:06:05,600 --> 00:06:10,240\\nthe user to find the number they need to\\n\\n155\\n00:06:07,199 --> 00:06:12,479\\ntwo or three decimal places so what did\\n\\n156\\n00:06:10,240 --> 00:06:15,800\\nJos Bergie do with his incredible new\\n\\n157\\n00:06:12,479 --> 00:06:18,479\\ndiscovery basically nothing he kept his\\n\\n158\\n00:06:15,800 --> 00:06:20,240\\nDiscovery mostly secret for his own work\\n\\n159\\n00:06:18,479 --> 00:06:22,639\\nalthough he did share with a friend the\\n\\n160\\n00:06:20,240 --> 00:06:24,240\\nastronomer Johannes Kepler at the time\\n\\n161\\n00:06:22,639 --> 00:06:26,520\\nKepler was working on the rudolphine\\n\\n162\\n00:06:24,240 --> 00:06:28,319\\ntables which gave equations and tables\\n\\n163\\n00:06:26,520 --> 00:06:30,919\\nfor the precise location of the stars\\n\\n164\\n00:06:28,319 --> 00:06:33,319\\nand planets from any where on Earth an\\n\\n165\\n00:06:30,919 --> 00:06:36,160\\nenormous computational effort greatly\\n\\n166\\n00:06:33,319 --> 00:06:38,160\\naided by bergy's work Kepler included\\n\\n167\\n00:06:36,160 --> 00:06:40,360\\nthis line in the final ruding tables\\n\\n168\\n00:06:38,160 --> 00:06:43,120\\nmanuscript expressing his frustration\\n\\n169\\n00:06:40,360 --> 00:06:45,199\\nwith Berg's decision not to publish but\\n\\n170\\n00:06:43,120 --> 00:06:47,720\\nhe a hesitating man and guardian of his\\n\\n171\\n00:06:45,199 --> 00:06:50,160\\nSecrets abandoned the child at Birth and\\n\\n172\\n00:06:47,720 --> 00:06:52,199\\ndidn't raise it for the common benefit\\n\\n173\\n00:06:50,160 --> 00:06:54,560\\nthis is why bergy's book did not change\\n\\n174\\n00:06:52,199 --> 00:06:56,599\\nmath forever in the 10 or so years that\\n\\n175\\n00:06:54,560 --> 00:06:58,800\\nBergie delayed publication the Scottish\\n\\n176\\n00:06:56,599 --> 00:07:01,199\\nmathematician John Napier independently\\n\\n177\\n00:06:58,800 --> 00:07:02,919\\nmade the same Discovery although with a\\n\\n178\\n00:07:01,199 --> 00:07:04,919\\nmore complex and less intuitive\\n\\n179\\n00:07:02,919 --> 00:07:06,080\\nderivation and published a full book of\\n\\n180\\n00:07:04,919 --> 00:07:09,280\\ntables in\\n\\n181\\n00:07:06,080 --> 00:07:11,599\\n1614 Napier called his Discovery\\n\\n182\\n00:07:09,280 --> 00:07:13,360\\nlogarithms his approach and name quickly\\n\\n183\\n00:07:11,599 --> 00:07:15,440\\ncaught on and today we call the red\\n\\n184\\n00:07:13,360 --> 00:07:18,599\\nnumbers in bergy's table the logarithms\\n\\n185\\n00:07:15,440 --> 00:07:21,000\\nof the black numbers for the next 350\\n\\n186\\n00:07:18,599 --> 00:07:22,759\\nyears until the popularization of the\\n\\n187\\n00:07:21,000 --> 00:07:25,400\\nelectronic calculator in the\\n\\n188\\n00:07:22,759 --> 00:07:28,440\\n1970s tables of logarithms in the slide\\n\\n189\\n00:07:25,400 --> 00:07:31,319\\nrule were the primary tools used for all\\n\\n190\\n00:07:28,440 --> 00:07:31,319\\nmathematical comput\\n\\n191\\n00:07:33,520 --> 00:07:37,240\\ntoday logarithms are more important than\\n\\n192\\n00:07:35,400 --> 00:07:39,039\\never in mathematics science and\\n\\n193\\n00:07:37,240 --> 00:07:41,479\\nengineering if you're looking to build\\n\\n194\\n00:07:39,039 --> 00:07:43,800\\nup your foundational math skills or pick\\n\\n195\\n00:07:41,479 --> 00:07:45,440\\nup Advanced topics like machine learning\\n\\n196\\n00:07:43,800 --> 00:07:47,599\\nthis video sponsored brilliant is an\\n\\n197\\n00:07:45,440 --> 00:07:49,919\\ninteractive fun and highly effective way\\n\\n198\\n00:07:47,599 --> 00:07:51,879\\nto learn these topics and more\\n\\n199\\n00:07:49,919 --> 00:07:53,800\\nlogarithms play a critical role in the\\n\\n200\\n00:07:51,879 --> 00:07:56,599\\nloss functions of the neural networks\\n\\n201\\n00:07:53,800 --> 00:07:58,199\\nthat power this generation of AI and the\\n\\n202\\n00:07:56,599 --> 00:07:59,919\\nbrilliant artificial neural networks\\n\\n203\\n00:07:58,199 --> 00:08:02,280\\ncourse is a great way way to pick up\\n\\n204\\n00:07:59,919 --> 00:08:04,960\\nthese valuable skills and there's even a\\n\\n205\\n00:08:02,280 --> 00:08:06,680\\ncourse on large language models\\n\\n206\\n00:08:04,960 --> 00:08:08,720\\nBrilliance exploring data visually\\n\\n207\\n00:08:06,680 --> 00:08:11,599\\ncourse is a great way to understand the\\n\\n208\\n00:08:08,720 --> 00:08:13,879\\nkey role that logarithms play in data\\n\\n209\\n00:08:11,599 --> 00:08:15,759\\nvisualization finally today we treat\\n\\n210\\n00:08:13,879 --> 00:08:18,240\\nlogarithms as just another mathematical\\n\\n211\\n00:08:15,759 --> 00:08:20,120\\nfunction Brilliance foundational math\\n\\n212\\n00:08:18,240 --> 00:08:22,039\\ncourses are a great way to learn or\\n\\n213\\n00:08:20,120 --> 00:08:25,000\\nbrush up on functions and other key\\n\\n214\\n00:08:22,039 --> 00:08:26,960\\nmathematical ideas in my experience\\n\\n215\\n00:08:25,000 --> 00:08:29,280\\nwatching videos will only take you so\\n\\n216\\n00:08:26,960 --> 00:08:31,560\\nfar on these topics you really have to\\n\\n217\\n00:08:29,280 --> 00:08:33,760\\nto do something and Brilliant is a\\n\\n218\\n00:08:31,560 --> 00:08:36,200\\nterrific bite-sized way to learn by\\n\\n219\\n00:08:33,760 --> 00:08:37,680\\ndoing you can try brilliant for free for\\n\\n220\\n00:08:36,200 --> 00:08:41,200\\nthe first 30 days by visiting\\n\\n221\\n00:08:37,680 --> 00:08:43,399\\nbrilliant.org Welch laabs and the first\\n\\n222\\n00:08:41,200 --> 00:08:48,160\\n200 subscribers receive 20% off\\n\\n223\\n00:08:43,399 --> 00:08:48,160\\nbrilliant's annual premium subscription\\n\\n\\n\\nChapters:\""
            ],
            "application/vnd.google.colaboratory.intrinsic+json": {
              "type": "string"
            }
          },
          "metadata": {},
          "execution_count": 71
        }
      ]
    },
    {
      "cell_type": "markdown",
      "source": [
        "# Generate chapters using the Gemini API."
      ],
      "metadata": {
        "id": "FETBrANYwEgr"
      }
    },
    {
      "cell_type": "code",
      "source": [
        "if gemini_api_key:\n",
        "    genai.configure(api_key=gemini_api_key)\n",
        "\n",
        "    # Create the model\n",
        "    generation_config = {\n",
        "      \"temperature\": 1,\n",
        "      \"top_p\": 0.95,\n",
        "      \"top_k\": 64,\n",
        "      \"max_output_tokens\": 500,\n",
        "      \"response_mime_type\": \"text/plain\",\n",
        "    }\n",
        "\n",
        "    model = genai.GenerativeModel(\n",
        "      model_name=\"gemini-2.0-pro-exp-02-05\",\n",
        "      generation_config=generation_config,\n",
        "    )\n",
        "\n",
        "    chat_session = model.start_chat(\n",
        "      history=[\n",
        "      ]\n",
        "    )\n",
        "\n",
        "    gemini_response = chat_session.send_message(prompt)"
      ],
      "metadata": {
        "id": "HZTdLTfDwk0Y"
      },
      "execution_count": 72,
      "outputs": []
    },
    {
      "cell_type": "code",
      "source": [
        "if 'gemini_response' in locals():\n",
        "    print(\"Generated Chapters:\\n\")\n",
        "    print(gemini_response.text)\n",
        "    print(\"\\nGenerated using free 'GenAI ChapterCraft' tool.\")"
      ],
      "metadata": {
        "colab": {
          "base_uri": "https://localhost:8080/"
        },
        "id": "zv1L8J6awxYL",
        "outputId": "743a6eb7-3f2e-4d89-8c86-e411755bcdc7"
      },
      "execution_count": 75,
      "outputs": [
        {
          "output_type": "stream",
          "name": "stdout",
          "text": [
            "Generated Chapters:\n",
            "\n",
            "00:00 Introduction to Bergy's Discovery\n",
            "00:20 Bergy's Number Table Construction\n",
            "01:15 Using the Table for Calculation\n",
            "02:42 Converting Operations with the Table\n",
            "03:32 The Circular Slide Rule Design\n",
            "04:57 Slide Rule Mechanics and Logarithms\n",
            "06:10 Bergy's Secrecy and Napier's Logarithms\n",
            "07:33 Logarithms in Modern Applications\n",
            "\n",
            "\n",
            "Generated using free 'GenAI ChapterCraft' tool.\n"
          ]
        }
      ]
    },
    {
      "cell_type": "markdown",
      "source": [
        "# Generate Chapters using Hugging Face"
      ],
      "metadata": {
        "id": "8sGMdbT3vgKn"
      }
    },
    {
      "cell_type": "markdown",
      "source": [
        "Login to Hugging Face"
      ],
      "metadata": {
        "id": "V833eprbKq1G"
      }
    },
    {
      "cell_type": "code",
      "source": [
        "# Log in using the API token from the HF_TOKEN\n",
        "if huggingface_api_token:\n",
        "  login(token=huggingface_api_token)"
      ],
      "metadata": {
        "id": "Vq1P8LxXKsyW"
      },
      "execution_count": 34,
      "outputs": []
    },
    {
      "cell_type": "markdown",
      "source": [
        "Generate text using the Hugging Face API (an alternative to Gemini)."
      ],
      "metadata": {
        "id": "t_SSqLnFsq90"
      }
    },
    {
      "cell_type": "code",
      "source": [
        "if huggingface_api_token:\n",
        "    # Replace with your actual model ID\n",
        "    model_id = \"Qwen/Qwen2.5-Coder-32B-Instruct\"\n",
        "\n",
        "    # Create an InferenceClient instance\n",
        "    client = InferenceClient(model=model_id)\n",
        "\n",
        "    # Define the parameters for the text generation request\n",
        "    generation_parameters = {\n",
        "        \"max_new_tokens\": 300,  # Maximum length of generated text\n",
        "        \"temperature\": 0.2,\n",
        "        \"top_p\": 0.8,\n",
        "        \"do_sample\": False,\n",
        "    }\n",
        "\n",
        "    # Send the request to the Inference API\n",
        "    hf_response = client.text_generation(prompt, **generation_parameters)"
      ],
      "metadata": {
        "collapsed": true,
        "id": "MZM9sSUbLulm"
      },
      "execution_count": 35,
      "outputs": []
    },
    {
      "cell_type": "markdown",
      "source": [
        "Print the generated chapters."
      ],
      "metadata": {
        "id": "ZrJ-kCPxtOpy"
      }
    },
    {
      "cell_type": "code",
      "source": [
        "if 'hf_response' in locals():\n",
        "    print(\"Generated Chapters:\")\n",
        "    print(hf_response)\n",
        "    print(\"\\nGenerated using free 'GenAI ChapterCraft' tool.\")"
      ],
      "metadata": {
        "colab": {
          "base_uri": "https://localhost:8080/"
        },
        "id": "HL1TdO1itR9l",
        "outputId": "cef20bbe-c679-4771-b054-1963e8374c86"
      },
      "execution_count": 52,
      "outputs": [
        {
          "output_type": "stream",
          "name": "stdout",
          "text": [
            "Generated Chapters:\n",
            " \n",
            "00:00 Introduction\n",
            "00:30 Bergie's Arithmetic and Geometric Progression Tables\n",
            "01:00 Red Numbers and Computing Device\n",
            "01:30 Construction of the Table\n",
            "02:00 Mapping Black and Red Numbers\n",
            "02:30 Multiplication Using Bergie's Table\n",
            "03:00 Other Mathematical Operations\n",
            "03:30 Historical Context and Impact\n",
            "\n",
            "00:00 Introduction\n",
            "00:30 Bergie's Tables and Red Numbers\n",
            "01:00 Construction of the Table\n",
            "01:30 Mapping Black and Red Numbers\n",
            "02:00 Multiplication Using Bergie's Table\n",
            "02:30 Other Mathematical Operations\n",
            "03:00 Historical Context and Impact\n",
            "03:30 Conclusion and Next Steps\n",
            "\n",
            "00:00 Introduction\n",
            "00:30 Bergie's Tables and Red Numbers\n",
            "01:00 Construction of the Table\n",
            "01:30 Mapping Black and Red Numbers\n",
            "02:00 Multiplication Using Bergie's Table\n",
            "02:30 Other Mathematical Operations\n",
            "03:00 Historical Context and Impact\n",
            "03:30 Conclusion\n",
            "\n",
            "00:00 Introduction\n",
            "00:30 Bergie's Tables and Red Numbers\n",
            "01:00 Construction of the Table\n",
            "01:30 Mapping Black and Red Numbers\n",
            "02:00 Multiplication Using\n",
            "\n",
            "Generated using free 'GenAI ChapterCraft' tool.\n"
          ]
        }
      ]
    }
  ]
}